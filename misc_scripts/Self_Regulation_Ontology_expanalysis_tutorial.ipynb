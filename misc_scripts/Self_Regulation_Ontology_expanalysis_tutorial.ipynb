{
 "cells": [
  {
   "cell_type": "markdown",
   "metadata": {},
   "source": [
    "# Self Regulation Ontology Project \n",
    "\n",
    "This file will start with a basic introduction to expanalysis and the python commands one would probably want to interact with expfactory data. I have also included some helper functions I have found useful that are not part of expanalysis proper. I'll make use of basic python commands along the way without explaining them. Hopefully you can understand them in context (or else google them!)\n",
    "\n",
    "**Table of Contents** \n",
    "- Loading Data\n",
    "- Basic expanalysis\n",
    "- Other functions\n",
    "\n"
   ]
  },
  {
   "cell_type": "markdown",
   "metadata": {},
   "source": [
    "## Loading Data\n",
    "\n",
    "Data is stored on an AWS server. To access the data we use expanalysis. I created a helper function that makes loading data a little easier."
   ]
  },
  {
   "cell_type": "code",
   "execution_count": 2,
   "metadata": {
    "collapsed": true
   },
   "outputs": [],
   "source": [
    "from expanalysis.results import Result, get_filters\n",
    "\n",
    "def load_data(access_token, data_loc, source = 'file', filters = None):\n",
    "    if source == 'file':\n",
    "        results = Result(filters = filters)\n",
    "        results.load_results(data_loc)\n",
    "    elif source == 'web':\n",
    "        #Load Results from Database\n",
    "        results = Result(access_token, filters = filters)\n",
    "        results.export(data_loc + '.json')\n",
    "    data = results.data\n",
    "    return data \n",
    "\n"
   ]
  },
  {
   "cell_type": "markdown",
   "metadata": {},
   "source": [
    "Expanalysis raw data comes with many identifiers that are not important for the kind of analysis we are doing. For instance, we don't care about the cognitive atlas ID. Others may be important at some stage (the experiment_version), but the hope/plan is that for any particular experiment all collected data is using the same experiment version.\n",
    "\n",
    "To remove columns we don't care about we will define a filter. This is a dictionary that specifies some expanalysis columns and what to do with them. Here we just want to drop them\n",
    "\n",
    "After that we need to specify an access token. I am loading it from a directory.\n",
    "\n",
    "Finally, loading data from the web takes a loooong time. Since we will be working with more-or-less the same data time and time again, it makes sense to save it somewhere (this is what the helper function above does). So I specify a location to use. "
   ]
  },
  {
   "cell_type": "code",
   "execution_count": 3,
   "metadata": {
    "collapsed": true
   },
   "outputs": [],
   "source": [
    "#set up filters\n",
    "filters = get_filters()\n",
    "drop_columns = ['battery_description', 'experiment_reference', 'experiment_version', \\\n",
    "         'experiment_name','experiment_cognitive_atlas_task']\n",
    "for col in drop_columns:\n",
    "    filters[col] = {'drop': True}\n",
    "\n",
    "                  \n",
    "f = open('/home/ian/Experiments/expfactory/docs/expfactory_token.txt')\n",
    "access_token = f.read().strip()      \n",
    "data_loc = '/home/ian/Experiments/expfactory/Self_Regulation_Ontology/Data/Pilot_Results'     \n"
   ]
  },
  {
   "cell_type": "markdown",
   "metadata": {},
   "source": [
    "Now with all of that specified we can load the data. If you are loading the data for the first time, or want the most up-to-date data, set `source` to 'web'. Otherwise set it to 'file'"
   ]
  },
  {
   "cell_type": "code",
   "execution_count": 53,
   "metadata": {
    "collapsed": false
   },
   "outputs": [
    {
     "name": "stdout",
     "output_type": "stream",
     "text": [
      "Empty datasets found! See Results.empty field\n"
     ]
    }
   ],
   "source": [
    "source_data = load_data(access_token, data_loc, filters = filters, source = 'file')\n"
   ]
  },
  {
   "cell_type": "markdown",
   "metadata": {},
   "source": [
    "So that gives you a dataframe that houses your data. Yay! Let's look at what it looks like:"
   ]
  },
  {
   "cell_type": "code",
   "execution_count": 14,
   "metadata": {
    "collapsed": false
   },
   "outputs": [
    {
     "name": "stdout",
     "output_type": "stream",
     "text": [
      "Dimensions (Rows x Cols): (3497, 8)\n",
      "\n",
      "Columns:\n",
      "Index([         u'finishtime',        u'battery_name',           u'worker_id',\n",
      "                  u'platform', u'experiment_template',   u'experiment_exp_id',\n",
      "                      u'data',             u'browser'],\n",
      "      dtype='object')\n"
     ]
    }
   ],
   "source": [
    "print 'Dimensions (Rows x Cols):', source_data.shape\n",
    "print '\\nColumns:'\n",
    "print source_data.columns"
   ]
  },
  {
   "cell_type": "markdown",
   "metadata": {},
   "source": [
    "Each row is one subject's data for one task. The columns are self-explanatory. The import things to note is that _all the data_ is in one column - the data column. Let's look at one row's data column (just the first 5 trials)."
   ]
  },
  {
   "cell_type": "code",
   "execution_count": 65,
   "metadata": {
    "collapsed": false
   },
   "outputs": [
    {
     "name": "stdout",
     "output_type": "stream",
     "text": [
      "angling_risk_task_always_sunny\n",
      "<type 'list'>\n"
     ]
    },
    {
     "data": {
      "text/plain": [
       "[{u'current_trial': 0,\n",
       "  u'dateTime': 1460134802612,\n",
       "  u'trialdata': {u'internal_node_id': u'0.0-0.0-0.0',\n",
       "   u'key_press': 13,\n",
       "   u'rt': 29250,\n",
       "   u'time_elapsed': 29251,\n",
       "   u'trial_id': u'instruction',\n",
       "   u'trial_index': 0,\n",
       "   u'trial_type': u'poldrack-text'},\n",
       "  u'uniqueid': u'583'},\n",
       " {u'current_trial': 1,\n",
       "  u'dateTime': 1460134840600,\n",
       "  u'trialdata': {u'internal_node_id': u'0.0-0.0-1.0',\n",
       "   u'rt': 37968,\n",
       "   u'time_elapsed': 67229,\n",
       "   u'trial_id': u'instruction',\n",
       "   u'trial_index': 1,\n",
       "   u'trial_type': u'poldrack-instructions',\n",
       "   u'view_history': u'[{\"page_index\":0,\"viewing_time\":37968}]'},\n",
       "  u'uniqueid': u'583'},\n",
       " {u'current_trial': 2,\n",
       "  u'dateTime': 1460134902643,\n",
       "  u'trialdata': {u'exp_stage': u'practice',\n",
       "   u'internal_node_id': u'0.0-1.0',\n",
       "   u'key_press': 13,\n",
       "   u'release': u'Keep',\n",
       "   u'rt': 61037,\n",
       "   u'time_elapsed': 129282,\n",
       "   u'trial_id': u'intro',\n",
       "   u'trial_index': 2,\n",
       "   u'trial_type': u'poldrack-text',\n",
       "   u'weather': u'Sunny'},\n",
       "  u'uniqueid': u'583'},\n",
       " {u'current_trial': 3,\n",
       "  u'dateTime': 1460134919820,\n",
       "  u'trialdata': {u'internal_node_id': u'0.0-2.0',\n",
       "   u'responses': u'{\"Q0\":\"100\"}',\n",
       "   u'rt': 16173,\n",
       "   u'time_elapsed': 146459,\n",
       "   u'trial_id': u'ask fish',\n",
       "   u'trial_index': 3,\n",
       "   u'trial_type': u'survey-text'},\n",
       "  u'uniqueid': u'583'},\n",
       " {u'current_trial': 4,\n",
       "  u'dateTime': 1460134920838,\n",
       "  u'trialdata': {u'internal_node_id': u'0.0-3.0',\n",
       "   u'time_elapsed': 147477,\n",
       "   u'trial_id': u'set_fish',\n",
       "   u'trial_index': 4,\n",
       "   u'trial_type': u'call-function'},\n",
       "  u'uniqueid': u'583'}]"
      ]
     },
     "execution_count": 65,
     "metadata": {},
     "output_type": "execute_result"
    }
   ],
   "source": [
    "print source_data.iloc[1]['experiment_exp_id']\n",
    "print type(source_data.iloc[1]['data'])\n",
    "source_data.iloc[1]['data'][0:5]"
   ]
  },
  {
   "cell_type": "markdown",
   "metadata": {},
   "source": [
    "We see that the data is quite large. After all, this cell holds all of the data for that task! The exact format of this data can differ depending on the _template_ used in expfactory. There are two main templates for us right now - jspsych and expfactory-survey.\n",
    "\n",
    "Rather than explain how this data is stored, there are expanalysis commands to help you extract it. But before we get there let's finish loading the data!\n",
    "\n",
    "#### More Filtering \n",
    "Right now we have loaded _all_ of the data from expfactory, regardless of whether we want it or not. To filter it down to only the stuff we want, we have to make use of another function:"
   ]
  },
  {
   "cell_type": "code",
   "execution_count": 54,
   "metadata": {
    "collapsed": true
   },
   "outputs": [],
   "source": [
    "from expanalysis.experiments.utils import result_filter\n",
    "\n",
    "#This filter ensures that all datasets come after this time\n",
    "first_update_time = '2016-04-17T04:24:37.041870Z'\n",
    "data = result_filter(source_data, battery = ['Self Regulation Pilot', 'Self Regulation Subset Battery'], \\\n",
    "                     finishtime = first_update_time)"
   ]
  },
  {
   "cell_type": "markdown",
   "metadata": {},
   "source": [
    "`result_filter` can filter the data based on battery names, particular workers, particular experiments, or time. It can either take a string or array as the argument for each field and filter appropriately. (Though documentation is a work in progress, if I've been good you can see the way to use any function by typing `function?`\n",
    "\n",
    "#### Nice-to-Haves\n",
    "Now that we've filtered it, we are going to use a few more helper functions that add 'nice to have' features to the data."
   ]
  },
  {
   "cell_type": "code",
   "execution_count": 55,
   "metadata": {
    "collapsed": false
   },
   "outputs": [],
   "source": [
    "from expanalysis.experiments.utils import anonymize_data\n",
    "from expanalysis.experiments.jspsych import calc_time_taken, get_post_task_responses\n",
    "worker_lookup = anonymize_data(data)\n",
    "calc_time_taken(data)\n",
    "get_post_task_responses(data)"
   ]
  },
  {
   "cell_type": "markdown",
   "metadata": {},
   "source": [
    "These functions (in order)\n",
    "- replace the worker_IDs with anonymized subject IDs and stores that relationship in a worker_lookup dictionary\n",
    "- Adds columns to the data set for the total time taken for each task (when it is available, i.e. jspsych experiments), time on instructions and time on task\n",
    "- Adds a column with the post task questionnaire responses\n",
    "\n",
    "Below I've printed the columns (compare to the columns when we first uploaded the data) and used another helper function to print the time taken"
   ]
  },
  {
   "cell_type": "code",
   "execution_count": 28,
   "metadata": {
    "collapsed": false
   },
   "outputs": [
    {
     "name": "stdout",
     "output_type": "stream",
     "text": [
      "Index([         u'finishtime',        u'battery_name',           u'worker_id',\n",
      "                  u'platform', u'experiment_template',   u'experiment_exp_id',\n",
      "                      u'data',             u'browser',          u'total_time',\n",
      "             u'instruct_time',         u'ontask_time', u'post_task_responses'],\n",
      "      dtype='object') \n",
      "\n",
      "experiment_exp_id\n",
      "adaptive_n_back                                15.85\n",
      "angling_risk_task_always_sunny                 11.10\n",
      "attention_network_task                         14.82\n",
      "bickel_titrator                                 4.84\n",
      "choice_reaction_time                            3.75\n",
      "columbia_card_task_cold                         6.07\n",
      "columbia_card_task_hot                          4.74\n",
      "dietary_decision                                5.65\n",
      "digit_span                                      8.69\n",
      "directed_forgetting                            19.86\n",
      "discount_titrate                                2.70\n",
      "dot_pattern_expectancy                         17.74\n",
      "go_nogo                                         7.93\n",
      "hierarchical_rule                              27.92\n",
      "information_sampling_task                       7.59\n",
      "keep_track                                     10.61\n",
      "kirby                                           2.11\n",
      "local_global_letter                             5.56\n",
      "motor_selective_stop_signal                    19.36\n",
      "probabilistic_selection                        17.09\n",
      "psychological_refractory_period_two_choices    12.72\n",
      "ravens                                         13.04\n",
      "recent_probes                                  19.44\n",
      "shift_task                                     20.42\n",
      "simon                                           7.19\n",
      "simple_reaction_time                            4.32\n",
      "spatial_span                                    7.64\n",
      "stim_selective_stop_signal                     18.34\n",
      "stop_signal                                    29.27\n",
      "stroop                                          8.02\n",
      "threebytwo                                     24.96\n",
      "tower_of_london                                 5.40\n",
      "two_stage_decision                             18.63\n",
      "willingness_to_wait                             9.55\n",
      "writing_task                                   22.55\n",
      "Name: ontask_time, dtype: float64\n"
     ]
    }
   ],
   "source": [
    "print data.columns, '\\n'\n",
    "\n",
    "def print_time(data, time_col = 'ontask_time'):\n",
    "    '''Prints time taken for each experiment in minutes\n",
    "    :param time_col: Dataframe column of time in seconds\n",
    "    '''\n",
    "    df = data.copy()    \n",
    "    assert time_col in df, \\\n",
    "        '\"%s\" has not been calculated yet. Use calc_time_taken method' % (time_col)\n",
    "    #drop rows where time can't be calculated\n",
    "    df = df.dropna(subset = [time_col])\n",
    "    time = (df.groupby('experiment_exp_id')[time_col].mean()/60.0).round(2)\n",
    "    print(time)\n",
    "    return time\n",
    "\n",
    "\n",
    "time_taken = print_time(data)"
   ]
  },
  {
   "cell_type": "markdown",
   "metadata": {},
   "source": [
    "Done loading the data!\n",
    "\n",
    "## Accessing experiments\n",
    "\n",
    "Above I mentioned that the data is stored in different ways depending on the experiment, and is in a relatively unuseable form (in one cell of a dataframe). Expanalysis has functions that let us extract experiments from either rows of the total dataframe (so returning one subject's data) or based on an experiment ID (returning a dataframe with all the data across ubjects for one experiment\n",
    "\n",
    "Below are examples. Many expanalysis functions take a `clean` flag. If the `clean` flag is set to True (by default) then the data is transformed in many ways (which differ based on the experiment) before being returned. If you'd like to see the raw data (but still have the data returned as a pretty pandas dataframe), set `clean` to false."
   ]
  },
  {
   "cell_type": "code",
   "execution_count": 36,
   "metadata": {
    "collapsed": false
   },
   "outputs": [
    {
     "name": "stdout",
     "output_type": "stream",
     "text": [
      "[u'adaptive_n_back' u'angling_risk_task_always_sunny'\n",
      " u'attention_network_task' u'bickel_titrator' u'bis11_survey'\n",
      " u'bis_bas_survey' u'brief_self_control_survey' u'choice_reaction_time'\n",
      " u'cognitive_reflection_survey' u'columbia_card_task_cold'\n",
      " u'columbia_card_task_hot' u'demographics_survey' u'dickman_survey'\n",
      " u'dietary_decision' u'digit_span' u'directed_forgetting'\n",
      " u'discount_titrate' u'dospert_eb_survey' u'dospert_rp_survey'\n",
      " u'dospert_rt_survey' u'dot_pattern_expectancy' u'eating_survey'\n",
      " u'erq_survey' u'five_facet_mindfulness_survey'\n",
      " u'future_time_perspective_survey' u'go_nogo' u'grit_scale_survey'\n",
      " u'hierarchical_rule' u'holt_laury_survey' u'impulsive_venture_survey'\n",
      " u'information_sampling_task' u'keep_track' u'kirby'\n",
      " u'leisure_time_activity_survey' u'local_global_letter'\n",
      " u'mindful_attention_awareness_survey' u'motor_selective_stop_signal'\n",
      " u'mpq_control_survey' u'probabilistic_selection'\n",
      " u'psychological_refractory_period_two_choices' u'ravens' u'recent_probes'\n",
      " u'selection_optimization_compensation' u'self_regulation_survey'\n",
      " u'sensation_seeking_survey' u'shift_task' u'simon' u'simple_reaction_time'\n",
      " u'spatial_span' u'stim_selective_stop_signal' u'stop_signal' u'stroop'\n",
      " u'ten_item_personality_survey' u'theories_of_willpower_survey'\n",
      " u'threebytwo' u'time_perspective_survey' u'tower_of_london'\n",
      " u'two_stage_decision' u'upps_impulsivity_survey' u'willingness_to_wait'\n",
      " u'writing_task'] \n",
      "\n",
      "Data for one subject for the adaptive_n_back Dimensions:  (445, 20)\n",
      "Data for all subjects on the stroop task. Dimensions:  (5160, 18)\n"
     ]
    }
   ],
   "source": [
    "from expanalysis.experiments.processing import extract_row,  extract_experiment\n",
    "\n",
    "one_subject_df = extract_row(data.iloc[1])\n",
    "# To extract one experiment, you need to provide the exact experiment ID. If you want to see what experiment IDs\n",
    "# are in the dataframe, you can type 'data['experiment_exp_id'].unique() as below'\n",
    "one_experiment_df = extract_experiment(data, 'stroop')\n",
    "\n",
    "#viewing the experiments in the dataframe\n",
    "print data.experiment_exp_id.unique(), '\\n'\n",
    "\n",
    "print 'Data for one subject for the %s' % data.iloc[1].experiment_exp_id, 'Dimensions: ', one_subject_df.shape\n",
    "print 'Data for all subjects on the stroop task. Dimensions: ', one_experiment_df.shape"
   ]
  },
  {
   "cell_type": "markdown",
   "metadata": {},
   "source": [
    "**We can look at the data for these subjects.** I'll just use `the one_experiment_df` as an example. If your screen is wide enough, pandas prints very nicely. Otherwise it can be a bit messy looking. As usual, I'll print the columns first. Below I also print the columns for the stroop task _before_ it is \"cleaned\" so you can get a small sense of what is changing."
   ]
  },
  {
   "cell_type": "code",
   "execution_count": 39,
   "metadata": {
    "collapsed": false
   },
   "outputs": [
    {
     "name": "stdout",
     "output_type": "stream",
     "text": [
      "Columns: Index([      u'battery_name',          u'condition',            u'correct',\n",
      "         u'correct_response',          u'exp_stage',  u'experiment_exp_id',\n",
      "               u'finishtime',       u'focus_shifts',        u'full_screen',\n",
      "                u'key_press', u'possible_responses',                 u'rt',\n",
      "               u'stim_color',          u'stim_word',       u'time_elapsed',\n",
      "                 u'trial_id',         u'trial_type',          u'worker_id'],\n",
      "      dtype='object') \n",
      "\n",
      "Columns before cleaning: Index([      u'battery_name',     u'block_duration',          u'condition',\n",
      "                  u'correct',   u'correct_response',         u'credit_var',\n",
      "                   u'exp_id',          u'exp_stage',  u'experiment_exp_id',\n",
      "        u'feedback_duration',         u'finishtime',       u'focus_shifts',\n",
      "              u'full_screen',   u'internal_node_id',          u'key_press',\n",
      "       u'possible_responses',          u'responses',                 u'rt',\n",
      "               u'stim_color',      u'stim_duration',          u'stim_word',\n",
      "                 u'stimulus',       u'time_elapsed',  u'timing_post_trial',\n",
      "                 u'trial_id',        u'trial_index',         u'trial_type',\n",
      "             u'view_history',          u'worker_id'],\n",
      "      dtype='object') \n",
      "\n",
      "                        battery_name    condition correct  correct_response  \\\n",
      "stroop_0_4     Self Regulation Pilot  incongruent   False              66.0   \n",
      "stroop_0_6     Self Regulation Pilot    congruent    True              66.0   \n",
      "stroop_0_8     Self Regulation Pilot  incongruent    True              82.0   \n",
      "stroop_0_10    Self Regulation Pilot    congruent    True              82.0   \n",
      "stroop_0_12    Self Regulation Pilot  incongruent    True              71.0   \n",
      "stroop_0_14    Self Regulation Pilot    congruent    True              71.0   \n",
      "stroop_0_16    Self Regulation Pilot  incongruent    True              66.0   \n",
      "stroop_0_18    Self Regulation Pilot  incongruent    True              71.0   \n",
      "stroop_0_20    Self Regulation Pilot  incongruent    True              66.0   \n",
      "stroop_0_22    Self Regulation Pilot    congruent    True              82.0   \n",
      "stroop_0_24    Self Regulation Pilot  incongruent    True              66.0   \n",
      "stroop_0_26    Self Regulation Pilot    congruent    True              82.0   \n",
      "stroop_0_28    Self Regulation Pilot    congruent    True              66.0   \n",
      "stroop_0_30    Self Regulation Pilot    congruent    True              71.0   \n",
      "stroop_0_32    Self Regulation Pilot    congruent    True              71.0   \n",
      "stroop_0_34    Self Regulation Pilot  incongruent    True              82.0   \n",
      "stroop_0_36    Self Regulation Pilot    congruent    True              71.0   \n",
      "stroop_0_38    Self Regulation Pilot  incongruent    True              82.0   \n",
      "stroop_0_40    Self Regulation Pilot  incongruent    True              71.0   \n",
      "stroop_0_42    Self Regulation Pilot  incongruent    True              82.0   \n",
      "stroop_0_44    Self Regulation Pilot    congruent    True              66.0   \n",
      "stroop_0_46    Self Regulation Pilot  incongruent    True              71.0   \n",
      "stroop_0_48    Self Regulation Pilot    congruent    True              66.0   \n",
      "stroop_0_50    Self Regulation Pilot    congruent    True              82.0   \n",
      "stroop_0_53    Self Regulation Pilot  incongruent    True              82.0   \n",
      "stroop_0_55    Self Regulation Pilot  incongruent    True              82.0   \n",
      "stroop_0_57    Self Regulation Pilot  incongruent    True              82.0   \n",
      "stroop_0_59    Self Regulation Pilot  incongruent    True              82.0   \n",
      "stroop_0_61    Self Regulation Pilot    congruent    True              66.0   \n",
      "stroop_0_63    Self Regulation Pilot    congruent    True              82.0   \n",
      "...                              ...          ...     ...               ...   \n",
      "stroop_42_185  Self Regulation Pilot    congruent    True              82.0   \n",
      "stroop_42_187  Self Regulation Pilot  incongruent    True              71.0   \n",
      "stroop_42_189  Self Regulation Pilot    congruent    True              66.0   \n",
      "stroop_42_191  Self Regulation Pilot  incongruent    True              66.0   \n",
      "stroop_42_193  Self Regulation Pilot    congruent    True              71.0   \n",
      "stroop_42_195  Self Regulation Pilot    congruent    True              71.0   \n",
      "stroop_42_197  Self Regulation Pilot  incongruent    True              66.0   \n",
      "stroop_42_199  Self Regulation Pilot    congruent    True              66.0   \n",
      "stroop_42_201  Self Regulation Pilot  incongruent    True              82.0   \n",
      "stroop_42_203  Self Regulation Pilot  incongruent    True              66.0   \n",
      "stroop_42_205  Self Regulation Pilot  incongruent    True              66.0   \n",
      "stroop_42_207  Self Regulation Pilot  incongruent    True              82.0   \n",
      "stroop_42_209  Self Regulation Pilot  incongruent    True              82.0   \n",
      "stroop_42_211  Self Regulation Pilot    congruent    True              66.0   \n",
      "stroop_42_213  Self Regulation Pilot    congruent    True              71.0   \n",
      "stroop_42_215  Self Regulation Pilot    congruent    True              82.0   \n",
      "stroop_42_217  Self Regulation Pilot    congruent    True              66.0   \n",
      "stroop_42_219  Self Regulation Pilot    congruent    True              82.0   \n",
      "stroop_42_221  Self Regulation Pilot  incongruent    True              82.0   \n",
      "stroop_42_223  Self Regulation Pilot    congruent    True              82.0   \n",
      "stroop_42_225  Self Regulation Pilot    congruent    True              82.0   \n",
      "stroop_42_227  Self Regulation Pilot    congruent    True              66.0   \n",
      "stroop_42_229  Self Regulation Pilot  incongruent    True              66.0   \n",
      "stroop_42_231  Self Regulation Pilot  incongruent    True              82.0   \n",
      "stroop_42_233  Self Regulation Pilot    congruent    True              71.0   \n",
      "stroop_42_235  Self Regulation Pilot    congruent    True              82.0   \n",
      "stroop_42_237  Self Regulation Pilot    congruent    True              66.0   \n",
      "stroop_42_239  Self Regulation Pilot    congruent    True              82.0   \n",
      "stroop_42_241  Self Regulation Pilot  incongruent    True              66.0   \n",
      "stroop_42_243  Self Regulation Pilot  incongruent    True              66.0   \n",
      "\n",
      "              exp_stage experiment_exp_id                   finishtime  \\\n",
      "stroop_0_4          NaN            stroop  2016-04-12T19:19:42.618322Z   \n",
      "stroop_0_6          NaN            stroop  2016-04-12T19:19:42.618322Z   \n",
      "stroop_0_8          NaN            stroop  2016-04-12T19:19:42.618322Z   \n",
      "stroop_0_10         NaN            stroop  2016-04-12T19:19:42.618322Z   \n",
      "stroop_0_12         NaN            stroop  2016-04-12T19:19:42.618322Z   \n",
      "stroop_0_14         NaN            stroop  2016-04-12T19:19:42.618322Z   \n",
      "stroop_0_16         NaN            stroop  2016-04-12T19:19:42.618322Z   \n",
      "stroop_0_18         NaN            stroop  2016-04-12T19:19:42.618322Z   \n",
      "stroop_0_20         NaN            stroop  2016-04-12T19:19:42.618322Z   \n",
      "stroop_0_22         NaN            stroop  2016-04-12T19:19:42.618322Z   \n",
      "stroop_0_24         NaN            stroop  2016-04-12T19:19:42.618322Z   \n",
      "stroop_0_26         NaN            stroop  2016-04-12T19:19:42.618322Z   \n",
      "stroop_0_28         NaN            stroop  2016-04-12T19:19:42.618322Z   \n",
      "stroop_0_30         NaN            stroop  2016-04-12T19:19:42.618322Z   \n",
      "stroop_0_32         NaN            stroop  2016-04-12T19:19:42.618322Z   \n",
      "stroop_0_34         NaN            stroop  2016-04-12T19:19:42.618322Z   \n",
      "stroop_0_36         NaN            stroop  2016-04-12T19:19:42.618322Z   \n",
      "stroop_0_38         NaN            stroop  2016-04-12T19:19:42.618322Z   \n",
      "stroop_0_40         NaN            stroop  2016-04-12T19:19:42.618322Z   \n",
      "stroop_0_42         NaN            stroop  2016-04-12T19:19:42.618322Z   \n",
      "stroop_0_44         NaN            stroop  2016-04-12T19:19:42.618322Z   \n",
      "stroop_0_46         NaN            stroop  2016-04-12T19:19:42.618322Z   \n",
      "stroop_0_48         NaN            stroop  2016-04-12T19:19:42.618322Z   \n",
      "stroop_0_50         NaN            stroop  2016-04-12T19:19:42.618322Z   \n",
      "stroop_0_53         NaN            stroop  2016-04-12T19:19:42.618322Z   \n",
      "stroop_0_55         NaN            stroop  2016-04-12T19:19:42.618322Z   \n",
      "stroop_0_57         NaN            stroop  2016-04-12T19:19:42.618322Z   \n",
      "stroop_0_59         NaN            stroop  2016-04-12T19:19:42.618322Z   \n",
      "stroop_0_61         NaN            stroop  2016-04-12T19:19:42.618322Z   \n",
      "stroop_0_63         NaN            stroop  2016-04-12T19:19:42.618322Z   \n",
      "...                 ...               ...                          ...   \n",
      "stroop_42_185      test            stroop  2016-05-21T02:50:23.630904Z   \n",
      "stroop_42_187      test            stroop  2016-05-21T02:50:23.630904Z   \n",
      "stroop_42_189      test            stroop  2016-05-21T02:50:23.630904Z   \n",
      "stroop_42_191      test            stroop  2016-05-21T02:50:23.630904Z   \n",
      "stroop_42_193      test            stroop  2016-05-21T02:50:23.630904Z   \n",
      "stroop_42_195      test            stroop  2016-05-21T02:50:23.630904Z   \n",
      "stroop_42_197      test            stroop  2016-05-21T02:50:23.630904Z   \n",
      "stroop_42_199      test            stroop  2016-05-21T02:50:23.630904Z   \n",
      "stroop_42_201      test            stroop  2016-05-21T02:50:23.630904Z   \n",
      "stroop_42_203      test            stroop  2016-05-21T02:50:23.630904Z   \n",
      "stroop_42_205      test            stroop  2016-05-21T02:50:23.630904Z   \n",
      "stroop_42_207      test            stroop  2016-05-21T02:50:23.630904Z   \n",
      "stroop_42_209      test            stroop  2016-05-21T02:50:23.630904Z   \n",
      "stroop_42_211      test            stroop  2016-05-21T02:50:23.630904Z   \n",
      "stroop_42_213      test            stroop  2016-05-21T02:50:23.630904Z   \n",
      "stroop_42_215      test            stroop  2016-05-21T02:50:23.630904Z   \n",
      "stroop_42_217      test            stroop  2016-05-21T02:50:23.630904Z   \n",
      "stroop_42_219      test            stroop  2016-05-21T02:50:23.630904Z   \n",
      "stroop_42_221      test            stroop  2016-05-21T02:50:23.630904Z   \n",
      "stroop_42_223      test            stroop  2016-05-21T02:50:23.630904Z   \n",
      "stroop_42_225      test            stroop  2016-05-21T02:50:23.630904Z   \n",
      "stroop_42_227      test            stroop  2016-05-21T02:50:23.630904Z   \n",
      "stroop_42_229      test            stroop  2016-05-21T02:50:23.630904Z   \n",
      "stroop_42_231      test            stroop  2016-05-21T02:50:23.630904Z   \n",
      "stroop_42_233      test            stroop  2016-05-21T02:50:23.630904Z   \n",
      "stroop_42_235      test            stroop  2016-05-21T02:50:23.630904Z   \n",
      "stroop_42_237      test            stroop  2016-05-21T02:50:23.630904Z   \n",
      "stroop_42_239      test            stroop  2016-05-21T02:50:23.630904Z   \n",
      "stroop_42_241      test            stroop  2016-05-21T02:50:23.630904Z   \n",
      "stroop_42_243      test            stroop  2016-05-21T02:50:23.630904Z   \n",
      "\n",
      "               focus_shifts full_screen  key_press possible_responses    rt  \\\n",
      "stroop_0_4              NaN         NaN       -1.0       [66, 71, 82]    -1   \n",
      "stroop_0_6              NaN         NaN       66.0       [66, 71, 82]   590   \n",
      "stroop_0_8              NaN         NaN       82.0       [66, 71, 82]  1073   \n",
      "stroop_0_10             NaN         NaN       82.0       [66, 71, 82]  1154   \n",
      "stroop_0_12             NaN         NaN       71.0       [66, 71, 82]  1397   \n",
      "stroop_0_14             NaN         NaN       71.0       [66, 71, 82]  1123   \n",
      "stroop_0_16             NaN         NaN       66.0       [66, 71, 82]  1042   \n",
      "stroop_0_18             NaN         NaN       71.0       [66, 71, 82]  1132   \n",
      "stroop_0_20             NaN         NaN       66.0       [66, 71, 82]  1080   \n",
      "stroop_0_22             NaN         NaN       82.0       [66, 71, 82]   983   \n",
      "stroop_0_24             NaN         NaN       66.0       [66, 71, 82]  1146   \n",
      "stroop_0_26             NaN         NaN       82.0       [66, 71, 82]  1138   \n",
      "stroop_0_28             NaN         NaN       66.0       [66, 71, 82]   813   \n",
      "stroop_0_30             NaN         NaN       71.0       [66, 71, 82]   977   \n",
      "stroop_0_32             NaN         NaN       71.0       [66, 71, 82]   739   \n",
      "stroop_0_34             NaN         NaN       82.0       [66, 71, 82]   904   \n",
      "stroop_0_36             NaN         NaN       71.0       [66, 71, 82]   853   \n",
      "stroop_0_38             NaN         NaN       82.0       [66, 71, 82]   921   \n",
      "stroop_0_40             NaN         NaN       71.0       [66, 71, 82]  1113   \n",
      "stroop_0_42             NaN         NaN       82.0       [66, 71, 82]   940   \n",
      "stroop_0_44             NaN         NaN       66.0       [66, 71, 82]   870   \n",
      "stroop_0_46             NaN         NaN       71.0       [66, 71, 82]   996   \n",
      "stroop_0_48             NaN         NaN       66.0       [66, 71, 82]   770   \n",
      "stroop_0_50             NaN         NaN       82.0       [66, 71, 82]   694   \n",
      "stroop_0_53             NaN         NaN       82.0       [66, 71, 82]   835   \n",
      "stroop_0_55             NaN         NaN       82.0       [66, 71, 82]  1434   \n",
      "stroop_0_57             NaN         NaN       82.0       [66, 71, 82]  1027   \n",
      "stroop_0_59             NaN         NaN       82.0       [66, 71, 82]   853   \n",
      "stroop_0_61             NaN         NaN       66.0       [66, 71, 82]   934   \n",
      "stroop_0_63             NaN         NaN       82.0       [66, 71, 82]   750   \n",
      "...                     ...         ...        ...                ...   ...   \n",
      "stroop_42_185           0.0        True       82.0       [66, 71, 82]   425   \n",
      "stroop_42_187           0.0        True       71.0       [66, 71, 82]  1183   \n",
      "stroop_42_189           0.0        True       66.0       [66, 71, 82]   693   \n",
      "stroop_42_191           0.0        True       66.0       [66, 71, 82]   452   \n",
      "stroop_42_193           0.0        True       71.0       [66, 71, 82]   545   \n",
      "stroop_42_195           0.0        True       71.0       [66, 71, 82]   451   \n",
      "stroop_42_197           0.0        True       66.0       [66, 71, 82]   554   \n",
      "stroop_42_199           0.0        True       66.0       [66, 71, 82]   423   \n",
      "stroop_42_201           0.0        True       82.0       [66, 71, 82]   435   \n",
      "stroop_42_203           0.0        True       66.0       [66, 71, 82]   955   \n",
      "stroop_42_205           0.0        True       66.0       [66, 71, 82]   444   \n",
      "stroop_42_207           0.0        True       82.0       [66, 71, 82]   642   \n",
      "stroop_42_209           0.0        True       82.0       [66, 71, 82]   413   \n",
      "stroop_42_211           0.0        True       66.0       [66, 71, 82]   612   \n",
      "stroop_42_213           0.0        True       71.0       [66, 71, 82]   643   \n",
      "stroop_42_215           0.0        True       82.0       [66, 71, 82]   490   \n",
      "stroop_42_217           0.0        True       66.0       [66, 71, 82]   526   \n",
      "stroop_42_219           0.0        True       82.0       [66, 71, 82]   485   \n",
      "stroop_42_221           0.0        True       82.0       [66, 71, 82]   662   \n",
      "stroop_42_223           0.0        True       82.0       [66, 71, 82]   439   \n",
      "stroop_42_225           0.0        True       82.0       [66, 71, 82]   374   \n",
      "stroop_42_227           0.0        True       66.0       [66, 71, 82]  1193   \n",
      "stroop_42_229           0.0        True       66.0       [66, 71, 82]   359   \n",
      "stroop_42_231           0.0        True       82.0       [66, 71, 82]   591   \n",
      "stroop_42_233           0.0        True       71.0       [66, 71, 82]   863   \n",
      "stroop_42_235           0.0        True       82.0       [66, 71, 82]   589   \n",
      "stroop_42_237           0.0        True       66.0       [66, 71, 82]   493   \n",
      "stroop_42_239           0.0        True       82.0       [66, 71, 82]   638   \n",
      "stroop_42_241           0.0        True       66.0       [66, 71, 82]   684   \n",
      "stroop_42_243           0.0        True       66.0       [66, 71, 82]   696   \n",
      "\n",
      "              stim_color stim_word  time_elapsed trial_id  \\\n",
      "stroop_0_4          blue     green         52830     stim   \n",
      "stroop_0_6          blue      blue         56123     stim   \n",
      "stroop_0_8           red     green         59406     stim   \n",
      "stroop_0_10          red       red         62690     stim   \n",
      "stroop_0_12        green      blue         65976     stim   \n",
      "stroop_0_14        green     green         69253     stim   \n",
      "stroop_0_16         blue     green         72540     stim   \n",
      "stroop_0_18        green       red         75833     stim   \n",
      "stroop_0_20         blue       red         79129     stim   \n",
      "stroop_0_22          red       red         82410     stim   \n",
      "stroop_0_24         blue       red         85700     stim   \n",
      "stroop_0_26          red       red         88993     stim   \n",
      "stroop_0_28         blue      blue         92290     stim   \n",
      "stroop_0_30        green     green         95576     stim   \n",
      "stroop_0_32        green     green         98866     stim   \n",
      "stroop_0_34          red     green        102162     stim   \n",
      "stroop_0_36        green     green        105433     stim   \n",
      "stroop_0_38          red      blue        108713     stim   \n",
      "stroop_0_40        green       red        112000     stim   \n",
      "stroop_0_42          red      blue        115279     stim   \n",
      "stroop_0_44         blue      blue        118573     stim   \n",
      "stroop_0_46        green      blue        121859     stim   \n",
      "stroop_0_48         blue      blue        125146     stim   \n",
      "stroop_0_50          red       red        128432     stim   \n",
      "stroop_0_53          red      blue        137159     stim   \n",
      "stroop_0_55          red     green        140449     stim   \n",
      "stroop_0_57          red     green        143739     stim   \n",
      "stroop_0_59          red     green        147016     stim   \n",
      "stroop_0_61         blue      blue        150296     stim   \n",
      "stroop_0_63          red       red        153589     stim   \n",
      "...                  ...       ...           ...      ...   \n",
      "stroop_42_185        red       red        342650     stim   \n",
      "stroop_42_187      green      blue        345908     stim   \n",
      "stroop_42_189       blue      blue        349166     stim   \n",
      "stroop_42_191       blue       red        352423     stim   \n",
      "stroop_42_193      green     green        355681     stim   \n",
      "stroop_42_195      green     green        358935     stim   \n",
      "stroop_42_197       blue     green        362200     stim   \n",
      "stroop_42_199       blue      blue        365463     stim   \n",
      "stroop_42_201        red      blue        368720     stim   \n",
      "stroop_42_203       blue     green        371975     stim   \n",
      "stroop_42_205       blue       red        375230     stim   \n",
      "stroop_42_207        red      blue        378493     stim   \n",
      "stroop_42_209        red      blue        381751     stim   \n",
      "stroop_42_211       blue      blue        385007     stim   \n",
      "stroop_42_213      green     green        388263     stim   \n",
      "stroop_42_215        red       red        391523     stim   \n",
      "stroop_42_217       blue      blue        394780     stim   \n",
      "stroop_42_219        red       red        398038     stim   \n",
      "stroop_42_221        red      blue        401309     stim   \n",
      "stroop_42_223        red       red        404564     stim   \n",
      "stroop_42_225        red       red        407822     stim   \n",
      "stroop_42_227       blue      blue        411082     stim   \n",
      "stroop_42_229       blue     green        414339     stim   \n",
      "stroop_42_231        red     green        417596     stim   \n",
      "stroop_42_233      green     green        420859     stim   \n",
      "stroop_42_235        red       red        424117     stim   \n",
      "stroop_42_237       blue      blue        427383     stim   \n",
      "stroop_42_239        red       red        430637     stim   \n",
      "stroop_42_241       blue       red        433900     stim   \n",
      "stroop_42_243       blue       red        437155     stim   \n",
      "\n",
      "                        trial_type worker_id  \n",
      "stroop_0_4     poldrack-categorize      s000  \n",
      "stroop_0_6     poldrack-categorize      s000  \n",
      "stroop_0_8     poldrack-categorize      s000  \n",
      "stroop_0_10    poldrack-categorize      s000  \n",
      "stroop_0_12    poldrack-categorize      s000  \n",
      "stroop_0_14    poldrack-categorize      s000  \n",
      "stroop_0_16    poldrack-categorize      s000  \n",
      "stroop_0_18    poldrack-categorize      s000  \n",
      "stroop_0_20    poldrack-categorize      s000  \n",
      "stroop_0_22    poldrack-categorize      s000  \n",
      "stroop_0_24    poldrack-categorize      s000  \n",
      "stroop_0_26    poldrack-categorize      s000  \n",
      "stroop_0_28    poldrack-categorize      s000  \n",
      "stroop_0_30    poldrack-categorize      s000  \n",
      "stroop_0_32    poldrack-categorize      s000  \n",
      "stroop_0_34    poldrack-categorize      s000  \n",
      "stroop_0_36    poldrack-categorize      s000  \n",
      "stroop_0_38    poldrack-categorize      s000  \n",
      "stroop_0_40    poldrack-categorize      s000  \n",
      "stroop_0_42    poldrack-categorize      s000  \n",
      "stroop_0_44    poldrack-categorize      s000  \n",
      "stroop_0_46    poldrack-categorize      s000  \n",
      "stroop_0_48    poldrack-categorize      s000  \n",
      "stroop_0_50    poldrack-categorize      s000  \n",
      "stroop_0_53    poldrack-categorize      s000  \n",
      "stroop_0_55    poldrack-categorize      s000  \n",
      "stroop_0_57    poldrack-categorize      s000  \n",
      "stroop_0_59    poldrack-categorize      s000  \n",
      "stroop_0_61    poldrack-categorize      s000  \n",
      "stroop_0_63    poldrack-categorize      s000  \n",
      "...                            ...       ...  \n",
      "stroop_42_185  poldrack-categorize      s044  \n",
      "stroop_42_187  poldrack-categorize      s044  \n",
      "stroop_42_189  poldrack-categorize      s044  \n",
      "stroop_42_191  poldrack-categorize      s044  \n",
      "stroop_42_193  poldrack-categorize      s044  \n",
      "stroop_42_195  poldrack-categorize      s044  \n",
      "stroop_42_197  poldrack-categorize      s044  \n",
      "stroop_42_199  poldrack-categorize      s044  \n",
      "stroop_42_201  poldrack-categorize      s044  \n",
      "stroop_42_203  poldrack-categorize      s044  \n",
      "stroop_42_205  poldrack-categorize      s044  \n",
      "stroop_42_207  poldrack-categorize      s044  \n",
      "stroop_42_209  poldrack-categorize      s044  \n",
      "stroop_42_211  poldrack-categorize      s044  \n",
      "stroop_42_213  poldrack-categorize      s044  \n",
      "stroop_42_215  poldrack-categorize      s044  \n",
      "stroop_42_217  poldrack-categorize      s044  \n",
      "stroop_42_219  poldrack-categorize      s044  \n",
      "stroop_42_221  poldrack-categorize      s044  \n",
      "stroop_42_223  poldrack-categorize      s044  \n",
      "stroop_42_225  poldrack-categorize      s044  \n",
      "stroop_42_227  poldrack-categorize      s044  \n",
      "stroop_42_229  poldrack-categorize      s044  \n",
      "stroop_42_231  poldrack-categorize      s044  \n",
      "stroop_42_233  poldrack-categorize      s044  \n",
      "stroop_42_235  poldrack-categorize      s044  \n",
      "stroop_42_237  poldrack-categorize      s044  \n",
      "stroop_42_239  poldrack-categorize      s044  \n",
      "stroop_42_241  poldrack-categorize      s044  \n",
      "stroop_42_243  poldrack-categorize      s044  \n",
      "\n",
      "[5160 rows x 18 columns]\n"
     ]
    }
   ],
   "source": [
    "print 'Columns:', one_experiment_df.columns , '\\n'\n",
    "print 'Columns before cleaning:', extract_experiment(data,'stroop', clean = False).columns, '\\n'\n",
    "print one_experiment_df"
   ]
  },
  {
   "cell_type": "markdown",
   "metadata": {},
   "source": [
    "Notice above that the _index_ of the dataframe (the left most column, which isn't really a column, but an index) has a particular structure. It is: 'exp ID' _ 'subject number relative to that experiment' _ 'trial'. Above you can see that there seem to be missing trials. That's because these 'trials' can sometimes just be one jspsych write. So for the stroop task a fixation is displayed (which we don't care about) and then a stim is displayed (where all the information we care about is gathered). The \"cleaning\" removes the rows we don't care about, making it look neater. Also note that the subject number here is **not** related to the worker_id (or the now anonymized subject ids). It is just an index of the different datasets. If we have 44 workers with the stroop task, the index will go from 0 to 43.\n",
    "\n",
    "#### Basic Pandas\n",
    "There's too much pandas specific syntax to go through (look that up yourself), but what we have here is just a dataframe. I'll do some basic manipulations below so you can get a sense for what you can do."
   ]
  },
  {
   "cell_type": "code",
   "execution_count": 50,
   "metadata": {
    "collapsed": false
   },
   "outputs": [],
   "source": [
    "# groups the dataframe by the condition columns (which has two levels), and gets the median rt for each level\n",
    "contrast1 = one_experiment_df.groupby('condition')['rt'].median(), '\\n'\n",
    "\n",
    "# same as above, but now splits up by worker\n",
    "contrast2 = one_experiment_df.groupby(['worker_id','condition'])['rt'].median()\n",
    "\n",
    "# you can get multiple variables\n",
    "contrast3 = one_experiment_df.groupby('condition')[['rt','correct']].agg(['mean','median'])\n",
    "\n",
    "# you can also just subset to something you care about. Below I used string substitution\n",
    "worker_df = one_experiment_df.query('worker_id ==  \"%s\"' )  % 's001' \n",
    "# same thing, different way\n",
    "worker_df2 = one_experiment_df[one_experiment_df['worker_id'] == 's001']"
   ]
  },
  {
   "cell_type": "code",
   "execution_count": 51,
   "metadata": {
    "collapsed": false
   },
   "outputs": [
    {
     "name": "stdout",
     "output_type": "stream",
     "text": [
      "(condition\n",
      "congruent      634\n",
      "incongruent    752\n",
      "Name: rt, dtype: int64, '\\n')\n"
     ]
    }
   ],
   "source": [
    "#replace variable below to look at the different outputs\n",
    "print contrast1"
   ]
  },
  {
   "cell_type": "markdown",
   "metadata": {},
   "source": [
    "When you want to get a CSV file, you can use basic pandas syntax:"
   ]
  },
  {
   "cell_type": "code",
   "execution_count": 63,
   "metadata": {
    "collapsed": false
   },
   "outputs": [],
   "source": [
    "path_to_save_location = '~/'\n",
    "one_experiment_df.to_csv(path_to_save_location + 'stroop.csv')"
   ]
  },
  {
   "cell_type": "markdown",
   "metadata": {},
   "source": [
    "## Automated post processing\n",
    "\n",
    "Every time you run `extract_experiment` it has to clean the data all over again. That cleaning can sometimes be costly. Though I am working on efficiency, occasionally this can take up to 1s for a single subject! I don't want to wait that long over and over! To deal with this there is another function that will post process your data and save it in the data matrix. For example, after we run this command, the data cell for row 2 will have the post processed data rather than the raw data.\n",
    "\n",
    "_After this step the raw data is gone from this data set_. This is why I have separated out `source_data` from `data` above. `source_data` will maintain the raw data. Of course we could always load the data again, but I often am playing with the data in an active ipythong notebook, and this makes it easier.\n",
    "\n",
    "Post processing is done using the command below. It can take a while, but it only has to run once! It will print out progress along the way. Some experiments have manipulation checks or other things that may print out - totally experiment dependent. \n",
    "\n",
    "You could save the data at this stage so that you don't have to go through all of these steps each time. I haven't done that yet, but probably will create a helper function to do so in the future."
   ]
  },
  {
   "cell_type": "code",
   "execution_count": null,
   "metadata": {
    "collapsed": false
   },
   "outputs": [],
   "source": [
    "from expanalysis.experiments.processing import post_process_data\n",
    "\n",
    "post_process_data(data)"
   ]
  },
  {
   "cell_type": "markdown",
   "metadata": {},
   "source": [
    "## Dependent Variables calculation\n",
    "\n",
    "Dependent variables can be extracted for one experiment, or for many experiments (as seen below). `extract_DVs` both appends columns to the data dataframe that hold each subject/task dependent variable, as well as extract those dependent variables to a new dataframe that is subjects x dependent variables. This is the primary dataframe of interest (we will use it to create covariance matrixes).\n",
    "\n",
    "These functions all rely on experiment specific functions defined in expanalysis.experiments.jspsych_processing which are all named 'calc_experiment ID_DV'. Though I haven't made one yet, there will be a separate file for surveys. The dependent variables currently calculated are somewhat haphazard. I do not expect all of them will actually be useful. For example, I calculated the number of missing responses for many tasks. I do not think that is a DV of scientific interest."
   ]
  },
  {
   "cell_type": "code",
   "execution_count": 59,
   "metadata": {
    "collapsed": false
   },
   "outputs": [
    {
     "name": "stdout",
     "output_type": "stream",
     "text": [
      "adaptive_n_back : 2.66923189163\n",
      "angling_risk_task_always_sunny : 7.21298599243\n",
      "attention_network_task : 3.16573095322\n",
      "bickel_titrator : 0.00623393058777\n",
      "bis11_survey : 0.00827193260193\n",
      "bis_bas_survey : 0.00872921943665\n",
      "brief_self_control_survey : 0.00438189506531\n",
      "choice_reaction_time : 1.9067530632\n",
      "cognitive_reflection_survey : 0.754488945007\n",
      "columbia_card_task_cold : 2.58764386177\n",
      "DV calculated failed for worker: s008\n",
      "DV calculated failed for worker: s030\n",
      "columbia_card_task_hot : 2.98071098328\n",
      "demographics_survey : 0.00792098045349\n",
      "dickman_survey : 0.00814199447632\n",
      "dietary_decision : 0.00728702545166\n",
      "digit_span : 1.59749913216\n",
      "directed_forgetting : 0.00633692741394\n",
      "discount_titrate : 0.00797915458679\n",
      "dospert_eb_survey : 0.0063738822937\n",
      "dospert_rp_survey : 0.00571608543396\n",
      "dospert_rt_survey : 0.00422286987305\n",
      "dot_pattern_expectancy : 2.21447896957\n",
      "eating_survey : 0.00528407096863\n",
      "erq_survey : 0.00802302360535\n",
      "five_facet_mindfulness_survey : 0.00877785682678\n",
      "future_time_perspective_survey : 0.00630903244019\n",
      "go_nogo : 5.09373307228\n",
      "grit_scale_survey : 0.00715398788452\n",
      "hierarchical_rule : 2.93811416626\n",
      "holt_laury_survey : 0.00528407096863\n",
      "impulsive_venture_survey : 0.00829100608826\n",
      "information_sampling_task : 2.50693702698\n",
      "DV calculated failed for worker: s000\n",
      "DV calculated failed for worker: s062\n",
      "keep_track : 1.53371596336\n",
      "kirby : 0.00767302513123\n",
      "leisure_time_activity_survey : 0.0074291229248\n",
      "local_global_letter : 2.60676789284\n",
      "mindful_attention_awareness_survey : 0.00974798202515\n",
      "motor_selective_stop_signal : 0.00897002220154\n",
      "mpq_control_survey : 0.00565004348755\n",
      "probabilistic_selection : 6.4057199955\n",
      "psychological_refractory_period_two_choices : 0.00491213798523\n",
      "ravens : 1.0433049202\n",
      "recent_probes : 0.00497102737427\n",
      "selection_optimization_compensation : 0.00515699386597\n",
      "self_regulation_survey : 0.00721597671509\n",
      "sensation_seeking_survey : 0.0093719959259\n",
      "shift_task : 0.00859212875366\n",
      "simon : 2.19002604485\n",
      "simple_reaction_time : 1.40239500999\n",
      "spatial_span : 1.53079986572\n",
      "stim_selective_stop_signal : 0.00544595718384\n",
      "stop_signal : 7.26022815704\n",
      "stroop : 2.07674980164\n",
      "ten_item_personality_survey : 0.00500798225403\n",
      "theories_of_willpower_survey : 0.00546908378601\n",
      "threebytwo : 4.85527992249\n",
      "time_perspective_survey : 0.0051851272583\n",
      "tower_of_london : 2.17879009247\n"
     ]
    },
    {
     "ename": "ValueError",
     "evalue": "cannot index with vector containing NA / NaN values",
     "output_type": "error",
     "traceback": [
      "\u001b[1;31m---------------------------------------------------------------------------\u001b[0m",
      "\u001b[1;31mValueError\u001b[0m                                Traceback (most recent call last)",
      "\u001b[1;32m<ipython-input-59-72a1f886a28c>\u001b[0m in \u001b[0;36m<module>\u001b[1;34m()\u001b[0m\n\u001b[0;32m      1\u001b[0m \u001b[1;32mfrom\u001b[0m \u001b[0mexpanalysis\u001b[0m\u001b[1;33m.\u001b[0m\u001b[0mexperiments\u001b[0m\u001b[1;33m.\u001b[0m\u001b[0mprocessing\u001b[0m \u001b[1;32mimport\u001b[0m \u001b[0mget_DV\u001b[0m\u001b[1;33m,\u001b[0m \u001b[0mextract_DVs\u001b[0m\u001b[1;33m\u001b[0m\u001b[0m\n\u001b[0;32m      2\u001b[0m \u001b[0mone_experiment_DV\u001b[0m \u001b[1;33m=\u001b[0m \u001b[0mget_DV\u001b[0m\u001b[1;33m(\u001b[0m\u001b[0mdata\u001b[0m\u001b[1;33m,\u001b[0m\u001b[1;34m'stroop'\u001b[0m\u001b[1;33m)\u001b[0m\u001b[1;33m\u001b[0m\u001b[0m\n\u001b[1;32m----> 3\u001b[1;33m \u001b[0mDV_df\u001b[0m \u001b[1;33m=\u001b[0m \u001b[0mextract_DVs\u001b[0m\u001b[1;33m(\u001b[0m\u001b[0mdata\u001b[0m\u001b[1;33m)\u001b[0m\u001b[1;33m\u001b[0m\u001b[0m\n\u001b[0m",
      "\u001b[1;32m/media/Data/Ian/Experiments/expfactory/expfactory-analysis/expanalysis/experiments/processing.pyc\u001b[0m in \u001b[0;36mextract_DVs\u001b[1;34m(data, use_check)\u001b[0m\n\u001b[0;32m    331\u001b[0m     \"\"\"\n\u001b[0;32m    332\u001b[0m     \u001b[1;32mif\u001b[0m \u001b[1;32mnot\u001b[0m \u001b[1;34m'DV_val'\u001b[0m \u001b[1;32min\u001b[0m \u001b[0mdata\u001b[0m\u001b[1;33m.\u001b[0m\u001b[0mcolumns\u001b[0m\u001b[1;33m:\u001b[0m\u001b[1;33m\u001b[0m\u001b[0m\n\u001b[1;32m--> 333\u001b[1;33m         \u001b[0mcalc_DVs\u001b[0m\u001b[1;33m(\u001b[0m\u001b[0mdata\u001b[0m\u001b[1;33m,\u001b[0m \u001b[0muse_check\u001b[0m\u001b[1;33m)\u001b[0m\u001b[1;33m\u001b[0m\u001b[0m\n\u001b[0m\u001b[0;32m    334\u001b[0m     \u001b[0mdata\u001b[0m \u001b[1;33m=\u001b[0m \u001b[0mdata\u001b[0m\u001b[1;33m[\u001b[0m\u001b[0mdata\u001b[0m\u001b[1;33m[\u001b[0m\u001b[1;34m'DV_val'\u001b[0m\u001b[1;33m]\u001b[0m\u001b[1;33m.\u001b[0m\u001b[0misnull\u001b[0m\u001b[1;33m(\u001b[0m\u001b[1;33m)\u001b[0m\u001b[1;33m==\u001b[0m\u001b[0mFalse\u001b[0m\u001b[1;33m]\u001b[0m\u001b[1;33m\u001b[0m\u001b[0m\n\u001b[0;32m    335\u001b[0m     \u001b[0mDV_list\u001b[0m \u001b[1;33m=\u001b[0m \u001b[1;33m[\u001b[0m\u001b[1;33m]\u001b[0m\u001b[1;33m\u001b[0m\u001b[0m\n",
      "\u001b[1;32m/media/Data/Ian/Experiments/expfactory/expfactory-analysis/expanalysis/experiments/processing.pyc\u001b[0m in \u001b[0;36mcalc_DVs\u001b[1;34m(data, use_check)\u001b[0m\n\u001b[0;32m    314\u001b[0m         \u001b[0mtic\u001b[0m \u001b[1;33m=\u001b[0m \u001b[0mtime\u001b[0m\u001b[1;33m.\u001b[0m\u001b[0mtime\u001b[0m\u001b[1;33m(\u001b[0m\u001b[1;33m)\u001b[0m\u001b[1;33m\u001b[0m\u001b[0m\n\u001b[0;32m    315\u001b[0m         \u001b[0msubset\u001b[0m \u001b[1;33m=\u001b[0m \u001b[0mdata\u001b[0m\u001b[1;33m[\u001b[0m\u001b[0mdata\u001b[0m\u001b[1;33m[\u001b[0m\u001b[1;34m'experiment_exp_id'\u001b[0m\u001b[1;33m]\u001b[0m \u001b[1;33m==\u001b[0m \u001b[0mexp_id\u001b[0m\u001b[1;33m]\u001b[0m\u001b[1;33m\u001b[0m\u001b[0m\n\u001b[1;32m--> 316\u001b[1;33m         \u001b[0mdvs\u001b[0m\u001b[1;33m,\u001b[0m \u001b[0mdescription\u001b[0m \u001b[1;33m=\u001b[0m \u001b[0mget_DV\u001b[0m\u001b[1;33m(\u001b[0m\u001b[0msubset\u001b[0m\u001b[1;33m,\u001b[0m\u001b[0mexp_id\u001b[0m\u001b[1;33m,\u001b[0m \u001b[0muse_check\u001b[0m\u001b[1;33m)\u001b[0m\u001b[1;33m\u001b[0m\u001b[0m\n\u001b[0m\u001b[0;32m    317\u001b[0m         \u001b[0msubset\u001b[0m \u001b[1;33m=\u001b[0m \u001b[0msubset\u001b[0m\u001b[1;33m.\u001b[0m\u001b[0mquery\u001b[0m\u001b[1;33m(\u001b[0m\u001b[1;34m'worker_id in %s'\u001b[0m \u001b[1;33m%\u001b[0m \u001b[0mdvs\u001b[0m\u001b[1;33m.\u001b[0m\u001b[0mkeys\u001b[0m\u001b[1;33m(\u001b[0m\u001b[1;33m)\u001b[0m\u001b[1;33m)\u001b[0m\u001b[1;33m\u001b[0m\u001b[0m\n\u001b[0;32m    318\u001b[0m         \u001b[1;32mif\u001b[0m \u001b[0mlen\u001b[0m\u001b[1;33m(\u001b[0m\u001b[0mdvs\u001b[0m\u001b[1;33m)\u001b[0m \u001b[1;33m==\u001b[0m \u001b[0mlen\u001b[0m\u001b[1;33m(\u001b[0m\u001b[0msubset\u001b[0m\u001b[1;33m)\u001b[0m\u001b[1;33m:\u001b[0m\u001b[1;33m\u001b[0m\u001b[0m\n",
      "\u001b[1;32m/media/Data/Ian/Experiments/expfactory/expfactory-analysis/expanalysis/experiments/processing.pyc\u001b[0m in \u001b[0;36mget_DV\u001b[1;34m(data, exp_id, use_check)\u001b[0m\n\u001b[0;32m    296\u001b[0m     \u001b[1;32mif\u001b[0m \u001b[0mfun\u001b[0m\u001b[1;33m:\u001b[0m\u001b[1;33m\u001b[0m\u001b[0m\n\u001b[0;32m    297\u001b[0m         \u001b[0mdf\u001b[0m \u001b[1;33m=\u001b[0m \u001b[0mextract_experiment\u001b[0m\u001b[1;33m(\u001b[0m\u001b[0mdata\u001b[0m\u001b[1;33m,\u001b[0m\u001b[0mexp_id\u001b[0m\u001b[1;33m)\u001b[0m\u001b[1;33m\u001b[0m\u001b[0m\n\u001b[1;32m--> 298\u001b[1;33m         \u001b[1;32mreturn\u001b[0m \u001b[0mfun\u001b[0m\u001b[1;33m(\u001b[0m\u001b[0mdf\u001b[0m\u001b[1;33m,\u001b[0m \u001b[0muse_check\u001b[0m\u001b[1;33m)\u001b[0m\u001b[1;33m\u001b[0m\u001b[0m\n\u001b[0m\u001b[0;32m    299\u001b[0m     \u001b[1;32melse\u001b[0m\u001b[1;33m:\u001b[0m\u001b[1;33m\u001b[0m\u001b[0m\n\u001b[0;32m    300\u001b[0m         \u001b[1;32mreturn\u001b[0m \u001b[1;33m{\u001b[0m\u001b[1;33m}\u001b[0m\u001b[1;33m,\u001b[0m\u001b[1;34m''\u001b[0m\u001b[1;33m\u001b[0m\u001b[0m\n",
      "\u001b[1;32m/media/Data/Ian/Experiments/expfactory/expfactory-analysis/expanalysis/experiments/jspsych_processing.pyc\u001b[0m in \u001b[0;36mmulti_worker_wrap\u001b[1;34m(group_df, use_check)\u001b[0m\n\u001b[0;32m     33\u001b[0m             \u001b[1;32mreturn\u001b[0m \u001b[0mgroup_dvs\u001b[0m\u001b[1;33m,\u001b[0m \u001b[1;34m''\u001b[0m\u001b[1;33m\u001b[0m\u001b[0m\n\u001b[0;32m     34\u001b[0m         \u001b[1;32mif\u001b[0m \u001b[1;34m'passed_check'\u001b[0m \u001b[1;32min\u001b[0m \u001b[0mgroup_df\u001b[0m\u001b[1;33m.\u001b[0m\u001b[0mcolumns\u001b[0m \u001b[1;32mand\u001b[0m \u001b[0muse_check\u001b[0m\u001b[1;33m:\u001b[0m\u001b[1;33m\u001b[0m\u001b[0m\n\u001b[1;32m---> 35\u001b[1;33m             \u001b[0mgroup_df\u001b[0m \u001b[1;33m=\u001b[0m \u001b[0mgroup_df\u001b[0m\u001b[1;33m[\u001b[0m\u001b[0mgroup_df\u001b[0m\u001b[1;33m[\u001b[0m\u001b[1;34m'passed_check'\u001b[0m\u001b[1;33m]\u001b[0m\u001b[1;33m]\u001b[0m\u001b[1;33m\u001b[0m\u001b[0m\n\u001b[0m\u001b[0;32m     36\u001b[0m         \u001b[1;32mfor\u001b[0m \u001b[0mworker\u001b[0m \u001b[1;32min\u001b[0m \u001b[0mpandas\u001b[0m\u001b[1;33m.\u001b[0m\u001b[0munique\u001b[0m\u001b[1;33m(\u001b[0m\u001b[0mgroup_df\u001b[0m\u001b[1;33m[\u001b[0m\u001b[1;34m'worker_id'\u001b[0m\u001b[1;33m]\u001b[0m\u001b[1;33m)\u001b[0m\u001b[1;33m:\u001b[0m\u001b[1;33m\u001b[0m\u001b[0m\n\u001b[0;32m     37\u001b[0m             \u001b[0mdf\u001b[0m \u001b[1;33m=\u001b[0m \u001b[0mgroup_df\u001b[0m\u001b[1;33m.\u001b[0m\u001b[0mquery\u001b[0m\u001b[1;33m(\u001b[0m\u001b[1;34m'worker_id == \"%s\"'\u001b[0m \u001b[1;33m%\u001b[0m\u001b[0mworker\u001b[0m\u001b[1;33m)\u001b[0m\u001b[1;33m\u001b[0m\u001b[0m\n",
      "\u001b[1;32m/home/ian/anaconda2/lib/python2.7/site-packages/pandas/core/frame.pyc\u001b[0m in \u001b[0;36m__getitem__\u001b[1;34m(self, key)\u001b[0m\n\u001b[0;32m   1984\u001b[0m         \u001b[1;32mif\u001b[0m \u001b[0misinstance\u001b[0m\u001b[1;33m(\u001b[0m\u001b[0mkey\u001b[0m\u001b[1;33m,\u001b[0m \u001b[1;33m(\u001b[0m\u001b[0mSeries\u001b[0m\u001b[1;33m,\u001b[0m \u001b[0mnp\u001b[0m\u001b[1;33m.\u001b[0m\u001b[0mndarray\u001b[0m\u001b[1;33m,\u001b[0m \u001b[0mIndex\u001b[0m\u001b[1;33m,\u001b[0m \u001b[0mlist\u001b[0m\u001b[1;33m)\u001b[0m\u001b[1;33m)\u001b[0m\u001b[1;33m:\u001b[0m\u001b[1;33m\u001b[0m\u001b[0m\n\u001b[0;32m   1985\u001b[0m             \u001b[1;31m# either boolean or fancy integer index\u001b[0m\u001b[1;33m\u001b[0m\u001b[1;33m\u001b[0m\u001b[0m\n\u001b[1;32m-> 1986\u001b[1;33m             \u001b[1;32mreturn\u001b[0m \u001b[0mself\u001b[0m\u001b[1;33m.\u001b[0m\u001b[0m_getitem_array\u001b[0m\u001b[1;33m(\u001b[0m\u001b[0mkey\u001b[0m\u001b[1;33m)\u001b[0m\u001b[1;33m\u001b[0m\u001b[0m\n\u001b[0m\u001b[0;32m   1987\u001b[0m         \u001b[1;32melif\u001b[0m \u001b[0misinstance\u001b[0m\u001b[1;33m(\u001b[0m\u001b[0mkey\u001b[0m\u001b[1;33m,\u001b[0m \u001b[0mDataFrame\u001b[0m\u001b[1;33m)\u001b[0m\u001b[1;33m:\u001b[0m\u001b[1;33m\u001b[0m\u001b[0m\n\u001b[0;32m   1988\u001b[0m             \u001b[1;32mreturn\u001b[0m \u001b[0mself\u001b[0m\u001b[1;33m.\u001b[0m\u001b[0m_getitem_frame\u001b[0m\u001b[1;33m(\u001b[0m\u001b[0mkey\u001b[0m\u001b[1;33m)\u001b[0m\u001b[1;33m\u001b[0m\u001b[0m\n",
      "\u001b[1;32m/home/ian/anaconda2/lib/python2.7/site-packages/pandas/core/frame.pyc\u001b[0m in \u001b[0;36m_getitem_array\u001b[1;34m(self, key)\u001b[0m\n\u001b[0;32m   2011\u001b[0m     \u001b[1;32mdef\u001b[0m \u001b[0m_getitem_array\u001b[0m\u001b[1;33m(\u001b[0m\u001b[0mself\u001b[0m\u001b[1;33m,\u001b[0m \u001b[0mkey\u001b[0m\u001b[1;33m)\u001b[0m\u001b[1;33m:\u001b[0m\u001b[1;33m\u001b[0m\u001b[0m\n\u001b[0;32m   2012\u001b[0m         \u001b[1;31m# also raises Exception if object array with NA values\u001b[0m\u001b[1;33m\u001b[0m\u001b[1;33m\u001b[0m\u001b[0m\n\u001b[1;32m-> 2013\u001b[1;33m         \u001b[1;32mif\u001b[0m \u001b[0mcom\u001b[0m\u001b[1;33m.\u001b[0m\u001b[0mis_bool_indexer\u001b[0m\u001b[1;33m(\u001b[0m\u001b[0mkey\u001b[0m\u001b[1;33m)\u001b[0m\u001b[1;33m:\u001b[0m\u001b[1;33m\u001b[0m\u001b[0m\n\u001b[0m\u001b[0;32m   2014\u001b[0m             \u001b[1;31m# warning here just in case -- previously __setitem__ was\u001b[0m\u001b[1;33m\u001b[0m\u001b[1;33m\u001b[0m\u001b[0m\n\u001b[0;32m   2015\u001b[0m             \u001b[1;31m# reindexing but __getitem__ was not; it seems more reasonable to\u001b[0m\u001b[1;33m\u001b[0m\u001b[1;33m\u001b[0m\u001b[0m\n",
      "\u001b[1;32m/home/ian/anaconda2/lib/python2.7/site-packages/pandas/core/common.pyc\u001b[0m in \u001b[0;36mis_bool_indexer\u001b[1;34m(key)\u001b[0m\n\u001b[0;32m   1848\u001b[0m             \u001b[1;32mif\u001b[0m \u001b[1;32mnot\u001b[0m \u001b[0mlib\u001b[0m\u001b[1;33m.\u001b[0m\u001b[0mis_bool_array\u001b[0m\u001b[1;33m(\u001b[0m\u001b[0mkey\u001b[0m\u001b[1;33m)\u001b[0m\u001b[1;33m:\u001b[0m\u001b[1;33m\u001b[0m\u001b[0m\n\u001b[0;32m   1849\u001b[0m                 \u001b[1;32mif\u001b[0m \u001b[0misnull\u001b[0m\u001b[1;33m(\u001b[0m\u001b[0mkey\u001b[0m\u001b[1;33m)\u001b[0m\u001b[1;33m.\u001b[0m\u001b[0many\u001b[0m\u001b[1;33m(\u001b[0m\u001b[1;33m)\u001b[0m\u001b[1;33m:\u001b[0m\u001b[1;33m\u001b[0m\u001b[0m\n\u001b[1;32m-> 1850\u001b[1;33m                     raise ValueError('cannot index with vector containing '\n\u001b[0m\u001b[0;32m   1851\u001b[0m                                      'NA / NaN values')\n\u001b[0;32m   1852\u001b[0m                 \u001b[1;32mreturn\u001b[0m \u001b[0mFalse\u001b[0m\u001b[1;33m\u001b[0m\u001b[0m\n",
      "\u001b[1;31mValueError\u001b[0m: cannot index with vector containing NA / NaN values"
     ]
    }
   ],
   "source": [
    "from expanalysis.experiments.processing import get_DV, extract_DVs\n",
    "one_experiment_DV = get_DV(data,'stroop')\n",
    "DV_df = extract_DVs(data)\n"
   ]
  }
 ],
 "metadata": {
  "kernelspec": {
   "display_name": "Python 2",
   "language": "python",
   "name": "python2"
  },
  "language_info": {
   "codemirror_mode": {
    "name": "ipython",
    "version": 2
   },
   "file_extension": ".py",
   "mimetype": "text/x-python",
   "name": "python",
   "nbconvert_exporter": "python",
   "pygments_lexer": "ipython2",
   "version": "2.7.11"
  }
 },
 "nbformat": 4,
 "nbformat_minor": 0
}
