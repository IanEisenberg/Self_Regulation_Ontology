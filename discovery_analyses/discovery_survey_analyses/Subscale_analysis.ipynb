{
 "cells": [
  {
   "cell_type": "markdown",
   "metadata": {},
   "source": [
    "This notebook generates QA plots and performs exploratory clustering on the survey subscales. Outputs are saved to PDF files to allow more detailed exploration."
   ]
  },
  {
   "cell_type": "code",
   "execution_count": 15,
   "metadata": {
    "collapsed": false
   },
   "outputs": [
    {
     "name": "stdout",
     "output_type": "stream",
     "text": [
      "The rpy2.ipython extension is already loaded. To reload it, use:\n",
      "  %reload_ext rpy2.ipython\n"
     ]
    }
   ],
   "source": [
    "import pandas,numpy\n",
    "from sklearn.preprocessing import scale\n",
    "from sklearn.decomposition import FactorAnalysis\n",
    "from sklearn import cross_validation\n",
    "\n",
    "%matplotlib inline\n",
    "%load_ext rpy2.ipython\n"
   ]
  },
  {
   "cell_type": "code",
   "execution_count": 16,
   "metadata": {
    "collapsed": false
   },
   "outputs": [
    {
     "name": "stdout",
     "output_type": "stream",
     "text": [
      "(161, 69)\n"
     ]
    }
   ],
   "source": [
    "d=pandas.read_csv('survey_subscales.csv',index_col=0)\n",
    "\n",
    "keepsubs=numpy.sum(d.isnull(),1)==0\n",
    "\n",
    "cdata=d[keepsubs].values\n",
    "cdata=scale(cdata)\n",
    "print(cdata.shape)\n",
    "varnames=[i.replace('_survey','') for i in d.columns.tolist()]\n",
    "\n"
   ]
  },
  {
   "cell_type": "markdown",
   "metadata": {},
   "source": [
    "### QA: plot variables \n",
    "\n",
    "Pairs.panels plot is saved to pairs_panels_survey_subscales.pdf for further exploration (plotting in R within Jupyter makes it too hard to explore the detail)."
   ]
  },
  {
   "cell_type": "code",
   "execution_count": 17,
   "metadata": {
    "collapsed": false
   },
   "outputs": [
    {
     "data": {
      "text/plain": [
       "quartz_off_screen \n",
       "                2 \n"
      ]
     },
     "metadata": {},
     "output_type": "display_data"
    }
   ],
   "source": [
    "%%R -i cdata,varnames\n",
    "library(psych)\n",
    "df=data.frame(cdata)\n",
    "names(df)=varnames\n",
    "pdf(file='pairs_panels_survey_subscales.pdf',width=16,height=16)\n",
    "nvars=12\n",
    "nsets=ceiling(length(varnames)/nvars)\n",
    "for (i in 1:nsets){\n",
    "    st=(i-1)*nvars+1\n",
    "    en=min(length(varnames),i*nvars)\n",
    "    pairs.panels(df[,st:en])\n",
    "}\n",
    "\n",
    "\n",
    "dev.off()\n"
   ]
  },
  {
   "cell_type": "markdown",
   "metadata": {},
   "source": [
    "Do some exploratory clustering"
   ]
  },
  {
   "cell_type": "code",
   "execution_count": 18,
   "metadata": {
    "collapsed": false
   },
   "outputs": [
    {
     "data": {
      "text/plain": [
       "quartz_off_screen \n",
       "                2 \n"
      ]
     },
     "metadata": {},
     "output_type": "display_data"
    }
   ],
   "source": [
    "%%R -i cdata,varnames\n",
    "require('gplots')\n",
    "require('repr')\n",
    "library(ggplot2)\n",
    "library(ggdendro)\n",
    "\n",
    "df=data.frame(cdata)\n",
    "names(df)=varnames\n",
    "\n",
    "#hc = hclust(dist(cdata),method=\"ward.D\")\n",
    "#ggdendrogram(hc, rotate = TRUE, size = 2)\n",
    "pdf(file='iclust_survey_subscales.pdf',width=16,height=16)\n",
    "iclust(df)\n",
    "dev.off()"
   ]
  },
  {
   "cell_type": "code",
   "execution_count": null,
   "metadata": {
    "collapsed": true
   },
   "outputs": [],
   "source": []
  }
 ],
 "metadata": {
  "kernelspec": {
   "display_name": "Python 3",
   "language": "python",
   "name": "python3"
  },
  "language_info": {
   "codemirror_mode": {
    "name": "ipython",
    "version": 3
   },
   "file_extension": ".py",
   "mimetype": "text/x-python",
   "name": "python",
   "nbconvert_exporter": "python",
   "pygments_lexer": "ipython3",
   "version": "3.4.4"
  }
 },
 "nbformat": 4,
 "nbformat_minor": 1
}
