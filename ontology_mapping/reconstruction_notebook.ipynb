{
 "cells": [
  {
   "cell_type": "markdown",
   "metadata": {
    "toc-hr-collapsed": false
   },
   "source": [
    "# Reconstructing out-of-sample DVs\n",
    "\n",
    "Given a quantitative ontology, or psychological space, that DVs can be projected into, how can we determine the embedding of new variables?\n",
    "\n",
    "Currently, our embedding is determined by factor analysis. Thus ontological embedding are only known for the DVs entered into the original model. How could we extend this?\n",
    "\n",
    "One possibility is measuring new variables in the same population that completed our original battery. After doing this we could either (1) run the model anew, or (2) use linear regression to map the already discovered factors onto the new variables. The former is better, but results in small changes to the actual factors with each new variable. The latter method ensures that our factors stay the same. Neither is scalable, however, as we do not, in general, have access to a constant population that can be remeasured whenever new measures come into the picture.\n",
    "\n",
    "Another possibility that works with new populations requires that the new population completes the entire battery used to estimate the original factors, in addition to whatever new variables are of interest. Doing so allows the calculation of factor scores for this new population based on the original model, which can then be mapped to the new measures of interest. This allows researchers to capitalize on the original model (presumably fit on more subjects than the new study), while expanding the ontology. Problems exist here, however.\n",
    "- The most obvious problem is that you have to measure the new sample on the entire battery used to fit the original EFA model. Given that this takes many hours (the exact number depending on whether tasks, surveys or both are used), this is exceedingly impractical. In our case we did have our new fMRI sample take the entire battery (or at least a subset of participants), so this problem isn't as relevant\n",
    "- Still problems remain. If N is small, the estimates of the ontological embeddings for new DVs are likely unstable.\n",
    "\n",
    "This latter problem necessitates some quantitative exploration. This notebook simulates the issue by:\n",
    "1. Removing a DV from the original ontology dataset\n",
    "2. Performing EFA on this subset\n",
    "3. Using linear regression to map these EFA factors to the left out variable\n",
    "(3) is performed on smaller population sizes to reflect the reality of most studies (including ours) and is repeated to get a sense of the mapping's variability\n",
    "\n",
    "This simulates the ideal case of mapping a new variable by measuring the entire ontological battery. We also use K-nearest-neighbor regression to map new variables into the space with fewer variables. Doing this proceeds as follows:\n",
    "1. Remove a DV from the original ontology dataset\n",
    "2. Perform EFA\n",
    "3. Create a distance matrux between each DV and every other DV\n",
    "\n",
    "\n",
    "### Small issues not currently addressed\n",
    "\n",
    "- The EFA model is fit on the entire population. An even more stringent simulation would subset the subjects used in the \"new study\" and fit the EFA model on a completely independent group. I tried this once - the factor scores hardly differed. In addition, I want the EFA model to be as well-powered as possible, as that will be the reality for this method moving forward"
   ]
  },
  {
   "cell_type": "markdown",
   "metadata": {},
   "source": [
    "## Imports"
   ]
  },
  {
   "cell_type": "code",
   "execution_count": null,
   "metadata": {},
   "outputs": [],
   "source": [
    "import argparse\n",
    "from glob import glob\n",
    "import numpy as np\n",
    "from os import makedirs, path\n",
    "import pandas as pd\n",
    "import pickle\n",
    "from sklearn.linear_model import LinearRegression, Ridge, RidgeCV\n",
    "from sklearn.preprocessing import normalize\n",
    "\n",
    "from dimensional_structure.EFA_plots import get_communality\n",
    "from dimensional_structure.utils import abs_pdist\n",
    "from ontology_mapping.reconstruction_plots import (plot_factor_reconstructions,\n",
    "                                                    plot_reconstruction_hist,\n",
    "                                                  plot_distance_recon)\n",
    "from ontology_mapping.reconstruction_utils import (load_files,\n",
    "                                                   combine_files,\n",
    "                                                   update_files,\n",
    "                                                   normalize_reconstruction,\n",
    "                                                   get_reconstruction_results, \n",
    "                                                   linear_reconstruction,\n",
    "                                                   k_nearest_reconstruction,\n",
    "                                                  CV_predict)\n",
    "from selfregulation.utils.plot_utils import beautify_legend, format_num, save_figure\n",
    "from selfregulation.utils.result_utils import load_results\n",
    "from selfregulation.utils.utils import get_recent_dataset, get_info, get_retest_data"
   ]
  },
  {
   "cell_type": "code",
   "execution_count": null,
   "metadata": {},
   "outputs": [],
   "source": [
    "import statsmodels.api as sm\n",
    "import statsmodels.formula.api as smf"
   ]
  },
  {
   "cell_type": "code",
   "execution_count": null,
   "metadata": {},
   "outputs": [],
   "source": [
    "import sklearn\n",
    "from sklearn.svm import LinearSVC\n",
    "from sklearn.neighbors import KNeighborsClassifier\n",
    "from sklearn.preprocessing import LabelEncoder"
   ]
  },
  {
   "cell_type": "code",
   "execution_count": null,
   "metadata": {},
   "outputs": [],
   "source": [
    "%matplotlib inline\n",
    "# import matplotlib.pyplot as plt\n",
    "from matplotlib import ticker\n",
    "import matplotlib.gridspec as gridspec\n",
    "import matplotlib.pyplot as plt\n",
    "import seaborn as sns\n",
    "from scipy.spatial.distance import pdist, squareform"
   ]
  },
  {
   "cell_type": "code",
   "execution_count": null,
   "metadata": {},
   "outputs": [],
   "source": [
    "# ignore some warnings\n",
    "import warnings\n",
    "warnings.filterwarnings(\"ignore\", category=sklearn.metrics.classification.UndefinedMetricWarning)"
   ]
  },
  {
   "cell_type": "code",
   "execution_count": null,
   "metadata": {},
   "outputs": [],
   "source": [
    "# argparse\n",
    "if __name__ == '__main__':\n",
    "    parser = argparse.ArgumentParser()\n",
    "    parser.add_argument('-pop_sizes', nargs='+', default=[30, 50, 100, 400], type=int)\n",
    "    parser.add_argument('-n_reps', default=50)\n",
    "    parser.add_argument('-n_measures', default=None, type=int)\n",
    "    parser.add_argument('-dataset', default=None)\n",
    "    parser.add_argument('-rerun', action='store_true')\n",
    "    parser.add_argument('-append', action='store_true')\n",
    "    parser.add_argument('-EFA_rotation', default='oblimin')\n",
    "    parser.add_argument('-knn_metric', default='correlation')\n",
    "    parser.add_argument('-verbose', action='store_true')\n",
    "    parser.add_argument('-save', action='store_true')\n",
    "    args, _ = parser.parse_known_args()\n",
    "    pop_sizes = args.pop_sizes\n",
    "    n_reps = args.n_reps\n",
    "    n_measures = args.n_measures\n",
    "    rerun = args.rerun\n",
    "    append = args.append\n",
    "    knn_metric = args.knn_metric\n",
    "    EFA_rotation = args.EFA_rotation\n",
    "    verbose = args.verbose\n",
    "    save = args.save\n",
    "    if args.dataset is not None:\n",
    "        dataset = args.dataset\n",
    "    else:\n",
    "        dataset = get_recent_dataset()"
   ]
  },
  {
   "cell_type": "markdown",
   "metadata": {},
   "source": [
    "## Additional Setup"
   ]
  },
  {
   "cell_type": "code",
   "execution_count": null,
   "metadata": {},
   "outputs": [],
   "source": [
    "# Load dataset\n",
    "np.random.seed(12412)\n",
    "results = load_results(dataset)['task']\n",
    "retest_data = get_retest_data(dataset.replace('Complete', 'Retest'))\n",
    "c = results.EFA.get_c()\n",
    "\n",
    "# Define classifiers\n",
    "classifiers = {'Ridge': Ridge(fit_intercept=False),\n",
    "               'LR': LinearRegression(fit_intercept=False)}\n",
    "# get output dir to store results\n",
    "output_dir = path.join(get_info('results_directory'),\n",
    "                       'ontology_reconstruction', results.ID, EFA_rotation)\n",
    "makedirs(output_dir, exist_ok=True)\n",
    "# get plot dir to store plots\n",
    "plot_dir = path.join(output_dir, 'Plots')\n",
    "makedirs(plot_dir, exist_ok=True)"
   ]
  },
  {
   "cell_type": "code",
   "execution_count": null,
   "metadata": {},
   "outputs": [],
   "source": [
    "# get a random subset of variables to perform the calculation on if n_vars is set\n",
    "measures = np.unique([i.split('.')[0] for i in results.data.columns])\n",
    "if n_measures is not None:\n",
    "    measure_list = np.random.choice(measures, n_measures, replace=False)\n",
    "else:\n",
    "    measure_list = measures\n",
    "# get all variables from selected tasks\n",
    "var_list = results.data.filter(regex='|'.join(measure_list)).columns"
   ]
  },
  {
   "cell_type": "markdown",
   "metadata": {},
   "source": [
    "Run simulation for every variable at different population sizes. \n",
    "\n",
    "That is, do the following:\n",
    "\n",
    "1. take a variable (say stroop incongruent-congruent RT), remove it from the data matrix\n",
    "2. Run EFA on the data matrix composes of the 522 (subject) x N-1 (variable) data matrix\n",
    "3. Calculate factor scores for all 522 subjects\n",
    "4. Select a subset of \"pop_size\" to do an \"ontological mapping\". That is, pretend that these subjects did the whole battery (missing the one variable) *and then* completed one more task. The idea is we want to do a mapping from those subject's factor scores to the new variable\n",
    "   1. We can do a linear mapping (regression) from the ontological scores to the output variable\n",
    "   2. We can do a k-nearest neighbor interpolation, where we say the unknown ontological factor is a blend of the \"nearest\" variables in the dataset\n",
    "5. Repeat (4) a number of times to get a sense for the accuracy and variability of that mapping\n",
    "6. Compare the estimated ontological scores for the held out var (stroop incongruent-congruent) to the original \"correct\" ontological mapping (that would have been obtained if the variable was included in the original data matrix"
   ]
  },
  {
   "cell_type": "markdown",
   "metadata": {},
   "source": [
    "## Perform reconstruction"
   ]
  },
  {
   "cell_type": "markdown",
   "metadata": {},
   "source": [
    "### K Nearest Neighbor Reconstruction"
   ]
  },
  {
   "cell_type": "code",
   "execution_count": null,
   "metadata": {},
   "outputs": [],
   "source": [
    "%%time\n",
    "k_list = list(range(1,20))\n",
    "basename = path.join(output_dir, 'KNNR_%s-*' % knn_metric)\n",
    "files = glob(basename)\n",
    "updated = []\n",
    "if rerun: # rerun everything\n",
    "    regex_list = ['^'+m for m in measure_list]\n",
    "    k_reconstructions=get_reconstruction_results(results, regex_list, pop_sizes, \n",
    "                                                 n_reps=n_reps, \n",
    "                                                 recon_fun=k_nearest_reconstruction, \n",
    "                                                 k_list=k_list, \n",
    "                                                 metric=knn_metric,\n",
    "                                                 EFA_rotation=EFA_rotation,\n",
    "                                                 verbose=verbose)\n",
    "    updated = list(k_reconstructions)\n",
    "else:\n",
    "    k_reconstructions = load_files(files)\n",
    "    if append: # add more simulations to previous files\n",
    "        regex_list = ['^'+m for m in measure_list]\n",
    "        to_append = get_reconstruction_results(results, regex_list, pop_sizes, \n",
    "                                                n_reps=n_reps, \n",
    "                                                recon_fun=k_nearest_reconstruction, \n",
    "                                                k_list=k_list, \n",
    "                                                metric=knn_metric,\n",
    "                                                EFA_rotation=EFA_rotation,\n",
    "                                               verbose=verbose)\n",
    "        updated = list(to_append.keys())\n",
    "        update_files(k_reconstructions, to_append)\n",
    "    else: # load previous files and run any additional ones required\n",
    "        tmp_measures = set(measure_list) - set(k_reconstructions.keys())\n",
    "        regex_list = ['^'+m for m in tmp_measures]\n",
    "        additional = get_reconstruction_results(results, regex_list, pop_sizes, \n",
    "                                                n_reps=n_reps, \n",
    "                                                recon_fun=k_nearest_reconstruction, \n",
    "                                                k_list=k_list, \n",
    "                                                metric=knn_metric,\n",
    "                                                EFA_rotation=EFA_rotation,\n",
    "                                                verbose=verbose)\n",
    "        k_reconstructions.update(additional)\n",
    "        updated = additional.keys()\n",
    "\n",
    "for measure in updated:\n",
    "    df = k_reconstructions[measure]\n",
    "    if save:\n",
    "        df.to_pickle(basename[:-1]+'%s.pkl' % measure)"
   ]
  },
  {
   "cell_type": "code",
   "execution_count": null,
   "metadata": {},
   "outputs": [],
   "source": [
    "%%time\n",
    "k_list = list(range(1,20))\n",
    "basename = path.join(output_dir, 'KNNRind_%s-*' % knn_metric)\n",
    "files = glob(basename)\n",
    "updated = []\n",
    "pop_size_subset = [i for i in pop_sizes if i < 100]\n",
    "if rerun: # rerun everything\n",
    "    regex_list = ['^'+m for m in measure_list]\n",
    "    k_reconstructions_ind=get_reconstruction_results(results, regex_list, pop_size_subset, \n",
    "                                                 n_reps=n_reps, \n",
    "                                                 recon_fun=k_nearest_reconstruction, \n",
    "                                                 k_list=k_list,  \n",
    "                                                 metric=knn_metric,\n",
    "                                                 EFA_rotation=EFA_rotation,\n",
    "                                                 independent_EFA=True,\n",
    "                                                 verbose=verbose)\n",
    "    updated = measure_list\n",
    "else:\n",
    "    k_reconstructions_ind = load_files(files)\n",
    "    if append: # add more simulations to previous files\n",
    "        regex_list = ['^'+m for m in measure_list]\n",
    "        to_append = get_reconstruction_results(results, regex_list, pop_size_subset, \n",
    "                                                n_reps=n_reps, \n",
    "                                                recon_fun=k_nearest_reconstruction, \n",
    "                                                k_list=k_list, \n",
    "                                                metric=knn_metric,\n",
    "                                                EFA_rotation=EFA_rotation,\n",
    "                                                independent_EFA=True,\n",
    "                                                verbose=verbose)\n",
    "        updated = list(to_append.keys())\n",
    "        update_files(k_reconstructions_ind, to_append)\n",
    "    else: # load previous files and add run any additional ones required\n",
    "        tmp_measures = set(measure_list) - set(k_reconstructions_ind.keys())\n",
    "        regex_list = ['^'+m for m in tmp_measures]\n",
    "        additional = get_reconstruction_results(results, regex_list, pop_size_subset, \n",
    "                                                n_reps=n_reps, \n",
    "                                                recon_fun=k_nearest_reconstruction, \n",
    "                                                k_list=k_list, \n",
    "                                                metric=knn_metric,\n",
    "                                                EFA_rotation=EFA_rotation,\n",
    "                                                independent_EFA=True,\n",
    "                                                verbose=verbose)\n",
    "        k_reconstructions_ind.update(additional)\n",
    "        updated = additional.keys()\n",
    "\n",
    "for measure in updated:\n",
    "    df = k_reconstructions_ind[measure]\n",
    "    if save:\n",
    "        df.to_pickle(basename[:-1]+'-%s.pkl' % measure)"
   ]
  },
  {
   "cell_type": "code",
   "execution_count": null,
   "metadata": {},
   "outputs": [],
   "source": [
    "def summarize_k(k_reconstructions):\n",
    "    var_summary = pd.DataFrame()\n",
    "    for measure, reconstruction in k_reconstructions.items():\n",
    "        tmp_summary = reconstruction.query('label==\"partial_reconstruct\"') \\\n",
    "                        .groupby(['pop_size', 'k', 'weighting','var'])['corr_score'].mean().reset_index()\n",
    "        var_summary = pd.concat([var_summary, tmp_summary])\n",
    "    \n",
    "    k_summary = var_summary.groupby(['pop_size', 'k', 'weighting']).mean()\n",
    "    # summarize further\n",
    "    k_best_params = {}\n",
    "    for pop_size in k_summary.index.unique(level='pop_size'):\n",
    "        tmp=k_summary.query('pop_size == %s' % pop_size)\n",
    "        best_params = tmp.idxmax()[0]\n",
    "        best_val = tmp.loc[best_params][0]\n",
    "        k_best_params[pop_size] = {'k': best_params[1], \n",
    "                                   'weighting': best_params[2],\n",
    "                                   'best_val': best_val}\n",
    "    reconstruction_list = []\n",
    "    for reconstruction in k_reconstructions.values():\n",
    "        true = reconstruction.query('label == \"true\"')\n",
    "        reconstruction_list.append(true)\n",
    "        for k, v in k_best_params.items():\n",
    "            tmp_partial = reconstruction.query('pop_size == %s and \\\n",
    "                                         k == %s and \\\n",
    "                                         weighting == \"%s\"' % (k, v['k'], v['weighting']))\n",
    "            full = reconstruction.query('label == \"full_reconstruct\" and \\\n",
    "                                         k == %s and \\\n",
    "                                         weighting == \"%s\"' % (v['k'], v['weighting']))\n",
    "            reconstruction_list += [tmp_partial, full]\n",
    "\n",
    "    k_best_reconstruction = pd.concat(reconstruction_list, axis=0, sort=False)\n",
    "    return var_summary, k_best_params, k_best_reconstruction"
   ]
  },
  {
   "cell_type": "code",
   "execution_count": null,
   "metadata": {},
   "outputs": [],
   "source": [
    "k_var_summary, k_best_params, k_reconstruction = summarize_k(k_reconstructions)\n",
    "k_reconstruction.query('label==\"partial_reconstruct\"') \\\n",
    "    .groupby('pop_size')['corr_score'].agg(['mean','std'])"
   ]
  },
  {
   "cell_type": "code",
   "execution_count": null,
   "metadata": {},
   "outputs": [],
   "source": [
    "k_ind_var_summary, k_ind_best_params, k_ind_reconstruction = summarize_k(k_reconstructions_ind)\n",
    "k_ind_reconstruction.query('label==\"partial_reconstruct\"') \\\n",
    "    .groupby('pop_size')['corr_score'].agg(['mean','std'])"
   ]
  },
  {
   "cell_type": "code",
   "execution_count": null,
   "metadata": {},
   "outputs": [],
   "source": [
    "del k_reconstructions"
   ]
  },
  {
   "cell_type": "markdown",
   "metadata": {},
   "source": [
    "### Linear Reconstruction"
   ]
  },
  {
   "cell_type": "code",
   "execution_count": null,
   "metadata": {},
   "outputs": [],
   "source": [
    "%%time\n",
    "clfs = {'Linear': LinearRegression(fit_intercept=False),\n",
    "       'RidgeCV': RidgeCV(fit_intercept=False, cv=10)}\n",
    "linear_reconstructions = {}\n",
    "for clf_name, clf in clfs.items():\n",
    "    basename = path.join(output_dir, 'linear-%s_reconstruct*' % clf_name)\n",
    "    files = glob(basename)\n",
    "    updated = []\n",
    "    if rerun: # rerun everything\n",
    "        regex_list = ['^'+m for m in measure_list]\n",
    "        tmp_reconstructions=get_reconstruction_results(results, regex_list, pop_sizes, \n",
    "                                                       n_reps=n_reps, \n",
    "                                                       recon_fun=linear_reconstruction, \n",
    "                                                       clf=clf,\n",
    "                                                       EFA_rotation=EFA_rotation,\n",
    "                                                       verbose=verbose)\n",
    "        updated = measure_list\n",
    "    else:\n",
    "        tmp_reconstructions = load_files(files)\n",
    "        if append: # add more simulations to previous files\n",
    "            regex_list = ['^'+m for m in measure_list]\n",
    "            to_append = get_reconstruction_results(results, regex_list, pop_sizes, \n",
    "                                                       n_reps=n_reps, \n",
    "                                                       recon_fun=linear_reconstruction, \n",
    "                                                       clf=clf,\n",
    "                                                       EFA_rotation=EFA_rotation,\n",
    "                                                       verbose=verbose)\n",
    "            updated = list(to_append.keys())\n",
    "            update_files(tmp_reconstructions, to_append)\n",
    "        else: # load previous files and add run any additional ones required\n",
    "            tmp_measures = set(measure_list) - set(tmp_reconstructions.keys())\n",
    "            regex_list = ['^'+m for m in tmp_measures]\n",
    "            additional = get_reconstruction_results(results, regex_list, pop_sizes, \n",
    "                                                    n_reps=n_reps, \n",
    "                                                    recon_fun=linear_reconstruction, \n",
    "                                                    clf=clf,\n",
    "                                                    EFA_rotation=EFA_rotation,\n",
    "                                                    verbose=verbose)\n",
    "            tmp_reconstructions.update(additional)\n",
    "            updated = additional.keys()\n",
    "\n",
    "    for measure in updated:\n",
    "        df = tmp_reconstructions[measure]\n",
    "        if save:\n",
    "            df.to_pickle(basename[:-1]+'-%s.pkl' % measure)\n",
    "        \n",
    "    files = glob(basename)\n",
    "    if len(files) > 0:\n",
    "        linear_reconstructions[clf_name] = combine_files(files)"
   ]
  },
  {
   "cell_type": "code",
   "execution_count": null,
   "metadata": {},
   "outputs": [],
   "source": [
    "summary = pd.DataFrame()\n",
    "for clf, df in linear_reconstructions.items():\n",
    "    tmp = df.query('label==\"partial_reconstruct\"') \\\n",
    "        .groupby('pop_size').corr_score.agg([np.mean, np.std])\n",
    "    tmp.loc[:,'clf'] = clf\n",
    "    summary = pd.concat([summary, tmp], sort=False)\n",
    "print(summary)"
   ]
  },
  {
   "cell_type": "code",
   "execution_count": null,
   "metadata": {},
   "outputs": [],
   "source": [
    "reconstructions = {'KNN': k_reconstruction,\n",
    "                   'RidgeCV': linear_reconstructions['RidgeCV']}\n",
    "reconstructed_vars = sorted(k_reconstruction['var'].unique())\n",
    "assert set(reconstructed_vars) == set(reconstructions['RidgeCV']['var'].unique())"
   ]
  },
  {
   "cell_type": "markdown",
   "metadata": {},
   "source": [
    "## Statistics"
   ]
  },
  {
   "cell_type": "markdown",
   "metadata": {},
   "source": [
    "### Variable characteristics that influence reconstruction quality"
   ]
  },
  {
   "cell_type": "code",
   "execution_count": null,
   "metadata": {},
   "outputs": [],
   "source": [
    "# variable characteristics\n",
    "reconstruction = reconstructions['KNN']\n",
    "retest_index = [i.replace('.logTr','').replace('.ReflogTr','') for i in reconstructed_vars]\n",
    "retest_vals = retest_data.loc[retest_index,'icc']\n",
    "retest_vals.index = reconstructed_vars\n",
    "communality = get_communality(results.EFA).loc[retest_index]\n",
    "communality.index = reconstructed_vars\n",
    "avg_corr  = abs(results.data.corr()).replace(1,0).mean()\n",
    "avg_corr.name = \"avg_correlation\""
   ]
  },
  {
   "cell_type": "code",
   "execution_count": null,
   "metadata": {},
   "outputs": [],
   "source": [
    "# create summaries\n",
    "additional = pd.concat([retest_vals, communality, avg_corr], axis=1)\n",
    "reconstruction_summaries = {}\n",
    "for name, reconstruction in reconstructions.items():\n",
    "    s = reconstruction.query('label == \"partial_reconstruct\"') \\\n",
    "        .groupby(['var', 'pop_size']).corr_score.agg(['mean', 'std'])\n",
    "    s = s.reset_index().join(additional, on='var')\n",
    "    reconstruction_summaries[name] = s\n",
    "all_reconstructions = pd.concat(reconstruction_summaries).reset_index()\n",
    "all_reconstructions = all_reconstructions.rename({'level_0': 'approach'}, axis=1).drop('level_1', axis=1)"
   ]
  },
  {
   "cell_type": "markdown",
   "metadata": {},
   "source": [
    "Does reconstruction success at one population size predict the next?"
   ]
  },
  {
   "cell_type": "code",
   "execution_count": null,
   "metadata": {},
   "outputs": [],
   "source": [
    "tmp = []\n",
    "for i,group in all_reconstructions.groupby(['approach', 'pop_size']):\n",
    "    group = group.loc[:,['var','mean']].set_index('var')\n",
    "    group.columns = [i]\n",
    "    tmp.append(group)\n",
    "approach_compare = pd.concat(tmp, axis=1)\n",
    "approach_compare.columns = [i+': '+str(int(j)) for i,j in approach_compare.columns]\n",
    "# correlation of reconstructions\n",
    "corr= approach_compare.corr(method='spearman')\n",
    "overall_correlation = np.mean(corr.values[np.tril_indices_from(corr, -1)])\n",
    "print('DV reconstruction score correlates %s across approaches' % format_num(overall_correlation))"
   ]
  },
  {
   "cell_type": "markdown",
   "metadata": {},
   "source": [
    "Model reconstruction success as a function of DV characteristics, approach and subpopulation size"
   ]
  },
  {
   "cell_type": "code",
   "execution_count": null,
   "metadata": {},
   "outputs": [],
   "source": [
    "all_reconstructions.loc[:, 'z_mean'] = np.arctanh(all_reconstructions['mean'])\n",
    "md = smf.mixedlm(\"z_mean ~ (pop_size + icc + communality)*C(approach, Sum)\", all_reconstructions, groups=all_reconstructions[\"var\"])\n",
    "mdf = md.fit()\n",
    "mdf.summary()\n",
    "\n",
    "# other way to do it\n",
    "# endog, exog = patsy.dmatrices(\"z_mean ~ (pop_size + icc + avg_correlation)*C(approach, Sum)\", all_reconstructions, return_type='dataframe')\n",
    "# md = sm.MixedLM(endog=endog, exog=exog, groups=all_reconstructions['var'])"
   ]
  },
  {
   "cell_type": "markdown",
   "metadata": {},
   "source": [
    "### How well are we reconstructing distances?"
   ]
  },
  {
   "cell_type": "code",
   "execution_count": null,
   "metadata": {},
   "outputs": [],
   "source": [
    "orig_loadings = results.EFA.get_loading(c=c).loc[reconstructed_vars]\n",
    "orig_distances = pd.DataFrame(squareform(abs_pdist(orig_loadings)), index=orig_loadings.index, columns=orig_loadings.index)\n",
    "\n",
    "reconstructed_distances = {}\n",
    "for name, reconstruction in reconstructions.items():\n",
    "    for pop_size in sorted(reconstruction.pop_size.dropna().unique()):\n",
    "        reconstructed_distances[name+'_%03d' % pop_size] = []\n",
    "        for rep in range(1, int(reconstruction.rep.max()+1)):\n",
    "            reconstructed_loadings = reconstruction.query('pop_size == %s and rep==%s' % (pop_size, rep)).sort_values(by='var')\n",
    "            distances = abs_pdist(reconstructed_loadings.iloc[:,:c])\n",
    "            reconstructed_distances[name+'_%03d' % pop_size].append(distances)\n",
    "            \n",
    "mean_reconstructed_distances = {}\n",
    "std_reconstructed_distances = {}\n",
    "\n",
    "for key, distances in reconstructed_distances.items():\n",
    "    mean_reconstructed_distances[key] = \\\n",
    "            pd.DataFrame(squareform(np.mean(distances, 0)),\n",
    "                                    index=orig_loadings.index, \n",
    "                                    columns=orig_loadings.index)\n",
    "    std_reconstructed_distances[key] = \\\n",
    "            pd.DataFrame(squareform(np.std(distances, 0)),\n",
    "                                    index=orig_loadings.index, \n",
    "                                    columns=orig_loadings.index)\n"
   ]
  },
  {
   "cell_type": "markdown",
   "metadata": {},
   "source": [
    "## Visualization\n",
    "\n",
    "Of concern is the average correspondence and variability between the estimated ontological fingerprint of a DV and its \"ground-truth\" (the original estimate when it was part of the EFA model)\n",
    "\n",
    "One way to look at this is just the average reconstruction score (e.g., for example) and variability of reconstruction score as a function of pseudo-pop-size and model parameters"
   ]
  },
  {
   "cell_type": "code",
   "execution_count": null,
   "metadata": {},
   "outputs": [],
   "source": [
    "colors = sns.color_palette('Set1', n_colors = len(pop_sizes), desat=.8)"
   ]
  },
  {
   "cell_type": "markdown",
   "metadata": {},
   "source": [
    "### Overall Performance"
   ]
  },
  {
   "cell_type": "code",
   "execution_count": null,
   "metadata": {},
   "outputs": [],
   "source": [
    "f = plt.figure(figsize=(12,8))\n",
    "sns.boxplot(x='pop_size', y='mean', hue='approach', data=all_reconstructions, palette='Reds')\n",
    "plt.legend(loc='best')"
   ]
  },
  {
   "cell_type": "markdown",
   "metadata": {},
   "source": [
    "Plot relationship of performance for each DV over different approach parameterizations"
   ]
  },
  {
   "cell_type": "code",
   "execution_count": null,
   "metadata": {},
   "outputs": [],
   "source": [
    "corr = approach_compare.corr(method='spearman')\n",
    "mean_success = approach_compare.mean()\n",
    "plot_df = approach_compare.join(retest_vals).join(communality)\n",
    "size = 2\n",
    "f=sns.pairplot(plot_df.iloc[:,0:8], height=size,\n",
    "             plot_kws={'color': [.4,.4,.4],\n",
    "                       's': plot_df['communality']*250},\n",
    "             diag_kws={'bins': 20,\n",
    "                      'edgecolor': 'k',\n",
    "                      'linewidth': size/4})\n",
    "axes = f.axes\n",
    "# fix axes limits\n",
    "for i in range(len(f.axes)):\n",
    "    for j in range(len(f.axes)):\n",
    "        ax = axes[i][j]\n",
    "        ax.set_ylim([.15,1.1])\n",
    "        ax.tick_params(left=False, bottom=False,\n",
    "                      labelleft=False, labelbottom=False)\n",
    "        if i!=j:\n",
    "            ax.set_xlim([.15,1.1])\n",
    "            ax.plot(ax.get_xlim(), ax.get_ylim(), lw=size, ls=\"--\", c=\".3\", zorder=-1)\n",
    "        if j<i:\n",
    "            x = .6; y = .3\n",
    "            if mean_success[j] > mean_success[i]:\n",
    "                x = .28; y = 1\n",
    "            ax.text(x, y, r'$\\rho$ = %s' % format_num(corr.iloc[i,j]),\n",
    "                   fontsize=size*8)\n",
    "        # change sizing for upper triangle based on icc\n",
    "        if j>i: \n",
    "            ax.set_visible(False)\n",
    "            #ax.collections[0].set_sizes(plot_df['icc']**2*100)\n",
    "            \n",
    "# color diagonal\n",
    "for i,ax in enumerate(f.diag_axes):\n",
    "    ax.set_title(axes[i][0].get_ylabel(), color=colors[i%4], fontsize=size*9)\n",
    "    for patch in ax.patches:\n",
    "        patch.set_facecolor(colors[i%4])\n",
    "        \n",
    "# color labels\n",
    "for i in range(len(f.axes)):\n",
    "    left_ax = axes[i][0]\n",
    "    bottom_ax = axes[-1][i]\n",
    "    left_ax.set_ylabel(left_ax.get_ylabel(), color=colors[i%4],labelpad=10, fontsize=size*9)\n",
    "    bottom_ax.set_xlabel('')\n",
    "    \n",
    "# set tick spacing\n",
    "ax = axes[-1][-2]\n",
    "ax.tick_params(length=1, width=1, labelleft=True, labelbottom=True)\n",
    "ax.set_xticks([.18, 1])\n",
    "ax.set_xticklabels(['0.2', '1.0'], fontsize=size*8, fontweight='bold')\n",
    "ax.set_yticks([1])\n",
    "ax.set_yticklabels(['1.0'], fontsize=size*8, fontweight='bold')\n",
    "# common X\n",
    "f.fig.text(0.5, 0.02, 'Average DV Reconstruction Score', ha='center', fontsize=size*10)\n",
    "if save:\n",
    "    save_figure(f, path.join(plot_dir, 'SFig1_cross_approach_correlations.png'), save_kws={'dpi': 300})"
   ]
  },
  {
   "cell_type": "markdown",
   "metadata": {
    "toc-hr-collapsed": false
   },
   "source": [
    "### K Nearest Visualization (Example)"
   ]
  },
  {
   "cell_type": "markdown",
   "metadata": {},
   "source": [
    "#### Average Performance by Model Parameters"
   ]
  },
  {
   "cell_type": "code",
   "execution_count": null,
   "metadata": {},
   "outputs": [],
   "source": [
    "desaturated_colors = [sns.desaturate(c, .5) for c in colors]\n",
    "plot_colors = list(zip(colors, desaturated_colors))\n",
    "\n",
    "plot_df = k_var_summary.reset_index()\n",
    "sns.set_context('talk')\n",
    "f, ax = plt.subplots(1, 1, figsize=(12,6))\n",
    "axes = f.get_axes()\n",
    "for i, pop_size in enumerate(pop_sizes):\n",
    "    sns.pointplot(x='k', y='corr_score', hue='weighting', \n",
    "                data=plot_df.query('pop_size==%s' % pop_size),\n",
    "                ax=ax, dodge=.35, alpha=1, join=False, ci=None,\n",
    "                palette = plot_colors[i], label=pop_size)\n",
    "ax.legend().set_visible(False)\n",
    "ax.set_xticklabels([int(i) for i in plot_df.k.unique()])\n",
    "ax.set_ylim(.25,1.1)\n",
    "ax.set_ylabel('Reconstruction Score')\n",
    "plt.subplots_adjust(hspace=.4)"
   ]
  },
  {
   "cell_type": "markdown",
   "metadata": {
    "toc-hr-collapsed": true
   },
   "source": [
    "#### Performance for each DV\n",
    "\n",
    "Only taking the best parameters from the k-nearest neighbor algorithm"
   ]
  },
  {
   "cell_type": "code",
   "execution_count": null,
   "metadata": {},
   "outputs": [],
   "source": [
    "var = \"simon.hddm_drift\"\n",
    "ax = reconstructions['KNN'].query('var == \"%s\" and pop_size==100' % var).corr_score.hist(bins=30,\n",
    "                                                                          edgecolor='white',\n",
    "                                                                           figsize=[10,6])\n",
    "ax.set_xlabel('Reconstruction Score', fontsize=40, labelpad=30)\n",
    "ax.set_yticklabels([])\n",
    "ax.set_yticks([])\n",
    "ax.xaxis.set_major_locator(ticker.MultipleLocator(.05))\n",
    "ax.tick_params(labelsize=30)\n",
    "ax.spines['left'].set_visible(False)\n",
    "ax.spines['right'].set_visible(False)\n",
    "ax.spines['top'].set_visible(False)\n",
    "ax.grid(False)"
   ]
  },
  {
   "cell_type": "markdown",
   "metadata": {},
   "source": [
    "##### Histogram of DV reconstruction scores"
   ]
  },
  {
   "cell_type": "code",
   "execution_count": null,
   "metadata": {},
   "outputs": [],
   "source": [
    "plot_reconstruction_hist(reconstructions['KNN'], title='KNN Reconstruction', size=14)\n",
    "plot_reconstruction_hist(reconstructions['RidgeCV'], title='RidgeCV Reconstruction', size=14)"
   ]
  },
  {
   "cell_type": "code",
   "execution_count": null,
   "metadata": {},
   "outputs": [],
   "source": [
    "# saving\n",
    "if save:\n",
    "    plot_reconstruction_hist(reconstructions['KNN'], title='KNN Reconstruction', size=14,\n",
    "                            filename=path.join(plot_dir, 'Fig3a_KNN_reconstruction.png'))\n",
    "    plot_reconstruction_hist(reconstructions['RidgeCV'], title='RidgeCV Reconstruction', size=14,\n",
    "                            filename=path.join(plot_dir, 'Fig3b_RidgeCV_reconstruction.png'))"
   ]
  },
  {
   "cell_type": "markdown",
   "metadata": {},
   "source": [
    "There is clearly a bit of variability in the reconstruction accuracy based on the variable itself. While this variability narrows with larger populations, it's still there, and there are a few variables that cannot be reconstructed at all\n",
    "\n",
    "We have access to some characteristics of these DVs (reliability, communality, avg correlation), which we can look at"
   ]
  },
  {
   "cell_type": "markdown",
   "metadata": {},
   "source": [
    "##### Reconstruction score vs. DV characteristics"
   ]
  },
  {
   "cell_type": "code",
   "execution_count": null,
   "metadata": {},
   "outputs": [],
   "source": [
    "sns.set_context('talk')\n",
    "sns.set_style('white')\n",
    "ind_vars = ['icc', 'communality'] # 'avg_correlation' could be included\n",
    "N = len(ind_vars)*len(reconstruction_summaries.keys())\n",
    "size=6\n",
    "f, axes = plt.subplots(2,N,figsize=(size*N, size*2))\n",
    "for i, (name, reconstruction) in enumerate(reconstruction_summaries.items()):\n",
    "    for j, var in enumerate(ind_vars):\n",
    "        col_i = len(ind_vars)*i+j\n",
    "        for k, pop_size in enumerate(pop_sizes):\n",
    "            sns.regplot(var, 'mean', \n",
    "                        data=reconstruction.query('pop_size==%s' % pop_size), \n",
    "                        label=pop_size, ax=axes[0][col_i], color=colors[k])\n",
    "            sns.regplot(var, 'std', \n",
    "                        data=reconstruction.query('pop_size==%s' % pop_size), \n",
    "                        label=pop_size, ax=axes[1][col_i], color=colors[k])\n",
    "        # mean plots\n",
    "        axes[0][col_i].tick_params(bottom=False, labelbottom=False)\n",
    "        axes[0][col_i].set_xlabel('')\n",
    "        axes[0][col_i].set_ylabel('')\n",
    "        axes[0][col_i].set_ylim(-.2, 1.1)\n",
    "        # sd plots\n",
    "        axes[1][col_i].set_xlabel(var.title(), fontweight='bold', fontsize=size*4)\n",
    "        axes[1][col_i].set_ylabel('')\n",
    "        axes[1][col_i].set_ylim(-.1, .6)\n",
    "        if col_i==0:\n",
    "            axes[0][col_i].set_ylabel(r'$\\mu$', fontweight='bold', fontsize=size*5)\n",
    "            axes[1][col_i].set_ylabel(r'$\\sigma$', fontweight='bold', fontsize=size*5)\n",
    "        else:\n",
    "            axes[0][col_i].tick_params(left=False, labelleft=False)\n",
    "            axes[1][col_i].tick_params(left=False, labelleft=False)\n",
    "    f.text(0.31+.4*i, .93, name.title(), ha='center', fontsize=size*5)\n",
    "\n",
    "axes[0][-1].legend(title='N')\n",
    "plt.subplots_adjust(wspace=.1, hspace=.1)\n",
    "if save:\n",
    "    save_figure(f, path.join(plot_dir, 'Fig4_DV_characteristics.png'), save_kws={'dpi': 300})"
   ]
  },
  {
   "cell_type": "markdown",
   "metadata": {},
   "source": [
    "It seems clear that DVs with poor reliability and communality are not reconstructed well. A less \"analysis based\" way to think about this is reconstruction will be worse if you are far away from the other variables in the set.\n",
    "\n",
    "Similarly, correlation with the overall dataset is important for reconstruction. All of this says that ontological mapping will be more successful if you have an a-priori reason to believe your new variable has something to do with the rest of the variables in the ontology. The weaker you believe that bond, the more data you should collect to articulate the connection"
   ]
  },
  {
   "cell_type": "markdown",
   "metadata": {},
   "source": [
    "We can dive in and look at one high/mediun/low reliable variable to see the reconstruction performance"
   ]
  },
  {
   "cell_type": "code",
   "execution_count": null,
   "metadata": {},
   "outputs": [],
   "source": [
    "\"\"\"\n",
    "sorted_retest_vals = retest_vals.sort_values().index\n",
    "N = len(sorted_retest_vals)\n",
    "high_var = sorted_retest_vals[N-1]\n",
    "med_var = sorted_retest_vals[N//2]\n",
    "low_var = sorted_retest_vals[0]\n",
    "\n",
    "f, axes = plt.subplots(1,3, figsize=(20,8))\n",
    "for ax, var in zip(axes, [high_var, med_var, low_var]):\n",
    "    retest_in = var.replace('.logTr','').replace('.ReflogTr','')\n",
    "    reliability = format_num(retest_data.loc[retest_in]['icc'])\n",
    "    plot_df = k_reconstruction.query('var == \"%s\" and label==\"partial_reconstruct\"' % var)\n",
    "    sns.boxplot(x='pop_size', y='corr_score', data=plot_df,  ax=ax)\n",
    "    ax.set_title('%s\\nICC: %s' % (var, reliability))\n",
    "    ax.set_ylim([-.2,1.1])\n",
    "plt.subplots_adjust(wspace=.6)\n",
    "\"\"\""
   ]
  },
  {
   "cell_type": "markdown",
   "metadata": {},
   "source": [
    "#### Visualization of reconstructed distances"
   ]
  },
  {
   "cell_type": "code",
   "execution_count": null,
   "metadata": {},
   "outputs": [],
   "source": [
    "plot_distance_recon(mean_reconstructed_distances, orig_distances, size=12)"
   ]
  },
  {
   "cell_type": "code",
   "execution_count": null,
   "metadata": {},
   "outputs": [],
   "source": [
    "# save\n",
    "if save:\n",
    "    plot_distance_recon(mean_reconstructed_distances, orig_distances, size=15, \n",
    "                       filename=path.join(plot_dir, 'Fig6_distance_reconstructions.png'))"
   ]
  },
  {
   "cell_type": "markdown",
   "metadata": {},
   "source": [
    "#### Visualization of Variability"
   ]
  },
  {
   "cell_type": "markdown",
   "metadata": {},
   "source": [
    "##### Visualizing each factor's reconstruction separately"
   ]
  },
  {
   "cell_type": "code",
   "execution_count": null,
   "metadata": {},
   "outputs": [],
   "source": [
    "plot_factor_reconstructions(reconstructions['KNN'], size=15, plot_diagonal=True, plot_regression=False)\n",
    "plot_factor_reconstructions(reconstructions['RidgeCV'], size=15, plot_diagonal=True, plot_regression=False)"
   ]
  },
  {
   "cell_type": "code",
   "execution_count": null,
   "metadata": {},
   "outputs": [],
   "source": [
    "# save\n",
    "if save:\n",
    "    plot_factor_reconstructions(reconstructions['KNN'], size=10, plot_diagonal=True, plot_regression=False,\n",
    "                                filename=path.join(plot_dir, 'Fig5a_KNN_factor_reconstructions.png'))\n",
    "    plot_factor_reconstructions(reconstructions['RidgeCV'], size=10, plot_diagonal=True, plot_regression=False,\n",
    "                                filename=path.join(plot_dir, 'Fig5b_RidgeCV_factor_reconstructions.png'))"
   ]
  },
  {
   "cell_type": "markdown",
   "metadata": {},
   "source": [
    "##### Using TSNE"
   ]
  },
  {
   "cell_type": "markdown",
   "metadata": {},
   "source": [
    "More complicate, we can visualize this by looking at the MDS plotting:\n",
    "1. The original DVs\n",
    "2. The \"best\" reconstruction using all the data\n",
    "3. The n_reps simulated estimates with a smaller population size"
   ]
  },
  {
   "cell_type": "code",
   "execution_count": null,
   "metadata": {},
   "outputs": [],
   "source": [
    "plot_reconstruction_2D(k_reconstruction, n_reps=30, n_colored=6, use_background=True)"
   ]
  },
  {
   "cell_type": "markdown",
   "metadata": {},
   "source": [
    "### Save Visualizations"
   ]
  },
  {
   "cell_type": "code",
   "execution_count": null,
   "metadata": {},
   "outputs": [],
   "source": [
    "if save:\n",
    "    for name, reconstruction in reconstructions.items():\n",
    "        plot_reconstruction_hist(reconstruction, title='KNN Reconstruction', size=14,\n",
    "                                filename=path.join(plot_dir, name+'_recon_hist.pdf'))\n",
    "        plot_factor_reconstructions(reconstruction, size=10,\n",
    "                                   filename=path.join(plot_dir, name+'_factor_recon.pdf'))"
   ]
  },
  {
   "cell_type": "markdown",
   "metadata": {},
   "source": [
    "## Reduced Reconstruction using fewer contextualizing variables"
   ]
  },
  {
   "cell_type": "code",
   "execution_count": null,
   "metadata": {},
   "outputs": [],
   "source": [
    "results = results\n",
    "regex_list = ['^stroop']\n",
    "n_reps = 5\n",
    "k_list = (5,10)\n",
    "metric = knn_metric\n",
    "EFA_rotation = 'oblimin'\n",
    "independent_EFA=False\n",
    "recon_fun=linear_reconstruction"
   ]
  },
  {
   "cell_type": "code",
   "execution_count": null,
   "metadata": {},
   "outputs": [],
   "source": [
    "from selfregulation.utils.r_to_py_utils import psychFA\n",
    "from sklearn.neighbors import KNeighborsRegressor\n",
    "\n",
    "def reorder_FA(ref_FA, new_FA):\n",
    "    \"\"\" Reorder FA to correspond to old FA, and check that there is such a correspondence\"\"\"\n",
    "    c = len(ref_FA.columns)\n",
    "    corr = pd.concat([ref_FA, new_FA], axis=1, sort=False).corr().iloc[c:, :c]\n",
    "    new_FA = new_FA.loc[:,corr.idxmax()]\n",
    "    new_FA.columns = ref_FA.columns\n",
    "    # if the correlation is low, the factors are completely off\n",
    "    if corr.max().min() < .9:\n",
    "        return None\n",
    "    else:\n",
    "        return new_FA\n",
    "\n",
    "def run_kNeighbors(distances, loadings, test_vars, \n",
    "                   weightings=('uniform',), k_list=(3)):\n",
    "    \"\"\"\n",
    "    Run Knearest neighbor using precomputed distances to create an ontological mapping\n",
    "    \n",
    "    Args:\n",
    "        distances: square distance matrix to pass to KNeighborsRegressors\n",
    "        loadings: loading matrix for training\n",
    "        test_vars: variable to reconstruct\n",
    "        weightings: (optional) list of weightings to pass to KNeighbors\n",
    "        k_list: list of k values to pass to KNeighbors as n_neighbors\n",
    "    \"\"\"\n",
    "    train_distances = distances.loc[loadings.index, loadings.index]\n",
    "    test_distances = distances.loc[test_vars, loadings.index]\n",
    "    to_return = pd.DataFrame()\n",
    "    for weighting in weightings:\n",
    "        for k in k_list:\n",
    "            clf = KNeighborsRegressor(metric='precomputed', n_neighbors=k, weights=weighting)\n",
    "            clf.fit(train_distances, loadings)\n",
    "            out = clf.predict(test_distances)\n",
    "            out = pd.DataFrame(out, columns=loadings.columns)\n",
    "            out['var'] = test_vars\n",
    "            out['k'] = k\n",
    "            out['weighting'] = weighting\n",
    "            # add neighbors and distances\n",
    "            neighbors = clf.kneighbors(test_distances)\n",
    "            out['distances'] = tuple(neighbors[0])\n",
    "            out['neighbors'] = tuple(test_distances.columns[neighbors[1]])\n",
    "            to_return = pd.concat([to_return, out], sort=False)\n",
    "    return to_return\n",
    "    \n",
    "    \n",
    "def run_EFA(data, c, rotation, orig_loading):\n",
    "    fa, out = psychFA(data, c, rotate=EFA_rotation)\n",
    "    loadings = pd.DataFrame(out['loadings'], index=data.columns)\n",
    "    loadings = reorder_FA(orig_loadings, loadings)\n",
    "    return loadings\n",
    "\n",
    "def get_closest(data, target, n_tasks=5, metric='correlation'):\n",
    "    index = data.columns.get_loc(target)\n",
    "    distances = squareform(pdist(data.T, metric=metric))\n",
    "    sort_vars = data.columns[np.argsort(distances[index])]\n",
    "    # get closest tasks until tasks are filled up\n",
    "    tasks = set()\n",
    "    for var in sort_vars:\n",
    "        task, *_ = var.split('.')\n",
    "        tasks.add(task)\n",
    "        if len(tasks) == n_tasks:\n",
    "            break\n",
    "    # get variables from tasks\n",
    "    neighbors = data.filter(regex='|'.join(tasks)).columns\n",
    "    return neighbors"
   ]
  },
  {
   "cell_type": "code",
   "execution_count": null,
   "metadata": {},
   "outputs": [],
   "source": [
    "full_data = results.data\n",
    "c = results.EFA.get_c()\n",
    "orig_loadings = results.EFA.get_loading(c, rotate=EFA_rotation)\n",
    "\n",
    "full_reconstruction = pd.DataFrame()\n",
    "regex_list = ['^'+m for m in measure_list]\n",
    "\n",
    "for n_available_tasks in range(1,11):\n",
    "    for drop_regex in regex_list:\n",
    "        # refit an EFA model without variable    \n",
    "        drop_vars = list(full_data.filter(regex=drop_regex).columns)\n",
    "        subset = full_data.drop(drop_vars, axis=1)\n",
    "        full_loadings = run_EFA(subset, c, EFA_rotation, orig_loadings)\n",
    "        if full_loadings is None:\n",
    "            continue\n",
    "        for var in drop_vars:\n",
    "            # imagine we have a good estimate of one measure tomap is related to\n",
    "            target = full_data.corr()[var].drop(drop_vars).idxmax()\n",
    "            # get a neighborhood around that target\n",
    "            available_vars = get_closest(full_loadings.T, target, n_tasks=n_available_tasks,\n",
    "                                        metric='correlation')\n",
    "\n",
    "            # get dataset and loadings\n",
    "            data = full_data.loc[:, set(available_vars) | set(drop_vars)]\n",
    "            loadings = full_loadings.loc[available_vars,:]\n",
    "\n",
    "            distances = pd.DataFrame(squareform(pdist(data.T, metric='correlation')), \n",
    "                                     index=data.columns, \n",
    "                                     columns=data.columns).drop(drop_vars, axis=1)\n",
    "            # \n",
    "            weightings = ['distance']\n",
    "            var_reconstruction = run_kNeighbors(distances, loadings, [var], weightings, \n",
    "                                                [min(loadings.shape[0], 13)])\n",
    "            var_reconstruction['label'] = \"closest_reconstruction\"\n",
    "            var_reconstruction['n_tasks'] = n_available_tasks\n",
    "            full_reconstruction = pd.concat([full_reconstruction, var_reconstruction])\n",
    "full_reconstruction = full_reconstruction.sort_values(by='var')\n",
    "full_reconstruction.reset_index(drop=True, inplace=True)"
   ]
  },
  {
   "cell_type": "code",
   "execution_count": null,
   "metadata": {},
   "outputs": [],
   "source": [
    "# get reconstruction scores\n",
    "loadings = results.EFA.get_loading(c=c)\n",
    "loadings\n",
    "scores = []\n",
    "for i, row in full_reconstruction.iterrows():\n",
    "    var = row['var']\n",
    "    onto_embedding = loadings.loc[var]\n",
    "    estimated_embedding = row[onto_embedding.index]\n",
    "    score = np.corrcoef(list(estimated_embedding), \n",
    "                          list(onto_embedding))[0,1]\n",
    "    scores.append(score)\n",
    "full_reconstruction.loc[:, 'score'] = scores"
   ]
  },
  {
   "cell_type": "code",
   "execution_count": null,
   "metadata": {},
   "outputs": [],
   "source": [
    "tmp = []\n",
    "for i,group in full_reconstruction.groupby(['n_tasks']):\n",
    "    group = group.loc[:,['var','score']].set_index('var')\n",
    "    group.columns = [i]\n",
    "    tmp.append(group)\n",
    "approach_compare = pd.concat(tmp, axis=1)\n",
    "approach_compare.columns = [i+': '+str(int(j)) for i,j in approach_compare.columns]"
   ]
  },
  {
   "cell_type": "markdown",
   "metadata": {},
   "source": [
    "## Visualization of Reduced Reconstruction"
   ]
  },
  {
   "cell_type": "code",
   "execution_count": null,
   "metadata": {},
   "outputs": [],
   "source": [
    "f = plt.figure(figsize=(12,8))\n",
    "plot_df = approach_compare.melt(var_name='# Tasks', value_name='Reconstruction Score')\n",
    "sns.boxplot(x='# Tasks', y='Reconstruction Score', data=plot_df, palette='Reds')\n",
    "plt.legend(loc='best')\n",
    "if save:\n",
    "    save_figure(f, path.join(plot_dir, 'Fig7_reduced_reconstructions_box.png'), save_kws={'dpi': 300})"
   ]
  },
  {
   "cell_type": "code",
   "execution_count": null,
   "metadata": {},
   "outputs": [],
   "source": [
    "corr = approach_compare.corr(method='spearman')\n",
    "mean_success = approach_compare.mean().values\n",
    "plot_df = approach_compare\n",
    "size = 2\n",
    "f=sns.pairplot(plot_df.iloc[:,0:8], height=size,\n",
    "             plot_kws={'color': [.4,.4,.4],\n",
    "                       's': 40},\n",
    "             diag_kws={'bins': 20,\n",
    "                      'edgecolor': 'k',\n",
    "                      'linewidth': size/4})\n",
    "axes = f.axes\n",
    "# fix axes limits\n",
    "for i in range(len(f.axes)):\n",
    "    for j in range(len(f.axes)):\n",
    "        ax = axes[i][j]\n",
    "        ax.set_ylim([.15,1.1])\n",
    "        ax.tick_params(left=False, bottom=False,\n",
    "                      labelleft=False, labelbottom=False)\n",
    "        if i!=j:\n",
    "            ax.set_xlim([.15,1.1])\n",
    "            ax.plot(ax.get_xlim(), ax.get_ylim(), lw=size, ls=\"--\", c=\".3\", zorder=-1)\n",
    "        if j<i:\n",
    "            x = .6; y = .3\n",
    "            if mean_success[j] > mean_success[i]:\n",
    "                x = .28; y = 1\n",
    "            ax.text(x, y, r'$\\rho$ = %s' % format_num(corr.iloc[i,j]),\n",
    "                   fontsize=size*8)\n",
    "        # change sizing for upper triangle based on icc\n",
    "        if j>i: \n",
    "            ax.set_visible(False)\n",
    "            #ax.collections[0].set_sizes(plot_df['icc']**2*100)\n",
    "            \n",
    "# color diagonal\n",
    "for i,ax in enumerate(f.diag_axes):\n",
    "    ax.set_title(axes[i][0].get_ylabel(), color=colors[i%4], fontsize=size*9)\n",
    "    for patch in ax.patches:\n",
    "        patch.set_facecolor(colors[i%4])\n",
    "        \n",
    "# color labels\n",
    "for i in range(len(f.axes)):\n",
    "    left_ax = axes[i][0]\n",
    "    bottom_ax = axes[-1][i]\n",
    "    left_ax.set_ylabel(left_ax.get_ylabel(), color=colors[i%4],labelpad=10, fontsize=size*9)\n",
    "    bottom_ax.set_xlabel('')\n",
    "    \n",
    "# set tick spacing\n",
    "ax = axes[-1][-2]\n",
    "ax.tick_params(length=1, width=1, labelleft=True, labelbottom=True)\n",
    "ax.set_xticks([.18, 1])\n",
    "ax.set_xticklabels(['0.2', '1.0'], fontsize=size*8, fontweight='bold')\n",
    "ax.set_yticks([1])\n",
    "ax.set_yticklabels(['1.0'], fontsize=size*8, fontweight='bold')\n",
    "# common X\n",
    "f.fig.text(0.5, 0.02, 'Average DV Reconstruction Score', ha='center', fontsize=size*10)\n",
    "if save:\n",
    "    save_figure(f, path.join(plot_dir, 'SFig2_reduced_reconstructions_mat.png'), save_kws={'dpi': 300})"
   ]
  }
 ],
 "metadata": {
  "kernelspec": {
   "display_name": "Python 3",
   "language": "python",
   "name": "python3"
  },
  "language_info": {
   "codemirror_mode": {
    "name": "ipython",
    "version": 3
   },
   "file_extension": ".py",
   "mimetype": "text/x-python",
   "name": "python",
   "nbconvert_exporter": "python",
   "pygments_lexer": "ipython3",
   "version": "3.5.3"
  }
 },
 "nbformat": 4,
 "nbformat_minor": 2
}
