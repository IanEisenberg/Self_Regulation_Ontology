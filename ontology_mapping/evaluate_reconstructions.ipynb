{
 "cells": [
  {
   "cell_type": "code",
   "execution_count": null,
   "metadata": {},
   "outputs": [],
   "source": [
    "from glob import glob\n",
    "import numpy as np\n",
    "from os import path\n",
    "import pandas as pd\n",
    "from scipy.spatial.distance import pdist, squareform\n",
    "import sklearn\n",
    "from sklearn.svm import LinearSVC\n",
    "from sklearn.neighbors import KNeighborsClassifier\n",
    "from sklearn.preprocessing import LabelEncoder\n",
    "import statsmodels.api as sm\n",
    "import statsmodels.formula.api as smf\n",
    "\n",
    "from dimensional_structure.EFA_plots import get_communality\n",
    "from dimensional_structure.utils import abs_pdist\n",
    "from ontology_mapping.reconstruction_plots import (plot_factor_reconstructions,\n",
    "                                                    plot_reconstruction_hist,\n",
    "                                                  plot_distance_recon,\n",
    "                                                  plot_reconstruction_2D)\n",
    "from ontology_mapping.reconstruction_utils import (combine_files,\n",
    "                                                   load_files,\n",
    "                                                  summarize_k)\n",
    "from selfregulation.utils.plot_utils import beautify_legend, format_num, save_figure\n",
    "from selfregulation.utils.utils import get_info, get_recent_dataset, get_retest_data\n",
    "from selfregulation.utils.result_utils import load_results"
   ]
  },
  {
   "cell_type": "code",
   "execution_count": null,
   "metadata": {},
   "outputs": [],
   "source": [
    "%matplotlib inline\n",
    "# import matplotlib.pyplot as plt\n",
    "from matplotlib import ticker\n",
    "import matplotlib.gridspec as gridspec\n",
    "import matplotlib.pyplot as plt\n",
    "import seaborn as sns"
   ]
  },
  {
   "cell_type": "code",
   "execution_count": null,
   "metadata": {},
   "outputs": [],
   "source": [
    "dataset = get_recent_dataset()\n",
    "results_dir = get_info('results_directory')\n",
    "ontology_results_dir = path.join(results_dir, 'ontology_reconstruction', dataset, '*', 'oblimin')\n",
    "retest_data = get_retest_data(dataset.replace('Complete', 'Retest'))\n",
    "plot_dir = glob(path.join(ontology_results_dir, 'Plots'))[0]\n",
    "save=True"
   ]
  },
  {
   "cell_type": "code",
   "execution_count": null,
   "metadata": {},
   "outputs": [],
   "source": [
    "results = load_results(dataset)['task']\n",
    "c = results.EFA.get_c()"
   ]
  },
  {
   "cell_type": "markdown",
   "metadata": {},
   "source": [
    "# Load Reconstructions"
   ]
  },
  {
   "cell_type": "code",
   "execution_count": null,
   "metadata": {},
   "outputs": [],
   "source": [
    "KNNR_files = glob(path.join(ontology_results_dir, 'KNNR_*'))\n",
    "KNNR_loaded = load_files(KNNR_files)\n",
    "KNNR_var_summary, KNNR_best_params, KNNR_reconstructions = summarize_k(KNNR_loaded)"
   ]
  },
  {
   "cell_type": "code",
   "execution_count": null,
   "metadata": {},
   "outputs": [],
   "source": [
    "KNNRind_files = glob(path.join(ontology_results_dir, 'KNNRind_*'))\n",
    "KNNRind_loaded = load_files(KNNRind_files)\n",
    "KNNRind_var_summary, KNNRind_best_params, KNNRind_reconstructions = summarize_k(KNNRind_loaded)"
   ]
  },
  {
   "cell_type": "code",
   "execution_count": null,
   "metadata": {},
   "outputs": [],
   "source": [
    "ridge_files = glob(path.join(ontology_results_dir, '*RidgeCV*'))\n",
    "ridge_loaded = load_files(ridge_files)\n",
    "linear_files = glob(path.join(ontology_results_dir, '*Linear*'))\n",
    "linear_loaded = load_files(linear_files)\n",
    "linear_reconstructions = {'Linear': combine_files(linear_loaded),\n",
    "                         'RidgeCV': combine_files(ridge_loaded)}"
   ]
  },
  {
   "cell_type": "markdown",
   "metadata": {},
   "source": [
    "# Summarize reconstructions"
   ]
  },
  {
   "cell_type": "code",
   "execution_count": null,
   "metadata": {},
   "outputs": [],
   "source": [
    "KNNR_reconstructions.query('label==\"partial_reconstruct\"') \\\n",
    "    .groupby('pop_size')['corr_score'].agg(['mean','std'])"
   ]
  },
  {
   "cell_type": "code",
   "execution_count": null,
   "metadata": {},
   "outputs": [],
   "source": [
    "KNNRind_reconstructions.query('label==\"partial_reconstruct\"') \\\n",
    "    .groupby('pop_size')['corr_score'].agg(['mean','std'])"
   ]
  },
  {
   "cell_type": "code",
   "execution_count": null,
   "metadata": {},
   "outputs": [],
   "source": [
    "summary = pd.DataFrame()\n",
    "for clf, df in linear_reconstructions.items():\n",
    "    tmp = df.query('label==\"partial_reconstruct\"') \\\n",
    "        .groupby('pop_size').corr_score.agg([np.mean, np.std])\n",
    "    tmp.loc[:,'clf'] = clf\n",
    "    summary = pd.concat([summary, tmp], sort=False)\n",
    "print(summary)"
   ]
  },
  {
   "cell_type": "markdown",
   "metadata": {},
   "source": [
    "# More focuses analyses"
   ]
  },
  {
   "cell_type": "code",
   "execution_count": null,
   "metadata": {},
   "outputs": [],
   "source": [
    "reconstructions = {'KNN': KNNR_reconstructions,\n",
    "                   'RidgeCV': linear_reconstructions['RidgeCV']}\n",
    "reconstructed_vars = sorted(KNNR_reconstructions['var'].unique())\n",
    "assert set(reconstructed_vars) == set(reconstructions['RidgeCV']['var'].unique())"
   ]
  },
  {
   "cell_type": "markdown",
   "metadata": {},
   "source": [
    "## How well are we reconstructing distances?"
   ]
  },
  {
   "cell_type": "code",
   "execution_count": null,
   "metadata": {},
   "outputs": [],
   "source": [
    "orig_loadings = results.EFA.get_loading(c=c).loc[reconstructed_vars]\n",
    "orig_distances = pd.DataFrame(squareform(abs_pdist(orig_loadings)), index=orig_loadings.index, columns=orig_loadings.index)\n",
    "\n",
    "reconstructed_distances = {}\n",
    "for name, reconstruction in reconstructions.items():\n",
    "    pop_sizes = sorted(reconstruction.pop_size.dropna().unique())\n",
    "    for pop_size in pop_sizes:\n",
    "        reconstructed_distances[name+'_%03d' % pop_size] = []\n",
    "        for rep in range(1, int(reconstruction.rep.max()+1)):\n",
    "            reconstructed_loadings = reconstruction.query('pop_size == %s and rep==%s' % (pop_size, rep)).sort_values(by='var')\n",
    "            distances = abs_pdist(reconstructed_loadings.iloc[:,:c])\n",
    "            reconstructed_distances[name+'_%03d' % pop_size].append(distances)\n",
    "            \n",
    "mean_reconstructed_distances = {}\n",
    "std_reconstructed_distances = {}\n",
    "\n",
    "for key, distances in reconstructed_distances.items():\n",
    "    mean_reconstructed_distances[key] = \\\n",
    "            pd.DataFrame(squareform(np.mean(distances, 0)),\n",
    "                                    index=orig_loadings.index, \n",
    "                                    columns=orig_loadings.index)\n",
    "    std_reconstructed_distances[key] = \\\n",
    "            pd.DataFrame(squareform(np.std(distances, 0)),\n",
    "                                    index=orig_loadings.index, \n",
    "                                    columns=orig_loadings.index)\n"
   ]
  },
  {
   "cell_type": "markdown",
   "metadata": {},
   "source": [
    "## Variable characteristics that influence reconstruction quality"
   ]
  },
  {
   "cell_type": "code",
   "execution_count": null,
   "metadata": {},
   "outputs": [],
   "source": [
    "# variable characteristics\n",
    "retest_index = [i.replace('.logTr','').replace('.ReflogTr','') for i in reconstructed_vars]\n",
    "retest_vals = retest_data.loc[retest_index,'icc3.k']\n",
    "retest_vals.index = reconstructed_vars\n",
    "communality = get_communality(results.EFA).loc[retest_index]\n",
    "communality.index = reconstructed_vars\n",
    "avg_corr  = abs(results.data.corr()).replace(1,0).mean()\n",
    "avg_corr.name = \"avg_correlation\""
   ]
  },
  {
   "cell_type": "code",
   "execution_count": null,
   "metadata": {},
   "outputs": [],
   "source": [
    "# create summaries\n",
    "additional = pd.concat([retest_vals, communality, avg_corr], axis=1, sort=True)\n",
    "reconstruction_summaries = {}\n",
    "for name, reconstruction in reconstructions.items():\n",
    "    s = reconstruction.query('label == \"partial_reconstruct\"') \\\n",
    "        .groupby(['var', 'pop_size']).corr_score.agg(['mean', 'std'])\n",
    "    s = s.reset_index().join(additional, on='var')\n",
    "    reconstruction_summaries[name] = s\n",
    "all_reconstructions = pd.concat(reconstruction_summaries).reset_index()\n",
    "all_reconstructions = all_reconstructions.rename({'level_0': 'approach'}, axis=1).drop('level_1', axis=1)"
   ]
  },
  {
   "cell_type": "markdown",
   "metadata": {},
   "source": [
    "Does reconstruction success at one population size predict the next?"
   ]
  },
  {
   "cell_type": "code",
   "execution_count": null,
   "metadata": {},
   "outputs": [],
   "source": [
    "tmp = []\n",
    "for i,group in all_reconstructions.groupby(['approach', 'pop_size']):\n",
    "    group = group.loc[:,['var','mean']].set_index('var')\n",
    "    group.columns = [i]\n",
    "    tmp.append(group)\n",
    "approach_compare = pd.concat(tmp, axis=1)\n",
    "approach_compare.columns = [i.replace('KNN', 'KNNR') +': '+str(int(j)) for i,j in approach_compare.columns]\n",
    "# correlation of reconstructions\n",
    "corr= approach_compare.corr(method='spearman')\n",
    "overall_correlation = np.mean(corr.values[np.tril_indices_from(corr, -1)])\n",
    "print('DV reconstruction score correlates %s across approaches' % format_num(overall_correlation))"
   ]
  },
  {
   "cell_type": "markdown",
   "metadata": {},
   "source": [
    "Model reconstruction success as a function of DV characteristics, approach and subpopulation size"
   ]
  },
  {
   "cell_type": "code",
   "execution_count": null,
   "metadata": {},
   "outputs": [],
   "source": [
    "all_reconstructions.loc[:, 'z_mean'] = np.arctanh(all_reconstructions['mean'])\n",
    "md = smf.mixedlm(\"z_mean ~ (pop_size + Q('icc3.k') + communality)*C(approach, Sum)\", all_reconstructions, groups=all_reconstructions[\"var\"])\n",
    "mdf = md.fit()\n",
    "mdf.summary()\n",
    "\n",
    "# other way to do it\n",
    "# endog, exog = patsy.dmatrices(\"z_mean ~ (pop_size + icc + avg_correlation)*C(approach, Sum)\", all_reconstructions, return_type='dataframe')\n",
    "# md = sm.MixedLM(endog=endog, exog=exog, groups=all_reconstructions['var'])"
   ]
  },
  {
   "cell_type": "markdown",
   "metadata": {},
   "source": [
    "## Visualization\n",
    "\n",
    "Of concern is the average correspondence and variability between the estimated ontological fingerprint of a DV and its \"ground-truth\" (the original estimate when it was part of the EFA model)\n",
    "\n",
    "One way to look at this is just the average reconstruction score (e.g., for example) and variability of reconstruction score as a function of pseudo-pop-size and model parameters"
   ]
  },
  {
   "cell_type": "code",
   "execution_count": null,
   "metadata": {},
   "outputs": [],
   "source": [
    "pop_sizes = sorted(reconstructions['KNN'].pop_size.dropna().unique())\n",
    "colors = sns.color_palette('Set1', n_colors = len(pop_sizes), desat=.8)"
   ]
  },
  {
   "cell_type": "markdown",
   "metadata": {},
   "source": [
    "### Overall Performance"
   ]
  },
  {
   "cell_type": "code",
   "execution_count": null,
   "metadata": {},
   "outputs": [],
   "source": [
    "f = plt.figure(figsize=(12,8))\n",
    "sns.boxplot(x='pop_size', y='mean', hue='approach', data=all_reconstructions, palette='Reds')\n",
    "plt.legend(loc='best')\n",
    "if save:\n",
    "    f.savefig(path.join(plot_dir, 'reconstruction_performance.png'), transparent=True)"
   ]
  },
  {
   "cell_type": "markdown",
   "metadata": {},
   "source": [
    "Plot relationship of performance for each DV over different approach parameterizations"
   ]
  },
  {
   "cell_type": "code",
   "execution_count": null,
   "metadata": {},
   "outputs": [],
   "source": [
    "corr = approach_compare.corr(method='spearman')\n",
    "mean_success = approach_compare.mean()\n",
    "plot_df = approach_compare.join(retest_vals).join(communality)\n",
    "size = 2\n",
    "f=sns.pairplot(plot_df.iloc[:,0:8], height=size,\n",
    "             plot_kws={'color': [.4,.4,.4],\n",
    "                       's': plot_df['communality']*250},\n",
    "             diag_kws={'bins': 20,\n",
    "                      'edgecolor': 'k',\n",
    "                      'linewidth': size/4})\n",
    "axes = f.axes\n",
    "# fix axes limits\n",
    "for i in range(len(f.axes)):\n",
    "    for j in range(len(f.axes)):\n",
    "        ax = axes[i][j]\n",
    "        ax.set_ylim([.15,1.1])\n",
    "        ax.tick_params(left=False, bottom=False,\n",
    "                      labelleft=False, labelbottom=False)\n",
    "        if i!=j:\n",
    "            ax.set_xlim([.15,1.1])\n",
    "            ax.plot(ax.get_xlim(), ax.get_ylim(), lw=size, ls=\"--\", c=\".3\", zorder=-1)\n",
    "        if j<i:\n",
    "            x = .6; y = .3\n",
    "            if mean_success[j] > mean_success[i]:\n",
    "                x = .28; y = 1\n",
    "            ax.text(x, y, r'$\\rho$ = %s' % format_num(corr.iloc[i,j]),\n",
    "                   fontsize=size*8)\n",
    "        # change sizing for upper triangle based on icc\n",
    "        if j>i: \n",
    "            ax.set_visible(False)\n",
    "            #ax.collections[0].set_sizes(plot_df['icc']**2*100)\n",
    "            \n",
    "# color diagonal\n",
    "for i,ax in enumerate(f.diag_axes):\n",
    "    ax.set_title(axes[i][0].get_ylabel(), color=colors[i%4], fontsize=size*9)\n",
    "    for patch in ax.patches:\n",
    "        patch.set_facecolor(colors[i%4])\n",
    "        \n",
    "# color labels\n",
    "for i in range(len(f.axes)):\n",
    "    left_ax = axes[i][0]\n",
    "    bottom_ax = axes[-1][i]\n",
    "    left_ax.set_ylabel(left_ax.get_ylabel(), color=colors[i%4],labelpad=10, fontsize=size*9)\n",
    "    bottom_ax.set_xlabel('')\n",
    "    \n",
    "# set tick spacing\n",
    "ax = axes[-1][-2]\n",
    "ax.tick_params(length=1, width=1, labelleft=True, labelbottom=True)\n",
    "ax.set_xticks([.18, 1])\n",
    "ax.set_xticklabels(['0.2', '1.0'], fontsize=size*8, fontweight='bold')\n",
    "ax.set_yticks([1])\n",
    "ax.set_yticklabels(['1.0'], fontsize=size*8, fontweight='bold')\n",
    "# common X\n",
    "f.fig.text(0.5, 0.02, 'Average DV Reconstruction Score', ha='center', fontsize=size*10)\n",
    "if save:\n",
    "    save_figure(f, path.join(plot_dir, 'SFig1_cross_approach_correlations.png'), save_kws={'dpi': 300})"
   ]
  },
  {
   "cell_type": "markdown",
   "metadata": {
    "toc-hr-collapsed": false
   },
   "source": [
    "### K Nearest Visualization (Example)"
   ]
  },
  {
   "cell_type": "markdown",
   "metadata": {},
   "source": [
    "#### Average Performance by Model Parameters"
   ]
  },
  {
   "cell_type": "code",
   "execution_count": null,
   "metadata": {},
   "outputs": [],
   "source": [
    "desaturated_colors = [sns.desaturate(c, .5) for c in colors]\n",
    "plot_colors = list(zip(colors, desaturated_colors))\n",
    "\n",
    "plot_df = KNNR_var_summary.reset_index()\n",
    "sns.set_context('talk')\n",
    "f, ax = plt.subplots(1, 1, figsize=(12,6))\n",
    "axes = f.get_axes()\n",
    "for i, pop_size in enumerate(pop_sizes):\n",
    "    sns.pointplot(x='k', y='corr_score', hue='weighting', \n",
    "                data=plot_df.query('pop_size==%s' % pop_size),\n",
    "                ax=ax, dodge=.35, alpha=1, join=False, ci=None,\n",
    "                palette = plot_colors[i], label=pop_size)\n",
    "ax.legend().set_visible(False)\n",
    "ax.set_xticklabels([int(i) for i in plot_df.k.unique()])\n",
    "ax.set_ylim(.25,1.1)\n",
    "ax.set_ylabel('Reconstruction Score')\n",
    "plt.subplots_adjust(hspace=.4)"
   ]
  },
  {
   "cell_type": "markdown",
   "metadata": {
    "toc-hr-collapsed": true
   },
   "source": [
    "#### Performance for each DV\n",
    "\n",
    "Only taking the best parameters from the k-nearest neighbor algorithm"
   ]
  },
  {
   "cell_type": "code",
   "execution_count": null,
   "metadata": {},
   "outputs": [],
   "source": [
    "var = \"simon.hddm_drift\"\n",
    "ax = reconstructions['KNN'].query('var == \"%s\" and pop_size==100' % var).corr_score.hist(bins=30,\n",
    "                                                                          edgecolor='white',\n",
    "                                                                           figsize=[10,6])\n",
    "ax.set_xlabel('Reconstruction Score', fontsize=40, labelpad=30)\n",
    "ax.set_yticklabels([])\n",
    "ax.set_yticks([])\n",
    "ax.xaxis.set_major_locator(ticker.MultipleLocator(.05))\n",
    "ax.tick_params(labelsize=30)\n",
    "ax.spines['left'].set_visible(False)\n",
    "ax.spines['right'].set_visible(False)\n",
    "ax.spines['top'].set_visible(False)\n",
    "ax.grid(False)"
   ]
  },
  {
   "cell_type": "markdown",
   "metadata": {},
   "source": [
    "##### Histogram of DV reconstruction scores"
   ]
  },
  {
   "cell_type": "code",
   "execution_count": null,
   "metadata": {},
   "outputs": [],
   "source": [
    "plot_reconstruction_hist(reconstructions['KNN'], title='KNNR Reconstruction', size=14)\n",
    "plot_reconstruction_hist(reconstructions['RidgeCV'], title='RidgeCV Reconstruction', size=14)"
   ]
  },
  {
   "cell_type": "code",
   "execution_count": null,
   "metadata": {},
   "outputs": [],
   "source": [
    "# saving\n",
    "if save:\n",
    "    plot_reconstruction_hist(reconstructions['KNN'], title='KNN Reconstruction', size=14,\n",
    "                            filename=path.join(plot_dir, 'Fig3a_KNN_reconstruction.png'))\n",
    "    plot_reconstruction_hist(reconstructions['RidgeCV'], title='RidgeCV Reconstruction', size=14,\n",
    "                            filename=path.join(plot_dir, 'Fig3b_RidgeCV_reconstruction.png'))"
   ]
  },
  {
   "cell_type": "markdown",
   "metadata": {},
   "source": [
    "There is clearly a bit of variability in the reconstruction accuracy based on the variable itself. While this variability narrows with larger populations, it's still there, and there are a few variables that cannot be reconstructed at all\n",
    "\n",
    "We have access to some characteristics of these DVs (reliability, communality, avg correlation), which we can look at"
   ]
  },
  {
   "cell_type": "markdown",
   "metadata": {},
   "source": [
    "##### Reconstruction score vs. DV characteristics"
   ]
  },
  {
   "cell_type": "code",
   "execution_count": null,
   "metadata": {},
   "outputs": [],
   "source": [
    "sns.set_context('talk')\n",
    "sns.set_style('white')\n",
    "ind_vars = ['icc3.k', 'communality'] # 'avg_correlation' could be included\n",
    "N = len(ind_vars)*len(reconstruction_summaries.keys())\n",
    "size=6\n",
    "f, axes = plt.subplots(2,N,figsize=(size*N, size*2))\n",
    "for i, (name, reconstruction) in enumerate(reconstruction_summaries.items()):\n",
    "    for j, var in enumerate(ind_vars):\n",
    "        col_i = len(ind_vars)*i+j\n",
    "        for k, pop_size in enumerate(pop_sizes):\n",
    "            sns.regplot(var, 'mean', \n",
    "                        data=reconstruction.query('pop_size==%s' % pop_size), \n",
    "                        label=pop_size, ax=axes[0][col_i], color=colors[k])\n",
    "            sns.regplot(var, 'std', \n",
    "                        data=reconstruction.query('pop_size==%s' % pop_size), \n",
    "                        label=pop_size, ax=axes[1][col_i], color=colors[k])\n",
    "        # mean plots\n",
    "        axes[0][col_i].tick_params(bottom=False, labelbottom=False)\n",
    "        axes[0][col_i].set_xlabel('')\n",
    "        axes[0][col_i].set_ylabel('')\n",
    "        axes[0][col_i].set_ylim(-.2, 1.1)\n",
    "        # sd plots\n",
    "        axes[1][col_i].set_xlabel(var.title(), fontweight='bold', fontsize=size*4)\n",
    "        axes[1][col_i].set_ylabel('')\n",
    "        axes[1][col_i].set_ylim(-.1, .6)\n",
    "        if col_i==0:\n",
    "            axes[0][col_i].set_ylabel(r'$\\mu$', fontweight='bold', fontsize=size*5)\n",
    "            axes[1][col_i].set_ylabel(r'$\\sigma$', fontweight='bold', fontsize=size*5)\n",
    "        else:\n",
    "            axes[0][col_i].tick_params(left=False, labelleft=False)\n",
    "            axes[1][col_i].tick_params(left=False, labelleft=False)\n",
    "    f.text(0.31+.4*i, .93, name.title(), ha='center', fontsize=size*5)\n",
    "\n",
    "axes[0][-1].legend(title='N')\n",
    "plt.subplots_adjust(wspace=.1, hspace=.1)\n",
    "if save:\n",
    "    save_figure(f, path.join(plot_dir, 'Fig4_DV_characteristics.png'), save_kws={'dpi': 300})"
   ]
  },
  {
   "cell_type": "markdown",
   "metadata": {},
   "source": [
    "It seems clear that DVs with poor reliability and communality are not reconstructed well. A less \"analysis based\" way to think about this is reconstruction will be worse if you are far away from the other variables in the set.\n",
    "\n",
    "Similarly, correlation with the overall dataset is important for reconstruction. All of this says that ontological mapping will be more successful if you have an a-priori reason to believe your new variable has something to do with the rest of the variables in the ontology. The weaker you believe that bond, the more data you should collect to articulate the connection"
   ]
  },
  {
   "cell_type": "markdown",
   "metadata": {},
   "source": [
    "We can dive in and look at one high/mediun/low reliable variable to see the reconstruction performance"
   ]
  },
  {
   "cell_type": "code",
   "execution_count": null,
   "metadata": {},
   "outputs": [],
   "source": [
    "\"\"\"\n",
    "sorted_retest_vals = retest_vals.sort_values().index\n",
    "N = len(sorted_retest_vals)\n",
    "high_var = sorted_retest_vals[N-1]\n",
    "med_var = sorted_retest_vals[N//2]\n",
    "low_var = sorted_retest_vals[0]\n",
    "\n",
    "f, axes = plt.subplots(1,3, figsize=(20,8))\n",
    "for ax, var in zip(axes, [high_var, med_var, low_var]):\n",
    "    retest_in = var.replace('.logTr','').replace('.ReflogTr','')\n",
    "    reliability = format_num(retest_data.loc[retest_in]['icc'])\n",
    "    plot_df = k_reconstruction.query('var == \"%s\" and label==\"partial_reconstruct\"' % var)\n",
    "    sns.boxplot(x='pop_size', y='corr_score', data=plot_df,  ax=ax)\n",
    "    ax.set_title('%s\\nICC: %s' % (var, reliability))\n",
    "    ax.set_ylim([-.2,1.1])\n",
    "plt.subplots_adjust(wspace=.6)\n",
    "\"\"\""
   ]
  },
  {
   "cell_type": "markdown",
   "metadata": {},
   "source": [
    "#### Visualization of reconstructed distances"
   ]
  },
  {
   "cell_type": "code",
   "execution_count": null,
   "metadata": {},
   "outputs": [],
   "source": [
    "plot_distance_recon(mean_reconstructed_distances, orig_distances, size=12)"
   ]
  },
  {
   "cell_type": "code",
   "execution_count": null,
   "metadata": {},
   "outputs": [],
   "source": [
    "# save\n",
    "if save:\n",
    "    plot_distance_recon(mean_reconstructed_distances, orig_distances, size=15, \n",
    "                       filename=path.join(plot_dir, 'Fig6_distance_reconstructions.png'))"
   ]
  },
  {
   "cell_type": "markdown",
   "metadata": {},
   "source": [
    "#### Visualization of Variability"
   ]
  },
  {
   "cell_type": "markdown",
   "metadata": {},
   "source": [
    "##### Visualizing each factor's reconstruction separately"
   ]
  },
  {
   "cell_type": "code",
   "execution_count": null,
   "metadata": {},
   "outputs": [],
   "source": [
    "plot_factor_reconstructions(reconstructions['KNN'], size=15, plot_diagonal=True, plot_regression=False)\n",
    "plot_factor_reconstructions(reconstructions['RidgeCV'], size=15, plot_diagonal=True, plot_regression=False)"
   ]
  },
  {
   "cell_type": "code",
   "execution_count": null,
   "metadata": {},
   "outputs": [],
   "source": [
    "# save\n",
    "if save:\n",
    "    plot_factor_reconstructions(reconstructions['KNN'], size=10, plot_diagonal=True, plot_regression=False,\n",
    "                                filename=path.join(plot_dir, 'Fig5a_KNN_factor_reconstructions.png'))\n",
    "    plot_factor_reconstructions(reconstructions['RidgeCV'], size=10, plot_diagonal=True, plot_regression=False,\n",
    "                                filename=path.join(plot_dir, 'Fig5b_RidgeCV_factor_reconstructions.png'))"
   ]
  },
  {
   "cell_type": "markdown",
   "metadata": {},
   "source": [
    "##### Using TSNE"
   ]
  },
  {
   "cell_type": "markdown",
   "metadata": {},
   "source": [
    "More complicate, we can visualize this by looking at the MDS plotting:\n",
    "1. The original DVs\n",
    "2. The \"best\" reconstruction using all the data\n",
    "3. The n_reps simulated estimates with a smaller population size"
   ]
  },
  {
   "cell_type": "code",
   "execution_count": null,
   "metadata": {},
   "outputs": [],
   "source": [
    "plot_reconstruction_2D(reconstructions['KNN'], n_reps=30, n_colored=6, use_background=True, seed=100)"
   ]
  },
  {
   "cell_type": "markdown",
   "metadata": {},
   "source": [
    "### Save Visualizations"
   ]
  },
  {
   "cell_type": "code",
   "execution_count": null,
   "metadata": {},
   "outputs": [],
   "source": [
    "if save:\n",
    "    for name, reconstruction in reconstructions.items():\n",
    "        plot_reconstruction_hist(reconstruction, title='KNN Reconstruction', size=14,\n",
    "                                filename=path.join(plot_dir, name+'_recon_hist.pdf'))\n",
    "        plot_factor_reconstructions(reconstruction, size=10,\n",
    "                                   filename=path.join(plot_dir, name+'_factor_recon.pdf'))"
   ]
  },
  {
   "cell_type": "markdown",
   "metadata": {},
   "source": [
    "## Reduced Reconstruction using fewer contextualizing variables"
   ]
  },
  {
   "cell_type": "code",
   "execution_count": null,
   "metadata": {},
   "outputs": [],
   "source": [
    "results = results\n",
    "regex_list = ['^stroop']\n",
    "n_reps = 5\n",
    "k_list = (5,10)\n",
    "metric = knn_metric\n",
    "EFA_rotation = 'oblimin'\n",
    "independent_EFA=False\n",
    "recon_fun=linear_reconstruction"
   ]
  },
  {
   "cell_type": "code",
   "execution_count": null,
   "metadata": {},
   "outputs": [],
   "source": [
    "from selfregulation.utils.r_to_py_utils import psychFA\n",
    "from sklearn.neighbors import KNeighborsRegressor\n",
    "\n",
    "def reorder_FA(ref_FA, new_FA):\n",
    "    \"\"\" Reorder FA to correspond to old FA, and check that there is such a correspondence\"\"\"\n",
    "    c = len(ref_FA.columns)\n",
    "    corr = pd.concat([ref_FA, new_FA], axis=1, sort=False).corr().iloc[c:, :c]\n",
    "    new_FA = new_FA.loc[:,corr.idxmax()]\n",
    "    new_FA.columns = ref_FA.columns\n",
    "    # if the correlation is low, the factors are completely off\n",
    "    if corr.max().min() < .9:\n",
    "        return None\n",
    "    else:\n",
    "        return new_FA\n",
    "\n",
    "def run_kNeighbors(distances, loadings, test_vars, \n",
    "                   weightings=('uniform',), k_list=(3)):\n",
    "    \"\"\"\n",
    "    Run Knearest neighbor using precomputed distances to create an ontological mapping\n",
    "    \n",
    "    Args:\n",
    "        distances: square distance matrix to pass to KNeighborsRegressors\n",
    "        loadings: loading matrix for training\n",
    "        test_vars: variable to reconstruct\n",
    "        weightings: (optional) list of weightings to pass to KNeighbors\n",
    "        k_list: list of k values to pass to KNeighbors as n_neighbors\n",
    "    \"\"\"\n",
    "    train_distances = distances.loc[loadings.index, loadings.index]\n",
    "    test_distances = distances.loc[test_vars, loadings.index]\n",
    "    to_return = pd.DataFrame()\n",
    "    for weighting in weightings:\n",
    "        for k in k_list:\n",
    "            clf = KNeighborsRegressor(metric='precomputed', n_neighbors=k, weights=weighting)\n",
    "            clf.fit(train_distances, loadings)\n",
    "            out = clf.predict(test_distances)\n",
    "            out = pd.DataFrame(out, columns=loadings.columns)\n",
    "            out['var'] = test_vars\n",
    "            out['k'] = k\n",
    "            out['weighting'] = weighting\n",
    "            # add neighbors and distances\n",
    "            neighbors = clf.kneighbors(test_distances)\n",
    "            out['distances'] = tuple(neighbors[0])\n",
    "            out['neighbors'] = tuple(test_distances.columns[neighbors[1]])\n",
    "            to_return = pd.concat([to_return, out], sort=False)\n",
    "    return to_return\n",
    "    \n",
    "    \n",
    "def run_EFA(data, c, rotation, orig_loading):\n",
    "    fa, out = psychFA(data, c, rotate=EFA_rotation)\n",
    "    loadings = pd.DataFrame(out['loadings'], index=data.columns)\n",
    "    loadings = reorder_FA(orig_loadings, loadings)\n",
    "    return loadings\n",
    "\n",
    "def get_closest(data, target, n_tasks=5, metric='correlation'):\n",
    "    index = data.columns.get_loc(target)\n",
    "    distances = squareform(pdist(data.T, metric=metric))\n",
    "    sort_vars = data.columns[np.argsort(distances[index])]\n",
    "    # get closest tasks until tasks are filled up\n",
    "    tasks = set()\n",
    "    for var in sort_vars:\n",
    "        task, *_ = var.split('.')\n",
    "        tasks.add(task)\n",
    "        if len(tasks) == n_tasks:\n",
    "            break\n",
    "    # get variables from tasks\n",
    "    neighbors = data.filter(regex='|'.join(tasks)).columns\n",
    "    return neighbors"
   ]
  },
  {
   "cell_type": "code",
   "execution_count": null,
   "metadata": {},
   "outputs": [],
   "source": [
    "full_data = results.data\n",
    "c = results.EFA.get_c()\n",
    "orig_loadings = results.EFA.get_loading(c, rotate=EFA_rotation)\n",
    "\n",
    "full_reconstruction = pd.DataFrame()\n",
    "regex_list = ['^'+m for m in measure_list]\n",
    "\n",
    "for n_available_tasks in range(1,11):\n",
    "    for drop_regex in regex_list:\n",
    "        # refit an EFA model without variable    \n",
    "        drop_vars = list(full_data.filter(regex=drop_regex).columns)\n",
    "        subset = full_data.drop(drop_vars, axis=1)\n",
    "        full_loadings = run_EFA(subset, c, EFA_rotation, orig_loadings)\n",
    "        if full_loadings is None:\n",
    "            continue\n",
    "        for var in drop_vars:\n",
    "            # imagine we have a good estimate of one measure tomap is related to\n",
    "            target = full_data.corr()[var].drop(drop_vars).idxmax()\n",
    "            # get a neighborhood around that target\n",
    "            available_vars = get_closest(full_loadings.T, target, n_tasks=n_available_tasks,\n",
    "                                        metric='correlation')\n",
    "\n",
    "            # get dataset and loadings\n",
    "            data = full_data.loc[:, set(available_vars) | set(drop_vars)]\n",
    "            loadings = full_loadings.loc[available_vars,:]\n",
    "\n",
    "            distances = pd.DataFrame(squareform(pdist(data.T, metric='correlation')), \n",
    "                                     index=data.columns, \n",
    "                                     columns=data.columns).drop(drop_vars, axis=1)\n",
    "            # \n",
    "            weightings = ['distance']\n",
    "            var_reconstruction = run_kNeighbors(distances, loadings, [var], weightings, \n",
    "                                                [min(loadings.shape[0], 13)])\n",
    "            var_reconstruction['label'] = \"closest_reconstruction\"\n",
    "            var_reconstruction['n_tasks'] = n_available_tasks\n",
    "            full_reconstruction = pd.concat([full_reconstruction, var_reconstruction])\n",
    "full_reconstruction = full_reconstruction.sort_values(by='var')\n",
    "full_reconstruction.reset_index(drop=True, inplace=True)"
   ]
  },
  {
   "cell_type": "code",
   "execution_count": null,
   "metadata": {},
   "outputs": [],
   "source": [
    "# get reconstruction scores\n",
    "loadings = results.EFA.get_loading(c=c)\n",
    "loadings\n",
    "scores = []\n",
    "for i, row in full_reconstruction.iterrows():\n",
    "    var = row['var']\n",
    "    onto_embedding = loadings.loc[var]\n",
    "    estimated_embedding = row[onto_embedding.index]\n",
    "    score = np.corrcoef(list(estimated_embedding), \n",
    "                          list(onto_embedding))[0,1]\n",
    "    scores.append(score)\n",
    "full_reconstruction.loc[:, 'score'] = scores"
   ]
  },
  {
   "cell_type": "code",
   "execution_count": null,
   "metadata": {},
   "outputs": [],
   "source": [
    "tmp = []\n",
    "for i,group in full_reconstruction.groupby(['n_tasks']):\n",
    "    group = group.loc[:,['var','score']].set_index('var')\n",
    "    group.columns = [i]\n",
    "    tmp.append(group)\n",
    "approach_compare = pd.concat(tmp, axis=1)\n",
    "approach_compare.columns = [i+': '+str(int(j)) for i,j in approach_compare.columns]"
   ]
  },
  {
   "cell_type": "markdown",
   "metadata": {},
   "source": [
    "## Visualization of Reduced Reconstruction"
   ]
  },
  {
   "cell_type": "code",
   "execution_count": null,
   "metadata": {},
   "outputs": [],
   "source": [
    "f = plt.figure(figsize=(12,8))\n",
    "plot_df = approach_compare.melt(var_name='# Tasks', value_name='Reconstruction Score')\n",
    "sns.boxplot(x='# Tasks', y='Reconstruction Score', data=plot_df, palette='Reds')\n",
    "plt.legend(loc='best')\n",
    "if save:\n",
    "    save_figure(f, path.join(plot_dir, 'Fig7_reduced_reconstructions_box.png'), save_kws={'dpi': 300})"
   ]
  },
  {
   "cell_type": "code",
   "execution_count": null,
   "metadata": {},
   "outputs": [],
   "source": [
    "corr = approach_compare.corr(method='spearman')\n",
    "mean_success = approach_compare.mean().values\n",
    "plot_df = approach_compare\n",
    "size = 2\n",
    "f=sns.pairplot(plot_df.iloc[:,0:8], height=size,\n",
    "             plot_kws={'color': [.4,.4,.4],\n",
    "                       's': 40},\n",
    "             diag_kws={'bins': 20,\n",
    "                      'edgecolor': 'k',\n",
    "                      'linewidth': size/4})\n",
    "axes = f.axes\n",
    "# fix axes limits\n",
    "for i in range(len(f.axes)):\n",
    "    for j in range(len(f.axes)):\n",
    "        ax = axes[i][j]\n",
    "        ax.set_ylim([.15,1.1])\n",
    "        ax.tick_params(left=False, bottom=False,\n",
    "                      labelleft=False, labelbottom=False)\n",
    "        if i!=j:\n",
    "            ax.set_xlim([.15,1.1])\n",
    "            ax.plot(ax.get_xlim(), ax.get_ylim(), lw=size, ls=\"--\", c=\".3\", zorder=-1)\n",
    "        if j<i:\n",
    "            x = .6; y = .3\n",
    "            if mean_success[j] > mean_success[i]:\n",
    "                x = .28; y = 1\n",
    "            ax.text(x, y, r'$\\rho$ = %s' % format_num(corr.iloc[i,j]),\n",
    "                   fontsize=size*8)\n",
    "        # change sizing for upper triangle based on icc\n",
    "        if j>i: \n",
    "            ax.set_visible(False)\n",
    "            #ax.collections[0].set_sizes(plot_df['icc']**2*100)\n",
    "            \n",
    "# color diagonal\n",
    "for i,ax in enumerate(f.diag_axes):\n",
    "    ax.set_title(axes[i][0].get_ylabel(), color=colors[i%4], fontsize=size*9)\n",
    "    for patch in ax.patches:\n",
    "        patch.set_facecolor(colors[i%4])\n",
    "        \n",
    "# color labels\n",
    "for i in range(len(f.axes)):\n",
    "    left_ax = axes[i][0]\n",
    "    bottom_ax = axes[-1][i]\n",
    "    left_ax.set_ylabel(left_ax.get_ylabel(), color=colors[i%4],labelpad=10, fontsize=size*9)\n",
    "    bottom_ax.set_xlabel('')\n",
    "    \n",
    "# set tick spacing\n",
    "ax = axes[-1][-2]\n",
    "ax.tick_params(length=1, width=1, labelleft=True, labelbottom=True)\n",
    "ax.set_xticks([.18, 1])\n",
    "ax.set_xticklabels(['0.2', '1.0'], fontsize=size*8, fontweight='bold')\n",
    "ax.set_yticks([1])\n",
    "ax.set_yticklabels(['1.0'], fontsize=size*8, fontweight='bold')\n",
    "# common X\n",
    "f.fig.text(0.5, 0.02, 'Average DV Reconstruction Score', ha='center', fontsize=size*10)\n",
    "if save:\n",
    "    save_figure(f, path.join(plot_dir, 'SFig2_reduced_reconstructions_mat.png'), save_kws={'dpi': 300})"
   ]
  }
 ],
 "metadata": {
  "kernelspec": {
   "display_name": "Python 3",
   "language": "python",
   "name": "python3"
  },
  "language_info": {
   "codemirror_mode": {
    "name": "ipython",
    "version": 3
   },
   "file_extension": ".py",
   "mimetype": "text/x-python",
   "name": "python",
   "nbconvert_exporter": "python",
   "pygments_lexer": "ipython3",
   "version": "3.5.3"
  }
 },
 "nbformat": 4,
 "nbformat_minor": 2
}
