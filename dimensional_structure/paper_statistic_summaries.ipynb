{
 "cells": [
  {
   "cell_type": "code",
   "execution_count": 1,
   "metadata": {},
   "outputs": [
    {
     "name": "stderr",
     "output_type": "stream",
     "text": [
      "Using TensorFlow backend.\n",
      "/media/Data/Ian/miniconda/envs/SRO/lib/python3.5/site-packages/sklearn/utils/fixes.py:313: FutureWarning: numpy not_equal will not check object identity in the future. The comparison did not return the same result as suggested by the identity (`is`)) and will change.\n",
      "  _nan_object_mask = _nan_object_array != _nan_object_array\n",
      "/media/Data/Ian/miniconda/envs/SRO/lib/python3.5/site-packages/IPython/parallel.py:13: ShimWarning: The `IPython.parallel` package has been deprecated since IPython 4.0. You should import from ipyparallel instead.\n",
      "  \"You should import from ipyparallel instead.\", ShimWarning)\n",
      "/media/Data/Ian/miniconda/envs/SRO/lib/python3.5/site-packages/statsmodels/compat/pandas.py:56: FutureWarning: The pandas.core.datetools module is deprecated and will be removed in a future version. Please use the pandas.tseries module instead.\n",
      "  from pandas.core import datetools\n",
      "/media/Data/Ian/Experiments/expfactory/expfactory-analysis/expanalysis/experiments/survey_processing.py:11: FutureWarning: from_csv is deprecated. Please use read_csv(...) instead. Note that some of the default arguments are different, so please refer to the documentation for from_csv when changing your function calls\n",
      "  reference_scores = pandas.DataFrame.from_csv(os.path.join(file_loc,'survey_subscale_reference.csv'))\n"
     ]
    }
   ],
   "source": [
    "import numpy as np\n",
    "from os import path\n",
    "import pandas as pd\n",
    "import pickle\n",
    "\n",
    "from dimensional_structure.EFA_plots import get_communality, get_adjusted_communality\n",
    "from selfregulation.utils.plot_utils import format_num\n",
    "from selfregulation.utils.r_to_py_utils import get_attr\n",
    "from selfregulation.utils.result_utils import load_results\n",
    "from selfregulation.utils.utils import get_recent_dataset, get_retest_data\n"
   ]
  },
  {
   "cell_type": "code",
   "execution_count": 2,
   "metadata": {},
   "outputs": [],
   "source": [
    "# load results\n",
    "results = load_results(get_recent_dataset())"
   ]
  },
  {
   "cell_type": "code",
   "execution_count": 3,
   "metadata": {},
   "outputs": [],
   "source": [
    "def print_result(s, survey_val, task_val):\n",
    "    num1 = format_num(survey_val, 3)\n",
    "    num2 = format_num(task_val, 3)\n",
    "    print('%s:\\nsurvey: %s\\ntask: %s' % (s, num1, num2))"
   ]
  },
  {
   "cell_type": "markdown",
   "metadata": {},
   "source": [
    "# Main Paper Numeric Results"
   ]
  },
  {
   "cell_type": "markdown",
   "metadata": {},
   "source": [
    "## EFA bootstrapped factor reliability"
   ]
  },
  {
   "cell_type": "code",
   "execution_count": 4,
   "metadata": {},
   "outputs": [
    {
     "name": "stdout",
     "output_type": "stream",
     "text": [
      "# of components not specified, using BIC determined #\n",
      "# of components not specified, using BIC determined #\n",
      "Loading Average SDs across bootstrap samples:\n",
      "survey: 0.016\n",
      "task: 0.016\n"
     ]
    }
   ],
   "source": [
    "survey_boot_sds = results['survey'].EFA.get_boot_stats()['sds'].mean().mean()\n",
    "task_boot_sds = results['task'].EFA.get_boot_stats()['sds'].mean().mean()\n",
    "\n",
    "print_result('Loading Average SDs across bootstrap samples', survey_boot_sds, task_boot_sds)"
   ]
  },
  {
   "cell_type": "markdown",
   "metadata": {},
   "source": [
    "## Variance Expalined by EFA models"
   ]
  },
  {
   "cell_type": "markdown",
   "metadata": {},
   "source": [
    "Get the variance explained for each factor analytic model. Extracted from the fa function from R's Psych package. Equivalent to taking the mean of individual variable communalities."
   ]
  },
  {
   "cell_type": "code",
   "execution_count": 5,
   "metadata": {},
   "outputs": [
    {
     "name": "stdout",
     "output_type": "stream",
     "text": [
      "Variance Expalined:\n",
      "survey: 0.572\n",
      "task: 0.237\n"
     ]
    }
   ],
   "source": [
    "# get variance explained by survey and task EFA\n",
    "survey_EFA_rout = results['survey'].EFA.results['factor_tree_Rout_oblimin'][12]\n",
    "survey_EFA_cummvar = get_attr(survey_EFA_rout, 'Vaccounted')[2,-1]\n",
    "\n",
    "task_EFA_rout = results['task'].EFA.results['factor_tree_Rout_oblimin'][5]\n",
    "task_EFA_cummvar = get_attr(task_EFA_rout, 'Vaccounted')[2,-1]\n",
    "\n",
    "print_result('Variance Expalined', survey_EFA_cummvar, task_EFA_cummvar)"
   ]
  },
  {
   "cell_type": "markdown",
   "metadata": {},
   "source": [
    "\"Adjusted\" variable explained taking into account the reliability of each measure. We first drop out variables with very low reliability (<.2) before conducting this analysis as they can have extreme effects on the communality of a variable. \n",
    "\n",
    "To ensure that the effect of adjustment isn't explained by dropping out these variables we show the variance explained for the reliable measure subsets. It is clear that subsetting is now meaningfully changing the variance explained values for surveys or tasks."
   ]
  },
  {
   "cell_type": "code",
   "execution_count": 6,
   "metadata": {},
   "outputs": [
    {
     "name": "stdout",
     "output_type": "stream",
     "text": [
      "Adjusted Variance Expalined:\n",
      "survey: 0.854\n",
      "task: 0.684\n",
      "Unadjusted Variance Expalined for reliable subset:\n",
      "survey: 0.572\n",
      "task: 0.273\n"
     ]
    }
   ],
   "source": [
    "def return_adjusted(results):\n",
    "    communality = get_communality(results.EFA)\n",
    "    retest_data = get_retest_data(dataset=results.dataset.replace('Complete','Retest'))\n",
    "    # reorder data in line with communality\n",
    "    retest_data = retest_data.loc[communality.index]\n",
    "    adjusted, *_ = get_adjusted_communality(communality, retest_data)\n",
    "    return adjusted\n",
    "\n",
    "survey_adjusted = return_adjusted(results['survey'])\n",
    "task_adjusted = return_adjusted(results['task'])\n",
    "print_result('Adjusted Variance Expalined', survey_adjusted.mean(), task_adjusted.mean())\n",
    "\n",
    "# also calculate the unadjusted communality for the remaining variables\n",
    "unadjusted_survey = get_communality(results['survey'].EFA)[survey_adjusted.index].mean()\n",
    "unadjusted_task = get_communality(results['task'].EFA)[task_adjusted.index].mean()\n",
    "print_result('Unadjusted Variance Expalined for reliable subset', \n",
    "             unadjusted_survey, unadjusted_task)"
   ]
  },
  {
   "cell_type": "markdown",
   "metadata": {},
   "source": [
    "## Factor Correlations"
   ]
  },
  {
   "cell_type": "code",
   "execution_count": 7,
   "metadata": {},
   "outputs": [
    {
     "name": "stdout",
     "output_type": "stream",
     "text": [
      "# of components not specified, using BIC determined #\n"
     ]
    },
    {
     "data": {
      "text/html": [
       "<div>\n",
       "<style scoped>\n",
       "    .dataframe tbody tr th:only-of-type {\n",
       "        vertical-align: middle;\n",
       "    }\n",
       "\n",
       "    .dataframe tbody tr th {\n",
       "        vertical-align: top;\n",
       "    }\n",
       "\n",
       "    .dataframe thead th {\n",
       "        text-align: right;\n",
       "    }\n",
       "</style>\n",
       "<table border=\"1\" class=\"dataframe\">\n",
       "  <thead>\n",
       "    <tr style=\"text-align: right;\">\n",
       "      <th></th>\n",
       "      <th>Sensation Seeking</th>\n",
       "      <th>Mindfulness</th>\n",
       "      <th>Impulsivity</th>\n",
       "      <th>Emotional Control</th>\n",
       "      <th>Goal-Directedness</th>\n",
       "      <th>Reward Sensitivity</th>\n",
       "      <th>Risk Perception</th>\n",
       "      <th>Eating Control</th>\n",
       "      <th>Ethical Risk-Taking</th>\n",
       "      <th>Social Risk-Taking</th>\n",
       "      <th>Financial Risk-Taking</th>\n",
       "      <th>Agreeableness</th>\n",
       "    </tr>\n",
       "  </thead>\n",
       "  <tbody>\n",
       "    <tr>\n",
       "      <th>Sensation Seeking</th>\n",
       "      <td>1.000000</td>\n",
       "      <td>-0.076900</td>\n",
       "      <td>0.177107</td>\n",
       "      <td>0.163535</td>\n",
       "      <td>-0.047678</td>\n",
       "      <td>0.319966</td>\n",
       "      <td>-0.182242</td>\n",
       "      <td>0.016000</td>\n",
       "      <td>0.232938</td>\n",
       "      <td>0.292420</td>\n",
       "      <td>0.304155</td>\n",
       "      <td>-0.160819</td>\n",
       "    </tr>\n",
       "    <tr>\n",
       "      <th>Mindfulness</th>\n",
       "      <td>-0.076900</td>\n",
       "      <td>1.000000</td>\n",
       "      <td>-0.318716</td>\n",
       "      <td>0.463437</td>\n",
       "      <td>0.435908</td>\n",
       "      <td>0.074991</td>\n",
       "      <td>0.093950</td>\n",
       "      <td>-0.451621</td>\n",
       "      <td>-0.272910</td>\n",
       "      <td>0.043419</td>\n",
       "      <td>-0.105012</td>\n",
       "      <td>0.227789</td>\n",
       "    </tr>\n",
       "    <tr>\n",
       "      <th>Impulsivity</th>\n",
       "      <td>0.177107</td>\n",
       "      <td>-0.318716</td>\n",
       "      <td>1.000000</td>\n",
       "      <td>-0.114203</td>\n",
       "      <td>-0.399204</td>\n",
       "      <td>0.233959</td>\n",
       "      <td>-0.144583</td>\n",
       "      <td>0.184118</td>\n",
       "      <td>0.133801</td>\n",
       "      <td>0.050341</td>\n",
       "      <td>0.153207</td>\n",
       "      <td>-0.154823</td>\n",
       "    </tr>\n",
       "    <tr>\n",
       "      <th>Emotional Control</th>\n",
       "      <td>0.163535</td>\n",
       "      <td>0.463437</td>\n",
       "      <td>-0.114203</td>\n",
       "      <td>1.000000</td>\n",
       "      <td>0.286664</td>\n",
       "      <td>0.122571</td>\n",
       "      <td>-0.082857</td>\n",
       "      <td>-0.371895</td>\n",
       "      <td>-0.106479</td>\n",
       "      <td>0.069410</td>\n",
       "      <td>0.099854</td>\n",
       "      <td>0.080508</td>\n",
       "    </tr>\n",
       "    <tr>\n",
       "      <th>Goal-Directedness</th>\n",
       "      <td>-0.047678</td>\n",
       "      <td>0.435908</td>\n",
       "      <td>-0.399204</td>\n",
       "      <td>0.286664</td>\n",
       "      <td>1.000000</td>\n",
       "      <td>0.079591</td>\n",
       "      <td>0.143923</td>\n",
       "      <td>-0.204944</td>\n",
       "      <td>-0.121244</td>\n",
       "      <td>0.002166</td>\n",
       "      <td>-0.021007</td>\n",
       "      <td>0.146247</td>\n",
       "    </tr>\n",
       "    <tr>\n",
       "      <th>Reward Sensitivity</th>\n",
       "      <td>0.319966</td>\n",
       "      <td>0.074991</td>\n",
       "      <td>0.233959</td>\n",
       "      <td>0.122571</td>\n",
       "      <td>0.079591</td>\n",
       "      <td>1.000000</td>\n",
       "      <td>0.088095</td>\n",
       "      <td>0.071221</td>\n",
       "      <td>0.050741</td>\n",
       "      <td>0.213569</td>\n",
       "      <td>0.148853</td>\n",
       "      <td>0.007211</td>\n",
       "    </tr>\n",
       "    <tr>\n",
       "      <th>Risk Perception</th>\n",
       "      <td>-0.182242</td>\n",
       "      <td>0.093950</td>\n",
       "      <td>-0.144583</td>\n",
       "      <td>-0.082857</td>\n",
       "      <td>0.143923</td>\n",
       "      <td>0.088095</td>\n",
       "      <td>1.000000</td>\n",
       "      <td>-0.045313</td>\n",
       "      <td>-0.129149</td>\n",
       "      <td>-0.065739</td>\n",
       "      <td>-0.227738</td>\n",
       "      <td>0.141915</td>\n",
       "    </tr>\n",
       "    <tr>\n",
       "      <th>Eating Control</th>\n",
       "      <td>0.016000</td>\n",
       "      <td>-0.451621</td>\n",
       "      <td>0.184118</td>\n",
       "      <td>-0.371895</td>\n",
       "      <td>-0.204944</td>\n",
       "      <td>0.071221</td>\n",
       "      <td>-0.045313</td>\n",
       "      <td>1.000000</td>\n",
       "      <td>0.243305</td>\n",
       "      <td>-0.070266</td>\n",
       "      <td>0.073621</td>\n",
       "      <td>-0.134568</td>\n",
       "    </tr>\n",
       "    <tr>\n",
       "      <th>Ethical Risk-Taking</th>\n",
       "      <td>0.232938</td>\n",
       "      <td>-0.272910</td>\n",
       "      <td>0.133801</td>\n",
       "      <td>-0.106479</td>\n",
       "      <td>-0.121244</td>\n",
       "      <td>0.050741</td>\n",
       "      <td>-0.129149</td>\n",
       "      <td>0.243305</td>\n",
       "      <td>1.000000</td>\n",
       "      <td>0.037039</td>\n",
       "      <td>0.274195</td>\n",
       "      <td>-0.214702</td>\n",
       "    </tr>\n",
       "    <tr>\n",
       "      <th>Social Risk-Taking</th>\n",
       "      <td>0.292420</td>\n",
       "      <td>0.043419</td>\n",
       "      <td>0.050341</td>\n",
       "      <td>0.069410</td>\n",
       "      <td>0.002166</td>\n",
       "      <td>0.213569</td>\n",
       "      <td>-0.065739</td>\n",
       "      <td>-0.070266</td>\n",
       "      <td>0.037039</td>\n",
       "      <td>1.000000</td>\n",
       "      <td>0.072165</td>\n",
       "      <td>-0.014380</td>\n",
       "    </tr>\n",
       "    <tr>\n",
       "      <th>Financial Risk-Taking</th>\n",
       "      <td>0.304155</td>\n",
       "      <td>-0.105012</td>\n",
       "      <td>0.153207</td>\n",
       "      <td>0.099854</td>\n",
       "      <td>-0.021007</td>\n",
       "      <td>0.148853</td>\n",
       "      <td>-0.227738</td>\n",
       "      <td>0.073621</td>\n",
       "      <td>0.274195</td>\n",
       "      <td>0.072165</td>\n",
       "      <td>1.000000</td>\n",
       "      <td>-0.099578</td>\n",
       "    </tr>\n",
       "    <tr>\n",
       "      <th>Agreeableness</th>\n",
       "      <td>-0.160819</td>\n",
       "      <td>0.227789</td>\n",
       "      <td>-0.154823</td>\n",
       "      <td>0.080508</td>\n",
       "      <td>0.146247</td>\n",
       "      <td>0.007211</td>\n",
       "      <td>0.141915</td>\n",
       "      <td>-0.134568</td>\n",
       "      <td>-0.214702</td>\n",
       "      <td>-0.014380</td>\n",
       "      <td>-0.099578</td>\n",
       "      <td>1.000000</td>\n",
       "    </tr>\n",
       "  </tbody>\n",
       "</table>\n",
       "</div>"
      ],
      "text/plain": [
       "                       Sensation Seeking  Mindfulness  Impulsivity  \\\n",
       "Sensation Seeking               1.000000    -0.076900     0.177107   \n",
       "Mindfulness                    -0.076900     1.000000    -0.318716   \n",
       "Impulsivity                     0.177107    -0.318716     1.000000   \n",
       "Emotional Control               0.163535     0.463437    -0.114203   \n",
       "Goal-Directedness              -0.047678     0.435908    -0.399204   \n",
       "Reward Sensitivity              0.319966     0.074991     0.233959   \n",
       "Risk Perception                -0.182242     0.093950    -0.144583   \n",
       "Eating Control                  0.016000    -0.451621     0.184118   \n",
       "Ethical Risk-Taking             0.232938    -0.272910     0.133801   \n",
       "Social Risk-Taking              0.292420     0.043419     0.050341   \n",
       "Financial Risk-Taking           0.304155    -0.105012     0.153207   \n",
       "Agreeableness                  -0.160819     0.227789    -0.154823   \n",
       "\n",
       "                       Emotional Control  Goal-Directedness  \\\n",
       "Sensation Seeking               0.163535          -0.047678   \n",
       "Mindfulness                     0.463437           0.435908   \n",
       "Impulsivity                    -0.114203          -0.399204   \n",
       "Emotional Control               1.000000           0.286664   \n",
       "Goal-Directedness               0.286664           1.000000   \n",
       "Reward Sensitivity              0.122571           0.079591   \n",
       "Risk Perception                -0.082857           0.143923   \n",
       "Eating Control                 -0.371895          -0.204944   \n",
       "Ethical Risk-Taking            -0.106479          -0.121244   \n",
       "Social Risk-Taking              0.069410           0.002166   \n",
       "Financial Risk-Taking           0.099854          -0.021007   \n",
       "Agreeableness                   0.080508           0.146247   \n",
       "\n",
       "                       Reward Sensitivity  Risk Perception  Eating Control  \\\n",
       "Sensation Seeking                0.319966        -0.182242        0.016000   \n",
       "Mindfulness                      0.074991         0.093950       -0.451621   \n",
       "Impulsivity                      0.233959        -0.144583        0.184118   \n",
       "Emotional Control                0.122571        -0.082857       -0.371895   \n",
       "Goal-Directedness                0.079591         0.143923       -0.204944   \n",
       "Reward Sensitivity               1.000000         0.088095        0.071221   \n",
       "Risk Perception                  0.088095         1.000000       -0.045313   \n",
       "Eating Control                   0.071221        -0.045313        1.000000   \n",
       "Ethical Risk-Taking              0.050741        -0.129149        0.243305   \n",
       "Social Risk-Taking               0.213569        -0.065739       -0.070266   \n",
       "Financial Risk-Taking            0.148853        -0.227738        0.073621   \n",
       "Agreeableness                    0.007211         0.141915       -0.134568   \n",
       "\n",
       "                       Ethical Risk-Taking  Social Risk-Taking  \\\n",
       "Sensation Seeking                 0.232938            0.292420   \n",
       "Mindfulness                      -0.272910            0.043419   \n",
       "Impulsivity                       0.133801            0.050341   \n",
       "Emotional Control                -0.106479            0.069410   \n",
       "Goal-Directedness                -0.121244            0.002166   \n",
       "Reward Sensitivity                0.050741            0.213569   \n",
       "Risk Perception                  -0.129149           -0.065739   \n",
       "Eating Control                    0.243305           -0.070266   \n",
       "Ethical Risk-Taking               1.000000            0.037039   \n",
       "Social Risk-Taking                0.037039            1.000000   \n",
       "Financial Risk-Taking             0.274195            0.072165   \n",
       "Agreeableness                    -0.214702           -0.014380   \n",
       "\n",
       "                       Financial Risk-Taking  Agreeableness  \n",
       "Sensation Seeking                   0.304155      -0.160819  \n",
       "Mindfulness                        -0.105012       0.227789  \n",
       "Impulsivity                         0.153207      -0.154823  \n",
       "Emotional Control                   0.099854       0.080508  \n",
       "Goal-Directedness                  -0.021007       0.146247  \n",
       "Reward Sensitivity                  0.148853       0.007211  \n",
       "Risk Perception                    -0.227738       0.141915  \n",
       "Eating Control                      0.073621      -0.134568  \n",
       "Ethical Risk-Taking                 0.274195      -0.214702  \n",
       "Social Risk-Taking                  0.072165      -0.014380  \n",
       "Financial Risk-Taking               1.000000      -0.099578  \n",
       "Agreeableness                      -0.099578       1.000000  "
      ]
     },
     "execution_count": 7,
     "metadata": {},
     "output_type": "execute_result"
    }
   ],
   "source": [
    "results['survey'].EFA.get_scores().corr()"
   ]
  },
  {
   "cell_type": "code",
   "execution_count": 8,
   "metadata": {},
   "outputs": [
    {
     "name": "stdout",
     "output_type": "stream",
     "text": [
      "# of components not specified, using BIC determined #\n"
     ]
    },
    {
     "data": {
      "text/html": [
       "<div>\n",
       "<style scoped>\n",
       "    .dataframe tbody tr th:only-of-type {\n",
       "        vertical-align: middle;\n",
       "    }\n",
       "\n",
       "    .dataframe tbody tr th {\n",
       "        vertical-align: top;\n",
       "    }\n",
       "\n",
       "    .dataframe thead th {\n",
       "        text-align: right;\n",
       "    }\n",
       "</style>\n",
       "<table border=\"1\" class=\"dataframe\">\n",
       "  <thead>\n",
       "    <tr style=\"text-align: right;\">\n",
       "      <th></th>\n",
       "      <th>Speeded IP</th>\n",
       "      <th>Strategic IP</th>\n",
       "      <th>Discounting</th>\n",
       "      <th>Perc / Resp</th>\n",
       "      <th>Caution</th>\n",
       "    </tr>\n",
       "  </thead>\n",
       "  <tbody>\n",
       "    <tr>\n",
       "      <th>Speeded IP</th>\n",
       "      <td>1.000000</td>\n",
       "      <td>0.292228</td>\n",
       "      <td>-0.108150</td>\n",
       "      <td>-0.120801</td>\n",
       "      <td>0.174412</td>\n",
       "    </tr>\n",
       "    <tr>\n",
       "      <th>Strategic IP</th>\n",
       "      <td>0.292228</td>\n",
       "      <td>1.000000</td>\n",
       "      <td>-0.189523</td>\n",
       "      <td>-0.144948</td>\n",
       "      <td>-0.008188</td>\n",
       "    </tr>\n",
       "    <tr>\n",
       "      <th>Discounting</th>\n",
       "      <td>-0.108150</td>\n",
       "      <td>-0.189523</td>\n",
       "      <td>1.000000</td>\n",
       "      <td>0.019427</td>\n",
       "      <td>-0.012960</td>\n",
       "    </tr>\n",
       "    <tr>\n",
       "      <th>Perc / Resp</th>\n",
       "      <td>-0.120801</td>\n",
       "      <td>-0.144948</td>\n",
       "      <td>0.019427</td>\n",
       "      <td>1.000000</td>\n",
       "      <td>0.126365</td>\n",
       "    </tr>\n",
       "    <tr>\n",
       "      <th>Caution</th>\n",
       "      <td>0.174412</td>\n",
       "      <td>-0.008188</td>\n",
       "      <td>-0.012960</td>\n",
       "      <td>0.126365</td>\n",
       "      <td>1.000000</td>\n",
       "    </tr>\n",
       "  </tbody>\n",
       "</table>\n",
       "</div>"
      ],
      "text/plain": [
       "              Speeded IP  Strategic IP  Discounting  Perc / Resp   Caution\n",
       "Speeded IP      1.000000      0.292228    -0.108150    -0.120801  0.174412\n",
       "Strategic IP    0.292228      1.000000    -0.189523    -0.144948 -0.008188\n",
       "Discounting    -0.108150     -0.189523     1.000000     0.019427 -0.012960\n",
       "Perc / Resp    -0.120801     -0.144948     0.019427     1.000000  0.126365\n",
       "Caution         0.174412     -0.008188    -0.012960     0.126365  1.000000"
      ]
     },
     "execution_count": 8,
     "metadata": {},
     "output_type": "execute_result"
    }
   ],
   "source": [
    "results['task'].EFA.get_scores().corr()"
   ]
  },
  {
   "cell_type": "markdown",
   "metadata": {},
   "source": [
    "## Prediction Results"
   ]
  },
  {
   "cell_type": "code",
   "execution_count": 51,
   "metadata": {},
   "outputs": [
    {
     "name": "stderr",
     "output_type": "stream",
     "text": [
      "/media/Data/Ian/miniconda/envs/SRO/lib/python3.5/site-packages/sklearn/base.py:251: UserWarning: Trying to unpickle estimator RidgeCV from version 0.19.0 when using version 0.20.0. This might lead to breaking code or invalid results. Use at your own risk.\n",
      "  UserWarning)\n"
     ]
    }
   ],
   "source": []
  },
  {
   "cell_type": "code",
   "execution_count": 52,
   "metadata": {},
   "outputs": [
    {
     "name": "stdout",
     "output_type": "stream",
     "text": [
      "Prediction Performance:\n",
      "survey: ['0.100', '0.036', '0.285']\n",
      "task: ['0.012', '0.002', '0.042']\n"
     ]
    }
   ],
   "source": [
    "def get_pred_summary(predictions, scores='scores_cv'):\n",
    "    R2s = []\n",
    "    for k,v in predictions.items():\n",
    "        R2s.append(v[scores][0]['R2'])\n",
    "    return np.mean(R2s), np.min(R2s), np.max(R2s), np.array(R2s)\n",
    "\n"
   ]
  },
  {
   "cell_type": "code",
   "execution_count": 61,
   "metadata": {},
   "outputs": [
    {
     "name": "stdout",
     "output_type": "stream",
     "text": [
      "****************************** Ontology ridge ******************************\n",
      "Mean, Min, Max Performance\n",
      "Prediction Performance:\n",
      "survey: ['0.100', '0.036', '0.285']\n",
      "task: ['0.012', '0.002', '0.042']\n",
      "\n",
      "Insample exaggeration Proportion:\n",
      "survey: 1.642\n",
      "task: 3.818\n",
      "\n",
      "Insample exaggeration Absolute:\n",
      "survey: 0.040\n",
      "task: 0.014\n",
      "****************************** Raw ridge ******************************\n",
      "Mean, Min, Max Performance\n",
      "Prediction Performance:\n",
      "survey: ['0.103', '0.035', '0.257']\n",
      "task: ['0.011', '0.000', '0.040']\n",
      "\n",
      "Insample exaggeration Proportion:\n",
      "survey: 3.577\n",
      "task: 35485.737\n",
      "\n",
      "Insample exaggeration Absolute:\n",
      "survey: 0.173\n",
      "task: 0.275\n",
      "****************************** Ontology svm ******************************\n",
      "Mean, Min, Max Performance\n",
      "Prediction Performance:\n",
      "survey: ['0.086', '0.004', '0.278']\n",
      "task: ['0.010', '0.000', '0.042']\n",
      "\n",
      "Insample exaggeration Proportion:\n",
      "survey: 1.775\n",
      "task: 30.629\n",
      "\n",
      "Insample exaggeration Absolute:\n",
      "survey: 0.027\n",
      "task: 0.010\n",
      "****************************** Raw svm ******************************\n",
      "Mean, Min, Max Performance\n",
      "Prediction Performance:\n",
      "survey: ['0.099', '0.004', '0.271']\n",
      "task: ['0.009', '0.000', '0.041']\n",
      "\n",
      "Insample exaggeration Proportion:\n",
      "survey: 3.091\n",
      "task: 124.860\n",
      "\n",
      "Insample exaggeration Absolute:\n",
      "survey: 0.102\n",
      "task: 0.153\n"
     ]
    },
    {
     "name": "stderr",
     "output_type": "stream",
     "text": [
      "/media/Data/Ian/miniconda/envs/SRO/lib/python3.5/site-packages/sklearn/base.py:251: UserWarning: Trying to unpickle estimator RidgeCV from version 0.19.0 when using version 0.20.0. This might lead to breaking code or invalid results. Use at your own risk.\n",
      "  UserWarning)\n",
      "/media/Data/Ian/miniconda/envs/SRO/lib/python3.5/site-packages/sklearn/base.py:251: UserWarning: Trying to unpickle estimator LinearSVR from version 0.19.0 when using version 0.20.0. This might lead to breaking code or invalid results. Use at your own risk.\n",
      "  UserWarning)\n"
     ]
    }
   ],
   "source": [
    "for classifier in ['ridge', 'svm']:\n",
    "    for EFA in [True, False]:\n",
    "        EFA_tag = 'Ontology' if EFA else 'Raw'\n",
    "        print('*'*30, EFA_tag, classifier, '*'*30)\n",
    "        # Load the prediction resultings using ridge regression with EFA factors as predictors\n",
    "        survey_prediction_results = results['survey'].load_prediction_object(classifier=classifier, EFA=EFA)['data']\n",
    "        task_prediction_results = results['task'].load_prediction_object(classifier=classifier, EFA=EFA)['data']\n",
    "\n",
    "        print ('Mean, Min, Max Performance')\n",
    "        survey_out = get_pred_summary(survey_prediction_results)\n",
    "        task_out = get_pred_summary(task_prediction_results)\n",
    "        print_result('Prediction Performance', survey_out[:-1], task_out[:-1])\n",
    "\n",
    "        # evaluate degree of overestimation when performing insample prediction\n",
    "        survey_insample = get_pred_summary(survey_prediction_results, scores='scores_insample')[-1]\n",
    "        task_insample = get_pred_summary(task_prediction_results, scores='scores_insample')[-1]\n",
    "\n",
    "        survey_exaggeration = np.mean(survey_insample/survey_out[-1])\n",
    "        task_exaggeration = np.mean(task_insample/task_out[-1])\n",
    "        print_result('\\nInsample exaggeration Proportion', survey_exaggeration, task_exaggeration)\n",
    "\n",
    "        survey_exaggeration = np.mean(survey_insample-survey_out[-1])\n",
    "        task_exaggeration = np.mean(task_insample-task_out[-1])\n",
    "        print_result('\\nInsample exaggeration Absolute', survey_exaggeration, task_exaggeration)"
   ]
  },
  {
   "cell_type": "code",
   "execution_count": 54,
   "metadata": {},
   "outputs": [
    {
     "name": "stdout",
     "output_type": "stream",
     "text": [
      "Insample exaggeration Proportion:\n",
      "survey: 1.642\n",
      "task: 3.818\n",
      "Insample exaggeration Absolute:\n",
      "survey: 0.040\n",
      "task: 0.014\n"
     ]
    }
   ],
   "source": []
  },
  {
   "cell_type": "code",
   "execution_count": null,
   "metadata": {},
   "outputs": [],
   "source": []
  }
 ],
 "metadata": {
  "kernelspec": {
   "display_name": "Python 3",
   "language": "python",
   "name": "python3"
  },
  "language_info": {
   "codemirror_mode": {
    "name": "ipython",
    "version": 3
   },
   "file_extension": ".py",
   "mimetype": "text/x-python",
   "name": "python",
   "nbconvert_exporter": "python",
   "pygments_lexer": "ipython3",
   "version": "3.5.3"
  }
 },
 "nbformat": 4,
 "nbformat_minor": 2
}
